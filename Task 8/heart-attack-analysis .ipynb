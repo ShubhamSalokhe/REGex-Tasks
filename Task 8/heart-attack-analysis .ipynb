{
 "cells": [
  {
   "cell_type": "markdown",
   "id": "c93ae7a6",
   "metadata": {},
   "source": [
    "# Assignment 7.2"
   ]
  },
  {
   "cell_type": "markdown",
   "id": "8dc95d4d",
   "metadata": {},
   "source": [
    "REFERRAL CODE: SIRSS2105\n",
    "<br>**SHUBHAM SALOKHE**"
   ]
  },
  {
   "cell_type": "markdown",
   "id": "e59535ea",
   "metadata": {},
   "source": [
    "**Heart Attack Analysis & Prediction**\n",
    "\n",
    "\n",
    "- Analysis & Predict Heart Attack based on Age, Gender, No. of disease they have and some other aspects\n",
    "https://www.kaggle.com/rashikrahmanpritom/heart-attack-analysis-prediction-dataset/tasks?taskId=3833"
   ]
  },
  {
   "cell_type": "code",
   "execution_count": 2,
   "id": "aa9806db",
   "metadata": {
    "execution": {
     "iopub.execute_input": "2021-09-29T06:33:21.353147Z",
     "iopub.status.busy": "2021-09-29T06:33:21.352512Z",
     "iopub.status.idle": "2021-09-29T06:33:21.378944Z",
     "shell.execute_reply": "2021-09-29T06:33:21.378231Z",
     "shell.execute_reply.started": "2021-09-29T04:02:29.884535Z"
    },
    "papermill": {
     "duration": 0.073845,
     "end_time": "2021-09-29T06:33:21.379103",
     "exception": false,
     "start_time": "2021-09-29T06:33:21.305258",
     "status": "completed"
    },
    "tags": []
   },
   "outputs": [],
   "source": [
    "df_train = pd.read_csv('heart.csv')\n",
    "df_test = pd.read_csv('o2Saturation.csv')"
   ]
  },
  {
   "cell_type": "code",
   "execution_count": 3,
   "id": "67058171",
   "metadata": {
    "execution": {
     "iopub.execute_input": "2021-09-29T06:33:21.477479Z",
     "iopub.status.busy": "2021-09-29T06:33:21.476549Z",
     "iopub.status.idle": "2021-09-29T06:33:21.493240Z",
     "shell.execute_reply": "2021-09-29T06:33:21.493775Z",
     "shell.execute_reply.started": "2021-09-29T04:02:29.912654Z"
    },
    "papermill": {
     "duration": 0.070389,
     "end_time": "2021-09-29T06:33:21.493959",
     "exception": false,
     "start_time": "2021-09-29T06:33:21.423570",
     "status": "completed"
    },
    "tags": []
   },
   "outputs": [
    {
     "data": {
      "text/html": [
       "<div>\n",
       "<style scoped>\n",
       "    .dataframe tbody tr th:only-of-type {\n",
       "        vertical-align: middle;\n",
       "    }\n",
       "\n",
       "    .dataframe tbody tr th {\n",
       "        vertical-align: top;\n",
       "    }\n",
       "\n",
       "    .dataframe thead th {\n",
       "        text-align: right;\n",
       "    }\n",
       "</style>\n",
       "<table border=\"1\" class=\"dataframe\">\n",
       "  <thead>\n",
       "    <tr style=\"text-align: right;\">\n",
       "      <th></th>\n",
       "      <th>age</th>\n",
       "      <th>sex</th>\n",
       "      <th>cp</th>\n",
       "      <th>trtbps</th>\n",
       "      <th>chol</th>\n",
       "      <th>fbs</th>\n",
       "      <th>restecg</th>\n",
       "      <th>thalachh</th>\n",
       "      <th>exng</th>\n",
       "      <th>oldpeak</th>\n",
       "      <th>slp</th>\n",
       "      <th>caa</th>\n",
       "      <th>thall</th>\n",
       "      <th>output</th>\n",
       "    </tr>\n",
       "  </thead>\n",
       "  <tbody>\n",
       "    <tr>\n",
       "      <th>0</th>\n",
       "      <td>63</td>\n",
       "      <td>1</td>\n",
       "      <td>3</td>\n",
       "      <td>145</td>\n",
       "      <td>233</td>\n",
       "      <td>1</td>\n",
       "      <td>0</td>\n",
       "      <td>150</td>\n",
       "      <td>0</td>\n",
       "      <td>2.3</td>\n",
       "      <td>0</td>\n",
       "      <td>0</td>\n",
       "      <td>1</td>\n",
       "      <td>1</td>\n",
       "    </tr>\n",
       "    <tr>\n",
       "      <th>1</th>\n",
       "      <td>37</td>\n",
       "      <td>1</td>\n",
       "      <td>2</td>\n",
       "      <td>130</td>\n",
       "      <td>250</td>\n",
       "      <td>0</td>\n",
       "      <td>1</td>\n",
       "      <td>187</td>\n",
       "      <td>0</td>\n",
       "      <td>3.5</td>\n",
       "      <td>0</td>\n",
       "      <td>0</td>\n",
       "      <td>2</td>\n",
       "      <td>1</td>\n",
       "    </tr>\n",
       "    <tr>\n",
       "      <th>2</th>\n",
       "      <td>41</td>\n",
       "      <td>0</td>\n",
       "      <td>1</td>\n",
       "      <td>130</td>\n",
       "      <td>204</td>\n",
       "      <td>0</td>\n",
       "      <td>0</td>\n",
       "      <td>172</td>\n",
       "      <td>0</td>\n",
       "      <td>1.4</td>\n",
       "      <td>2</td>\n",
       "      <td>0</td>\n",
       "      <td>2</td>\n",
       "      <td>1</td>\n",
       "    </tr>\n",
       "    <tr>\n",
       "      <th>3</th>\n",
       "      <td>56</td>\n",
       "      <td>1</td>\n",
       "      <td>1</td>\n",
       "      <td>120</td>\n",
       "      <td>236</td>\n",
       "      <td>0</td>\n",
       "      <td>1</td>\n",
       "      <td>178</td>\n",
       "      <td>0</td>\n",
       "      <td>0.8</td>\n",
       "      <td>2</td>\n",
       "      <td>0</td>\n",
       "      <td>2</td>\n",
       "      <td>1</td>\n",
       "    </tr>\n",
       "    <tr>\n",
       "      <th>4</th>\n",
       "      <td>57</td>\n",
       "      <td>0</td>\n",
       "      <td>0</td>\n",
       "      <td>120</td>\n",
       "      <td>354</td>\n",
       "      <td>0</td>\n",
       "      <td>1</td>\n",
       "      <td>163</td>\n",
       "      <td>1</td>\n",
       "      <td>0.6</td>\n",
       "      <td>2</td>\n",
       "      <td>0</td>\n",
       "      <td>2</td>\n",
       "      <td>1</td>\n",
       "    </tr>\n",
       "  </tbody>\n",
       "</table>\n",
       "</div>"
      ],
      "text/plain": [
       "   age  sex  cp  trtbps  chol  fbs  restecg  thalachh  exng  oldpeak  slp  \\\n",
       "0   63    1   3     145   233    1        0       150     0      2.3    0   \n",
       "1   37    1   2     130   250    0        1       187     0      3.5    0   \n",
       "2   41    0   1     130   204    0        0       172     0      1.4    2   \n",
       "3   56    1   1     120   236    0        1       178     0      0.8    2   \n",
       "4   57    0   0     120   354    0        1       163     1      0.6    2   \n",
       "\n",
       "   caa  thall  output  \n",
       "0    0      1       1  \n",
       "1    0      2       1  \n",
       "2    0      2       1  \n",
       "3    0      2       1  \n",
       "4    0      2       1  "
      ]
     },
     "execution_count": 3,
     "metadata": {},
     "output_type": "execute_result"
    }
   ],
   "source": [
    "df_train.head()"
   ]
  },
  {
   "cell_type": "code",
   "execution_count": 4,
   "id": "dcd15ebb",
   "metadata": {
    "execution": {
     "iopub.execute_input": "2021-09-29T06:33:21.592620Z",
     "iopub.status.busy": "2021-09-29T06:33:21.591797Z",
     "iopub.status.idle": "2021-09-29T06:33:21.595053Z",
     "shell.execute_reply": "2021-09-29T06:33:21.595571Z",
     "shell.execute_reply.started": "2021-09-29T04:02:29.938364Z"
    },
    "papermill": {
     "duration": 0.055519,
     "end_time": "2021-09-29T06:33:21.595762",
     "exception": false,
     "start_time": "2021-09-29T06:33:21.540243",
     "status": "completed"
    },
    "tags": []
   },
   "outputs": [
    {
     "data": {
      "text/plain": [
       "(303, 14)"
      ]
     },
     "execution_count": 4,
     "metadata": {},
     "output_type": "execute_result"
    }
   ],
   "source": [
    "df_train.shape"
   ]
  },
  {
   "cell_type": "code",
   "execution_count": 5,
   "id": "2390de39",
   "metadata": {
    "execution": {
     "iopub.execute_input": "2021-09-29T06:33:21.710269Z",
     "iopub.status.busy": "2021-09-29T06:33:21.709579Z",
     "iopub.status.idle": "2021-09-29T06:33:21.712246Z",
     "shell.execute_reply": "2021-09-29T06:33:21.712976Z",
     "shell.execute_reply.started": "2021-09-29T04:02:29.945150Z"
    },
    "papermill": {
     "duration": 0.071667,
     "end_time": "2021-09-29T06:33:21.713195",
     "exception": false,
     "start_time": "2021-09-29T06:33:21.641528",
     "status": "completed"
    },
    "tags": []
   },
   "outputs": [
    {
     "name": "stdout",
     "output_type": "stream",
     "text": [
      "<class 'pandas.core.frame.DataFrame'>\n",
      "RangeIndex: 303 entries, 0 to 302\n",
      "Data columns (total 14 columns):\n",
      " #   Column    Non-Null Count  Dtype  \n",
      "---  ------    --------------  -----  \n",
      " 0   age       303 non-null    int64  \n",
      " 1   sex       303 non-null    int64  \n",
      " 2   cp        303 non-null    int64  \n",
      " 3   trtbps    303 non-null    int64  \n",
      " 4   chol      303 non-null    int64  \n",
      " 5   fbs       303 non-null    int64  \n",
      " 6   restecg   303 non-null    int64  \n",
      " 7   thalachh  303 non-null    int64  \n",
      " 8   exng      303 non-null    int64  \n",
      " 9   oldpeak   303 non-null    float64\n",
      " 10  slp       303 non-null    int64  \n",
      " 11  caa       303 non-null    int64  \n",
      " 12  thall     303 non-null    int64  \n",
      " 13  output    303 non-null    int64  \n",
      "dtypes: float64(1), int64(13)\n",
      "memory usage: 33.3 KB\n"
     ]
    }
   ],
   "source": [
    "df_train.info()"
   ]
  },
  {
   "cell_type": "code",
   "execution_count": 6,
   "id": "c68fff9d",
   "metadata": {
    "execution": {
     "iopub.execute_input": "2021-09-29T06:33:21.810150Z",
     "iopub.status.busy": "2021-09-29T06:33:21.809480Z",
     "iopub.status.idle": "2021-09-29T06:33:22.655381Z",
     "shell.execute_reply": "2021-09-29T06:33:22.656365Z",
     "shell.execute_reply.started": "2021-09-29T04:02:29.978340Z"
    },
    "papermill": {
     "duration": 0.896433,
     "end_time": "2021-09-29T06:33:22.656622",
     "exception": false,
     "start_time": "2021-09-29T06:33:21.760189",
     "status": "completed"
    },
    "tags": []
   },
   "outputs": [],
   "source": [
    "import seaborn as sns\n",
    "import matplotlib.pyplot as plt"
   ]
  },
  {
   "cell_type": "code",
   "execution_count": 7,
   "id": "37230617",
   "metadata": {
    "execution": {
     "iopub.execute_input": "2021-09-29T06:33:22.766954Z",
     "iopub.status.busy": "2021-09-29T06:33:22.765995Z",
     "iopub.status.idle": "2021-09-29T06:33:22.774478Z",
     "shell.execute_reply": "2021-09-29T06:33:22.775006Z",
     "shell.execute_reply.started": "2021-09-29T04:02:30.916401Z"
    },
    "papermill": {
     "duration": 0.058428,
     "end_time": "2021-09-29T06:33:22.775188",
     "exception": false,
     "start_time": "2021-09-29T06:33:22.716760",
     "status": "completed"
    },
    "tags": []
   },
   "outputs": [
    {
     "data": {
      "text/plain": [
       "age         0\n",
       "sex         0\n",
       "cp          0\n",
       "trtbps      0\n",
       "chol        0\n",
       "fbs         0\n",
       "restecg     0\n",
       "thalachh    0\n",
       "exng        0\n",
       "oldpeak     0\n",
       "slp         0\n",
       "caa         0\n",
       "thall       0\n",
       "output      0\n",
       "dtype: int64"
      ]
     },
     "execution_count": 7,
     "metadata": {},
     "output_type": "execute_result"
    }
   ],
   "source": [
    "df_train.isnull().sum().sort_values(ascending = False)"
   ]
  },
  {
   "cell_type": "code",
   "execution_count": 8,
   "id": "e9f27df8",
   "metadata": {
    "execution": {
     "iopub.execute_input": "2021-09-29T06:33:22.877506Z",
     "iopub.status.busy": "2021-09-29T06:33:22.876569Z",
     "iopub.status.idle": "2021-09-29T06:33:22.920156Z",
     "shell.execute_reply": "2021-09-29T06:33:22.920657Z",
     "shell.execute_reply.started": "2021-09-29T04:02:30.928312Z"
    },
    "papermill": {
     "duration": 0.099323,
     "end_time": "2021-09-29T06:33:22.920866",
     "exception": false,
     "start_time": "2021-09-29T06:33:22.821543",
     "status": "completed"
    },
    "tags": []
   },
   "outputs": [
    {
     "data": {
      "text/html": [
       "<div>\n",
       "<style scoped>\n",
       "    .dataframe tbody tr th:only-of-type {\n",
       "        vertical-align: middle;\n",
       "    }\n",
       "\n",
       "    .dataframe tbody tr th {\n",
       "        vertical-align: top;\n",
       "    }\n",
       "\n",
       "    .dataframe thead th {\n",
       "        text-align: right;\n",
       "    }\n",
       "</style>\n",
       "<table border=\"1\" class=\"dataframe\">\n",
       "  <thead>\n",
       "    <tr style=\"text-align: right;\">\n",
       "      <th></th>\n",
       "      <th>age</th>\n",
       "      <th>sex</th>\n",
       "      <th>cp</th>\n",
       "      <th>trtbps</th>\n",
       "      <th>chol</th>\n",
       "      <th>fbs</th>\n",
       "      <th>restecg</th>\n",
       "      <th>thalachh</th>\n",
       "      <th>exng</th>\n",
       "      <th>oldpeak</th>\n",
       "      <th>slp</th>\n",
       "      <th>caa</th>\n",
       "      <th>thall</th>\n",
       "      <th>output</th>\n",
       "    </tr>\n",
       "  </thead>\n",
       "  <tbody>\n",
       "    <tr>\n",
       "      <th>count</th>\n",
       "      <td>303.000000</td>\n",
       "      <td>303.000000</td>\n",
       "      <td>303.000000</td>\n",
       "      <td>303.000000</td>\n",
       "      <td>303.000000</td>\n",
       "      <td>303.000000</td>\n",
       "      <td>303.000000</td>\n",
       "      <td>303.000000</td>\n",
       "      <td>303.000000</td>\n",
       "      <td>303.000000</td>\n",
       "      <td>303.000000</td>\n",
       "      <td>303.000000</td>\n",
       "      <td>303.000000</td>\n",
       "      <td>303.000000</td>\n",
       "    </tr>\n",
       "    <tr>\n",
       "      <th>mean</th>\n",
       "      <td>54.366337</td>\n",
       "      <td>0.683168</td>\n",
       "      <td>0.966997</td>\n",
       "      <td>131.623762</td>\n",
       "      <td>246.264026</td>\n",
       "      <td>0.148515</td>\n",
       "      <td>0.528053</td>\n",
       "      <td>149.646865</td>\n",
       "      <td>0.326733</td>\n",
       "      <td>1.039604</td>\n",
       "      <td>1.399340</td>\n",
       "      <td>0.729373</td>\n",
       "      <td>2.313531</td>\n",
       "      <td>0.544554</td>\n",
       "    </tr>\n",
       "    <tr>\n",
       "      <th>std</th>\n",
       "      <td>9.082101</td>\n",
       "      <td>0.466011</td>\n",
       "      <td>1.032052</td>\n",
       "      <td>17.538143</td>\n",
       "      <td>51.830751</td>\n",
       "      <td>0.356198</td>\n",
       "      <td>0.525860</td>\n",
       "      <td>22.905161</td>\n",
       "      <td>0.469794</td>\n",
       "      <td>1.161075</td>\n",
       "      <td>0.616226</td>\n",
       "      <td>1.022606</td>\n",
       "      <td>0.612277</td>\n",
       "      <td>0.498835</td>\n",
       "    </tr>\n",
       "    <tr>\n",
       "      <th>min</th>\n",
       "      <td>29.000000</td>\n",
       "      <td>0.000000</td>\n",
       "      <td>0.000000</td>\n",
       "      <td>94.000000</td>\n",
       "      <td>126.000000</td>\n",
       "      <td>0.000000</td>\n",
       "      <td>0.000000</td>\n",
       "      <td>71.000000</td>\n",
       "      <td>0.000000</td>\n",
       "      <td>0.000000</td>\n",
       "      <td>0.000000</td>\n",
       "      <td>0.000000</td>\n",
       "      <td>0.000000</td>\n",
       "      <td>0.000000</td>\n",
       "    </tr>\n",
       "    <tr>\n",
       "      <th>25%</th>\n",
       "      <td>47.500000</td>\n",
       "      <td>0.000000</td>\n",
       "      <td>0.000000</td>\n",
       "      <td>120.000000</td>\n",
       "      <td>211.000000</td>\n",
       "      <td>0.000000</td>\n",
       "      <td>0.000000</td>\n",
       "      <td>133.500000</td>\n",
       "      <td>0.000000</td>\n",
       "      <td>0.000000</td>\n",
       "      <td>1.000000</td>\n",
       "      <td>0.000000</td>\n",
       "      <td>2.000000</td>\n",
       "      <td>0.000000</td>\n",
       "    </tr>\n",
       "    <tr>\n",
       "      <th>50%</th>\n",
       "      <td>55.000000</td>\n",
       "      <td>1.000000</td>\n",
       "      <td>1.000000</td>\n",
       "      <td>130.000000</td>\n",
       "      <td>240.000000</td>\n",
       "      <td>0.000000</td>\n",
       "      <td>1.000000</td>\n",
       "      <td>153.000000</td>\n",
       "      <td>0.000000</td>\n",
       "      <td>0.800000</td>\n",
       "      <td>1.000000</td>\n",
       "      <td>0.000000</td>\n",
       "      <td>2.000000</td>\n",
       "      <td>1.000000</td>\n",
       "    </tr>\n",
       "    <tr>\n",
       "      <th>75%</th>\n",
       "      <td>61.000000</td>\n",
       "      <td>1.000000</td>\n",
       "      <td>2.000000</td>\n",
       "      <td>140.000000</td>\n",
       "      <td>274.500000</td>\n",
       "      <td>0.000000</td>\n",
       "      <td>1.000000</td>\n",
       "      <td>166.000000</td>\n",
       "      <td>1.000000</td>\n",
       "      <td>1.600000</td>\n",
       "      <td>2.000000</td>\n",
       "      <td>1.000000</td>\n",
       "      <td>3.000000</td>\n",
       "      <td>1.000000</td>\n",
       "    </tr>\n",
       "    <tr>\n",
       "      <th>max</th>\n",
       "      <td>77.000000</td>\n",
       "      <td>1.000000</td>\n",
       "      <td>3.000000</td>\n",
       "      <td>200.000000</td>\n",
       "      <td>564.000000</td>\n",
       "      <td>1.000000</td>\n",
       "      <td>2.000000</td>\n",
       "      <td>202.000000</td>\n",
       "      <td>1.000000</td>\n",
       "      <td>6.200000</td>\n",
       "      <td>2.000000</td>\n",
       "      <td>4.000000</td>\n",
       "      <td>3.000000</td>\n",
       "      <td>1.000000</td>\n",
       "    </tr>\n",
       "  </tbody>\n",
       "</table>\n",
       "</div>"
      ],
      "text/plain": [
       "              age         sex          cp      trtbps        chol         fbs  \\\n",
       "count  303.000000  303.000000  303.000000  303.000000  303.000000  303.000000   \n",
       "mean    54.366337    0.683168    0.966997  131.623762  246.264026    0.148515   \n",
       "std      9.082101    0.466011    1.032052   17.538143   51.830751    0.356198   \n",
       "min     29.000000    0.000000    0.000000   94.000000  126.000000    0.000000   \n",
       "25%     47.500000    0.000000    0.000000  120.000000  211.000000    0.000000   \n",
       "50%     55.000000    1.000000    1.000000  130.000000  240.000000    0.000000   \n",
       "75%     61.000000    1.000000    2.000000  140.000000  274.500000    0.000000   \n",
       "max     77.000000    1.000000    3.000000  200.000000  564.000000    1.000000   \n",
       "\n",
       "          restecg    thalachh        exng     oldpeak         slp         caa  \\\n",
       "count  303.000000  303.000000  303.000000  303.000000  303.000000  303.000000   \n",
       "mean     0.528053  149.646865    0.326733    1.039604    1.399340    0.729373   \n",
       "std      0.525860   22.905161    0.469794    1.161075    0.616226    1.022606   \n",
       "min      0.000000   71.000000    0.000000    0.000000    0.000000    0.000000   \n",
       "25%      0.000000  133.500000    0.000000    0.000000    1.000000    0.000000   \n",
       "50%      1.000000  153.000000    0.000000    0.800000    1.000000    0.000000   \n",
       "75%      1.000000  166.000000    1.000000    1.600000    2.000000    1.000000   \n",
       "max      2.000000  202.000000    1.000000    6.200000    2.000000    4.000000   \n",
       "\n",
       "            thall      output  \n",
       "count  303.000000  303.000000  \n",
       "mean     2.313531    0.544554  \n",
       "std      0.612277    0.498835  \n",
       "min      0.000000    0.000000  \n",
       "25%      2.000000    0.000000  \n",
       "50%      2.000000    1.000000  \n",
       "75%      3.000000    1.000000  \n",
       "max      3.000000    1.000000  "
      ]
     },
     "execution_count": 8,
     "metadata": {},
     "output_type": "execute_result"
    }
   ],
   "source": [
    "df_train.describe()"
   ]
  },
  {
   "cell_type": "code",
   "execution_count": 11,
   "id": "735f4509",
   "metadata": {
    "execution": {
     "iopub.execute_input": "2021-09-29T06:33:24.580793Z",
     "iopub.status.busy": "2021-09-29T06:33:24.580209Z",
     "iopub.status.idle": "2021-09-29T06:33:25.967360Z",
     "shell.execute_reply": "2021-09-29T06:33:25.967850Z",
     "shell.execute_reply.started": "2021-09-29T04:02:32.388820Z"
    },
    "papermill": {
     "duration": 1.440752,
     "end_time": "2021-09-29T06:33:25.968026",
     "exception": false,
     "start_time": "2021-09-29T06:33:24.527274",
     "status": "completed"
    },
    "tags": []
   },
   "outputs": [
    {
     "data": {
      "text/plain": [
       "<AxesSubplot:>"
      ]
     },
     "execution_count": 11,
     "metadata": {},
     "output_type": "execute_result"
    },
    {
     "data": {
      "image/png": "[encoded data removed]",
      "text/plain": [
       "<Figure size 1080x576 with 2 Axes>"
      ]
     },
     "metadata": {
      "needs_background": "light"
     },
     "output_type": "display_data"
    }
   ],
   "source": [
    "plt.figure(figsize = (15,8))\n",
    "sns.heatmap(df_train.corr(),center = 0, annot =True)"
   ]
  },
  {
   "cell_type": "code",
   "execution_count": 12,
   "id": "3250d387",
   "metadata": {
    "execution": {
     "iopub.execute_input": "2021-09-29T06:33:26.189098Z",
     "iopub.status.busy": "2021-09-29T06:33:26.188475Z",
     "iopub.status.idle": "2021-09-29T06:33:26.198052Z",
     "shell.execute_reply": "2021-09-29T06:33:26.197432Z",
     "shell.execute_reply.started": "2021-09-29T04:02:33.918077Z"
    },
    "papermill": {
     "duration": 0.065643,
     "end_time": "2021-09-29T06:33:26.198183",
     "exception": false,
     "start_time": "2021-09-29T06:33:26.132540",
     "status": "completed"
    },
    "tags": []
   },
   "outputs": [
    {
     "data": {
      "text/plain": [
       "age          41\n",
       "sex           2\n",
       "cp            4\n",
       "trtbps       49\n",
       "chol        152\n",
       "fbs           2\n",
       "restecg       3\n",
       "thalachh     91\n",
       "exng          2\n",
       "oldpeak      40\n",
       "slp           3\n",
       "caa           5\n",
       "thall         4\n",
       "output        2\n",
       "dtype: int64"
      ]
     },
     "execution_count": 12,
     "metadata": {},
     "output_type": "execute_result"
    }
   ],
   "source": [
    "df_train.nunique()"
   ]
  },
  {
   "cell_type": "code",
   "execution_count": 13,
   "id": "17015e2e",
   "metadata": {
    "execution": {
     "iopub.execute_input": "2021-09-29T06:33:26.319423Z",
     "iopub.status.busy": "2021-09-29T06:33:26.318756Z",
     "iopub.status.idle": "2021-09-29T06:33:26.321282Z",
     "shell.execute_reply": "2021-09-29T06:33:26.321751Z",
     "shell.execute_reply.started": "2021-09-29T04:02:33.931222Z"
    },
    "papermill": {
     "duration": 0.069411,
     "end_time": "2021-09-29T06:33:26.321931",
     "exception": false,
     "start_time": "2021-09-29T06:33:26.252520",
     "status": "completed"
    },
    "tags": []
   },
   "outputs": [
    {
     "data": {
      "text/plain": [
       "164     True\n",
       "0      False\n",
       "200    False\n",
       "206    False\n",
       "205    False\n",
       "       ...  \n",
       "100    False\n",
       "99     False\n",
       "98     False\n",
       "97     False\n",
       "302    False\n",
       "Length: 303, dtype: bool"
      ]
     },
     "execution_count": 13,
     "metadata": {},
     "output_type": "execute_result"
    }
   ],
   "source": [
    "df_train.duplicated().sort_values(ascending = False)"
   ]
  },
  {
   "cell_type": "code",
   "execution_count": 14,
   "id": "bc6ec880",
   "metadata": {
    "execution": {
     "iopub.execute_input": "2021-09-29T06:33:26.436474Z",
     "iopub.status.busy": "2021-09-29T06:33:26.435469Z",
     "iopub.status.idle": "2021-09-29T06:33:26.443047Z",
     "shell.execute_reply": "2021-09-29T06:33:26.443471Z",
     "shell.execute_reply.started": "2021-09-29T04:02:33.949835Z"
    },
    "papermill": {
     "duration": 0.06626,
     "end_time": "2021-09-29T06:33:26.443628",
     "exception": false,
     "start_time": "2021-09-29T06:33:26.377368",
     "status": "completed"
    },
    "tags": []
   },
   "outputs": [],
   "source": [
    "pd.options.display.min_rows= 15\n",
    "df_train.drop_duplicates(inplace =True)"
   ]
  },
  {
   "cell_type": "code",
   "execution_count": 15,
   "id": "4396f7af",
   "metadata": {
    "execution": {
     "iopub.execute_input": "2021-09-29T06:33:26.565264Z",
     "iopub.status.busy": "2021-09-29T06:33:26.564589Z",
     "iopub.status.idle": "2021-09-29T06:33:26.566951Z",
     "shell.execute_reply": "2021-09-29T06:33:26.567533Z",
     "shell.execute_reply.started": "2021-09-29T04:02:33.963058Z"
    },
    "papermill": {
     "duration": 0.067818,
     "end_time": "2021-09-29T06:33:26.567693",
     "exception": false,
     "start_time": "2021-09-29T06:33:26.499875",
     "status": "completed"
    },
    "tags": []
   },
   "outputs": [
    {
     "data": {
      "text/plain": [
       "0      False\n",
       "208    False\n",
       "206    False\n",
       "205    False\n",
       "204    False\n",
       "203    False\n",
       "202    False\n",
       "       ...  \n",
       "102    False\n",
       "101    False\n",
       "100    False\n",
       "99     False\n",
       "98     False\n",
       "97     False\n",
       "302    False\n",
       "Length: 302, dtype: bool"
      ]
     },
     "execution_count": 15,
     "metadata": {},
     "output_type": "execute_result"
    }
   ],
   "source": [
    "df_train.duplicated().sort_values(ascending = False)"
   ]
  },
  {
   "cell_type": "code",
   "execution_count": 16,
   "id": "7dedef3a",
   "metadata": {
    "execution": {
     "iopub.execute_input": "2021-09-29T06:33:26.681093Z",
     "iopub.status.busy": "2021-09-29T06:33:26.680425Z",
     "iopub.status.idle": "2021-09-29T06:33:26.685341Z",
     "shell.execute_reply": "2021-09-29T06:33:26.685872Z",
     "shell.execute_reply.started": "2021-09-29T04:02:33.978902Z"
    },
    "papermill": {
     "duration": 0.06323,
     "end_time": "2021-09-29T06:33:26.686030",
     "exception": false,
     "start_time": "2021-09-29T06:33:26.622800",
     "status": "completed"
    },
    "tags": []
   },
   "outputs": [
    {
     "data": {
      "text/plain": [
       "(302, 14)"
      ]
     },
     "execution_count": 16,
     "metadata": {},
     "output_type": "execute_result"
    }
   ],
   "source": [
    "df_train.shape"
   ]
  },
  {
   "cell_type": "code",
   "execution_count": 17,
   "id": "efea07b8",
   "metadata": {
    "execution": {
     "iopub.execute_input": "2021-09-29T06:33:26.802596Z",
     "iopub.status.busy": "2021-09-29T06:33:26.801063Z",
     "iopub.status.idle": "2021-09-29T06:33:26.809470Z",
     "shell.execute_reply": "2021-09-29T06:33:26.809006Z",
     "shell.execute_reply.started": "2021-09-29T04:02:33.986611Z"
    },
    "papermill": {
     "duration": 0.068211,
     "end_time": "2021-09-29T06:33:26.809605",
     "exception": false,
     "start_time": "2021-09-29T06:33:26.741394",
     "status": "completed"
    },
    "tags": []
   },
   "outputs": [
    {
     "data": {
      "text/plain": [
       "age          41\n",
       "sex           2\n",
       "cp            4\n",
       "trtbps       49\n",
       "chol        152\n",
       "fbs           2\n",
       "restecg       3\n",
       "thalachh     91\n",
       "exng          2\n",
       "oldpeak      40\n",
       "slp           3\n",
       "caa           5\n",
       "thall         4\n",
       "output        2\n",
       "dtype: int64"
      ]
     },
     "execution_count": 17,
     "metadata": {},
     "output_type": "execute_result"
    }
   ],
   "source": [
    "df_train.nunique()"
   ]
  },
  {
   "cell_type": "markdown",
   "id": "2f03ee98",
   "metadata": {
    "papermill": {
     "duration": 0.056054,
     "end_time": "2021-09-29T06:33:26.922146",
     "exception": false,
     "start_time": "2021-09-29T06:33:26.866092",
     "status": "completed"
    },
    "tags": []
   },
   "source": [
    "### Visualization "
   ]
  },
  {
   "cell_type": "code",
   "execution_count": 18,
   "id": "4098cde6",
   "metadata": {
    "execution": {
     "iopub.execute_input": "2021-09-29T06:33:27.045135Z",
     "iopub.status.busy": "2021-09-29T06:33:27.039664Z",
     "iopub.status.idle": "2021-09-29T06:33:27.521448Z",
     "shell.execute_reply": "2021-09-29T06:33:27.520640Z",
     "shell.execute_reply.started": "2021-09-29T04:02:34.004438Z"
    },
    "papermill": {
     "duration": 0.543475,
     "end_time": "2021-09-29T06:33:27.521590",
     "exception": false,
     "start_time": "2021-09-29T06:33:26.978115",
     "status": "completed"
    },
    "tags": []
   },
   "outputs": [
    {
     "data": {
      "image/png": "[encoded data removed]",
      "text/plain": [
       "<Figure size 1080x576 with 1 Axes>"
      ]
     },
     "metadata": {
      "needs_background": "light"
     },
     "output_type": "display_data"
    }
   ],
   "source": [
    "# now Looking at the age \n",
    "plt.figure(figsize = (15,8))\n",
    "sns.countplot(x ='age', data = df_train)\n",
    "plt.title('No of peoples by their age', fontsize = 20)\n",
    "plt.xlabel('Age',fontsize =15 )\n",
    "plt.ylabel('Numbers of peooples',fontsize =15 )\n",
    "plt.show()"
   ]
  },
  {
   "cell_type": "code",
   "execution_count": 19,
   "id": "79130c8d",
   "metadata": {
    "execution": {
     "iopub.execute_input": "2021-09-29T06:33:27.638207Z",
     "iopub.status.busy": "2021-09-29T06:33:27.637591Z",
     "iopub.status.idle": "2021-09-29T06:33:27.836699Z",
     "shell.execute_reply": "2021-09-29T06:33:27.835777Z",
     "shell.execute_reply.started": "2021-09-29T04:02:34.554043Z"
    },
    "papermill": {
     "duration": 0.258853,
     "end_time": "2021-09-29T06:33:27.836870",
     "exception": false,
     "start_time": "2021-09-29T06:33:27.578017",
     "status": "completed"
    },
    "tags": []
   },
   "outputs": [
    {
     "name": "stderr",
     "output_type": "stream",
     "text": [
      "/opt/conda/lib/python3.7/site-packages/seaborn/distributions.py:2619: FutureWarning: `distplot` is a deprecated function and will be removed in a future version. Please adapt your code to use either `displot` (a figure-level function with similar flexibility) or `histplot` (an axes-level function for histograms).\n",
      "  warnings.warn(msg, FutureWarning)\n"
     ]
    },
    {
     "data": {
      "image/png": "[encoded data removed]",
      "text/plain": [
       "<Figure size 432x288 with 1 Axes>"
      ]
     },
     "metadata": {
      "needs_background": "light"
     },
     "output_type": "display_data"
    }
   ],
   "source": [
    "sns.distplot(df_train['age'], color='red')\n",
    "plt.title('Distribution of Ages', fontsize=15, pad = 10)\n",
    "plt.xlabel('Ages', fontsize=10)\n",
    "plt.ylabel('Count', fontsize=10)\n",
    "plt.show()"
   ]
  },
  {
   "cell_type": "code",
   "execution_count": 20,
   "id": "85c75a63",
   "metadata": {
    "execution": {
     "iopub.execute_input": "2021-09-29T06:33:27.965522Z",
     "iopub.status.busy": "2021-09-29T06:33:27.964246Z",
     "iopub.status.idle": "2021-09-29T06:33:28.737522Z",
     "shell.execute_reply": "2021-09-29T06:33:28.737031Z",
     "shell.execute_reply.started": "2021-09-29T04:02:34.829697Z"
    },
    "papermill": {
     "duration": 0.841413,
     "end_time": "2021-09-29T06:33:28.737665",
     "exception": false,
     "start_time": "2021-09-29T06:33:27.896252",
     "status": "completed"
    },
    "tags": []
   },
   "outputs": [
    {
     "data": {
      "text/plain": [
       "<AxesSubplot:xlabel='age', ylabel='count'>"
      ]
     },
     "execution_count": 20,
     "metadata": {},
     "output_type": "execute_result"
    },
    {
     "data": {
      "image/png": "[encoded data removed]",
      "text/plain": [
       "<Figure size 1440x576 with 1 Axes>"
      ]
     },
     "metadata": {
      "needs_background": "light"
     },
     "output_type": "display_data"
    }
   ],
   "source": [
    "plt.figure(figsize =(20,8))\n",
    "sns.countplot(x = df_train['age'],hue=df_train['output'])"
   ]
  },
  {
   "cell_type": "markdown",
   "id": "a8a85dd7",
   "metadata": {
    "papermill": {
     "duration": 0.060126,
     "end_time": "2021-09-29T06:33:28.859487",
     "exception": false,
     "start_time": "2021-09-29T06:33:28.799361",
     "status": "completed"
    },
    "tags": []
   },
   "source": [
    "## conclude that maximum heart attack patients are from the age of 41 to 65 (approximately)."
   ]
  },
  {
   "cell_type": "code",
   "execution_count": 21,
   "id": "7f1cfa67",
   "metadata": {
    "execution": {
     "iopub.execute_input": "2021-09-29T06:33:28.984589Z",
     "iopub.status.busy": "2021-09-29T06:33:28.983813Z",
     "iopub.status.idle": "2021-09-29T06:33:28.986947Z",
     "shell.execute_reply": "2021-09-29T06:33:28.987463Z",
     "shell.execute_reply.started": "2021-09-29T04:02:35.681313Z"
    },
    "papermill": {
     "duration": 0.069526,
     "end_time": "2021-09-29T06:33:28.987630",
     "exception": false,
     "start_time": "2021-09-29T06:33:28.918104",
     "status": "completed"
    },
    "tags": []
   },
   "outputs": [
    {
     "name": "stdout",
     "output_type": "stream",
     "text": [
      "77\n"
     ]
    }
   ],
   "source": [
    "print(df_train[\"age\"].max())"
   ]
  },
  {
   "cell_type": "code",
   "execution_count": 22,
   "id": "6b447a0d",
   "metadata": {
    "execution": {
     "iopub.execute_input": "2021-09-29T06:33:29.113009Z",
     "iopub.status.busy": "2021-09-29T06:33:29.112046Z",
     "iopub.status.idle": "2021-09-29T06:33:29.298686Z",
     "shell.execute_reply": "2021-09-29T06:33:29.298165Z",
     "shell.execute_reply.started": "2021-09-29T04:02:35.687857Z"
    },
    "papermill": {
     "duration": 0.250655,
     "end_time": "2021-09-29T06:33:29.298844",
     "exception": false,
     "start_time": "2021-09-29T06:33:29.048189",
     "status": "completed"
    },
    "tags": []
   },
   "outputs": [
    {
     "data": {
      "text/plain": [
       "Text(0.5, 1.0, 'No.of heart attacks w.r.to genger ')"
      ]
     },
     "execution_count": 22,
     "metadata": {},
     "output_type": "execute_result"
    },
    {
     "data": {
      "image/png": "[encoded data removed]",
      "text/plain": [
       "<Figure size 864x576 with 1 Axes>"
      ]
     },
     "metadata": {
      "needs_background": "light"
     },
     "output_type": "display_data"
    }
   ],
   "source": [
    "plt.figure(figsize = (12,8))\n",
    "\n",
    "sex_data = df_train.sex.map({1: 'Male', 0: 'Female'})\n",
    "sns.countplot(hue = 'output', x = sex_data, data = df_train)\n",
    "plt.title(\"No.of heart attacks w.r.to genger \", fontsize = 20)\n"
   ]
  },
  {
   "cell_type": "markdown",
   "id": "7fa71761",
   "metadata": {
    "execution": {
     "iopub.execute_input": "2021-09-29T04:02:35.938988Z",
     "iopub.status.busy": "2021-09-29T04:02:35.938497Z",
     "iopub.status.idle": "2021-09-29T04:02:35.943328Z",
     "shell.execute_reply": "2021-09-29T04:02:35.942564Z",
     "shell.execute_reply.started": "2021-09-29T04:02:35.938947Z"
    },
    "papermill": {
     "duration": 0.060485,
     "end_time": "2021-09-29T06:33:29.420781",
     "exception": false,
     "start_time": "2021-09-29T06:33:29.360296",
     "status": "completed"
    },
    "tags": []
   },
   "source": [
    "### Lets Check on the basis Of Blood pressure"
   ]
  },
  {
   "cell_type": "code",
   "execution_count": 23,
   "id": "95956741",
   "metadata": {
    "execution": {
     "iopub.execute_input": "2021-09-29T06:33:29.550176Z",
     "iopub.status.busy": "2021-09-29T06:33:29.549459Z",
     "iopub.status.idle": "2021-09-29T06:33:29.752620Z",
     "shell.execute_reply": "2021-09-29T06:33:29.753151Z",
     "shell.execute_reply.started": "2021-09-29T04:02:35.945231Z"
    },
    "papermill": {
     "duration": 0.271942,
     "end_time": "2021-09-29T06:33:29.753328",
     "exception": false,
     "start_time": "2021-09-29T06:33:29.481386",
     "status": "completed"
    },
    "tags": []
   },
   "outputs": [
    {
     "data": {
      "text/plain": [
       "Text(0.5, 1.0, 'Distribution of fasting Blood Sugar w.r.t. Heart Attack')"
      ]
     },
     "execution_count": 23,
     "metadata": {},
     "output_type": "execute_result"
    },
    {
     "data": {
      "image/png": "[encoded data removed]",
      "text/plain": [
       "<Figure size 432x288 with 1 Axes>"
      ]
     },
     "metadata": {
      "needs_background": "light"
     },
     "output_type": "display_data"
    }
   ],
   "source": [
    "sns.barplot(x = 'fbs',y = 'output', data = df_train)\n",
    "plt.title(\"Distribution of fasting Blood Sugar w.r.t. Heart Attack\" , fontsize= 15)"
   ]
  },
  {
   "cell_type": "code",
   "execution_count": 24,
   "id": "222b16b0",
   "metadata": {
    "execution": {
     "iopub.execute_input": "2021-09-29T06:33:29.882207Z",
     "iopub.status.busy": "2021-09-29T06:33:29.881221Z",
     "iopub.status.idle": "2021-09-29T06:33:30.153549Z",
     "shell.execute_reply": "2021-09-29T06:33:30.154076Z",
     "shell.execute_reply.started": "2021-09-29T04:02:36.221608Z"
    },
    "papermill": {
     "duration": 0.338707,
     "end_time": "2021-09-29T06:33:30.154250",
     "exception": false,
     "start_time": "2021-09-29T06:33:29.815543",
     "status": "completed"
    },
    "tags": []
   },
   "outputs": [
    {
     "data": {
      "text/plain": [
       "Text(0.5, 1.0, 'Distribution of Chest Pain w.r.t. Heart Attack')"
      ]
     },
     "execution_count": 24,
     "metadata": {},
     "output_type": "execute_result"
    },
    {
     "data": {
      "image/png": "[encoded data removed]",
      "text/plain": [
       "<Figure size 432x288 with 1 Axes>"
      ]
     },
     "metadata": {
      "needs_background": "light"
     },
     "output_type": "display_data"
    }
   ],
   "source": [
    "sns.barplot(x = 'cp', y = 'output', data = df_train)\n",
    "plt.title(\"Distribution of Chest Pain w.r.t. Heart Attack\" , fontsize= 15)"
   ]
  },
  {
   "cell_type": "code",
   "execution_count": 25,
   "id": "5a2d08f2",
   "metadata": {
    "execution": {
     "iopub.execute_input": "2021-09-29T06:33:30.320869Z",
     "iopub.status.busy": "2021-09-29T06:33:30.283429Z",
     "iopub.status.idle": "2021-09-29T06:33:30.500642Z",
     "shell.execute_reply": "2021-09-29T06:33:30.500019Z",
     "shell.execute_reply.started": "2021-09-29T04:02:36.552247Z"
    },
    "papermill": {
     "duration": 0.282997,
     "end_time": "2021-09-29T06:33:30.500774",
     "exception": false,
     "start_time": "2021-09-29T06:33:30.217777",
     "status": "completed"
    },
    "tags": []
   },
   "outputs": [
    {
     "data": {
      "text/plain": [
       "Text(0.5, 1.0, 'Distribution of no. of major blood vessels w.r.t. Heart Attack')"
      ]
     },
     "execution_count": 25,
     "metadata": {},
     "output_type": "execute_result"
    },
    {
     "data": {
      "image/png": "[encoded data removed]",
      "text/plain": [
       "<Figure size 432x288 with 1 Axes>"
      ]
     },
     "metadata": {
      "needs_background": "light"
     },
     "output_type": "display_data"
    }
   ],
   "source": [
    "sns.countplot(x = 'caa', hue = 'output', data = df_train)\n",
    "plt.title(\"Distribution of no. of major blood vessels w.r.t. Heart Attack\" , fontsize= 15)"
   ]
  },
  {
   "cell_type": "code",
   "execution_count": 26,
   "id": "e9b63531",
   "metadata": {
    "execution": {
     "iopub.execute_input": "2021-09-29T06:33:30.670160Z",
     "iopub.status.busy": "2021-09-29T06:33:30.661115Z",
     "iopub.status.idle": "2021-09-29T06:33:30.893012Z",
     "shell.execute_reply": "2021-09-29T06:33:30.892367Z",
     "shell.execute_reply.started": "2021-09-29T04:02:36.819850Z"
    },
    "papermill": {
     "duration": 0.328637,
     "end_time": "2021-09-29T06:33:30.893149",
     "exception": false,
     "start_time": "2021-09-29T06:33:30.564512",
     "status": "completed"
    },
    "tags": []
   },
   "outputs": [
    {
     "data": {
      "text/plain": [
       "Text(0.5, 1.0, 'resting blood pressure (in mm Hg) vs Chest Pain')"
      ]
     },
     "execution_count": 26,
     "metadata": {},
     "output_type": "execute_result"
    },
    {
     "data": {
      "image/png": "[encoded data removed]",
      "text/plain": [
       "<Figure size 432x288 with 1 Axes>"
      ]
     },
     "metadata": {
      "needs_background": "light"
     },
     "output_type": "display_data"
    }
   ],
   "source": [
    "sns.violinplot(x = 'cp', y= 'trtbps', data = df_train)\n",
    "plt.title('resting blood pressure (in mm Hg) vs Chest Pain')\n",
    "# cp : Chest Pain type chest pain type\n",
    "# Value 1: typical angina\n",
    "# Value 2: atypical angina\n",
    "# Value 3: non-anginal pain\n",
    "# Value 4: asymptomatic"
   ]
  },
  {
   "cell_type": "code",
   "execution_count": 27,
   "id": "4bf8c754",
   "metadata": {
    "execution": {
     "iopub.execute_input": "2021-09-29T06:33:31.060216Z",
     "iopub.status.busy": "2021-09-29T06:33:31.055987Z",
     "iopub.status.idle": "2021-09-29T06:33:31.239409Z",
     "shell.execute_reply": "2021-09-29T06:33:31.238857Z",
     "shell.execute_reply.started": "2021-09-29T04:02:37.133532Z"
    },
    "papermill": {
     "duration": 0.279318,
     "end_time": "2021-09-29T06:33:31.239541",
     "exception": false,
     "start_time": "2021-09-29T06:33:30.960223",
     "status": "completed"
    },
    "tags": []
   },
   "outputs": [
    {
     "data": {
      "text/plain": [
       "Text(0.5, 1.0, ' Max heart bits count while heart attack')"
      ]
     },
     "execution_count": 27,
     "metadata": {},
     "output_type": "execute_result"
    },
    {
     "data": {
      "image/png": "[encoded data removed]",
      "text/plain": [
       "<Figure size 432x288 with 1 Axes>"
      ]
     },
     "metadata": {
      "needs_background": "light"
     },
     "output_type": "display_data"
    }
   ],
   "source": [
    "sns.histplot(x = 'thalachh', data = df_train)\n",
    "# thalach : maximum heart rate achieved\n",
    "plt.title(' Max heart bits count while heart attack')"
   ]
  },
  {
   "cell_type": "code",
   "execution_count": 28,
   "id": "9ac0ef1f",
   "metadata": {
    "execution": {
     "iopub.execute_input": "2021-09-29T06:33:31.391008Z",
     "iopub.status.busy": "2021-09-29T06:33:31.389086Z",
     "iopub.status.idle": "2021-09-29T06:33:31.758880Z",
     "shell.execute_reply": "2021-09-29T06:33:31.757881Z",
     "shell.execute_reply.started": "2021-09-29T04:02:37.393660Z"
    },
    "papermill": {
     "duration": 0.45218,
     "end_time": "2021-09-29T06:33:31.759050",
     "exception": false,
     "start_time": "2021-09-29T06:33:31.306870",
     "status": "completed"
    },
    "tags": []
   },
   "outputs": [
    {
     "data": {
      "text/plain": [
       "<AxesSubplot:xlabel='oldpeak', ylabel='Count'>"
      ]
     },
     "execution_count": 28,
     "metadata": {},
     "output_type": "execute_result"
    },
    {
     "data": {
      "image/png": "[encoded data removed]",
      "text/plain": [
       "<Figure size 432x288 with 1 Axes>"
      ]
     },
     "metadata": {
      "needs_background": "light"
     },
     "output_type": "display_data"
    }
   ],
   "source": [
    "sns.histplot(x = 'oldpeak', data = df_train)\n",
    "# oldpeak: Previous peak"
   ]
  },
  {
   "cell_type": "code",
   "execution_count": 29,
   "id": "19410549",
   "metadata": {
    "execution": {
     "iopub.execute_input": "2021-09-29T06:33:31.926179Z",
     "iopub.status.busy": "2021-09-29T06:33:31.896507Z",
     "iopub.status.idle": "2021-09-29T06:33:32.092912Z",
     "shell.execute_reply": "2021-09-29T06:33:32.093358Z",
     "shell.execute_reply.started": "2021-09-29T04:02:37.786903Z"
    },
    "papermill": {
     "duration": 0.267498,
     "end_time": "2021-09-29T06:33:32.093532",
     "exception": false,
     "start_time": "2021-09-29T06:33:31.826034",
     "status": "completed"
    },
    "tags": []
   },
   "outputs": [
    {
     "data": {
      "text/plain": [
       "Text(0.5, 1.0, 'No. of people who got heart attack')"
      ]
     },
     "execution_count": 29,
     "metadata": {},
     "output_type": "execute_result"
    },
    {
     "data": {
      "image/png": "[encoded data removed]",
      "text/plain": [
       "<Figure size 216x360 with 1 Axes>"
      ]
     },
     "metadata": {
      "needs_background": "light"
     },
     "output_type": "display_data"
    }
   ],
   "source": [
    "plt.figure(figsize = (3,5))\n",
    "sns.countplot(x = 'output',data = df_train)\n",
    "plt.ylabel('No. of people')\n",
    "plt.xlabel('people are suffured or not')\n",
    "plt.title('No. of people who got heart attack', fontsize = 20)"
   ]
  },
  {
   "cell_type": "code",
   "execution_count": 30,
   "id": "74724086",
   "metadata": {
    "execution": {
     "iopub.execute_input": "2021-09-29T06:33:32.234376Z",
     "iopub.status.busy": "2021-09-29T06:33:32.233680Z",
     "iopub.status.idle": "2021-09-29T06:33:32.241390Z",
     "shell.execute_reply": "2021-09-29T06:33:32.240882Z",
     "shell.execute_reply.started": "2021-09-29T04:02:37.989911Z"
    },
    "papermill": {
     "duration": 0.079269,
     "end_time": "2021-09-29T06:33:32.241526",
     "exception": false,
     "start_time": "2021-09-29T06:33:32.162257",
     "status": "completed"
    },
    "tags": []
   },
   "outputs": [
    {
     "data": {
      "text/plain": [
       "1    54.304636\n",
       "0    45.695364\n",
       "Name: output, dtype: float64"
      ]
     },
     "execution_count": 30,
     "metadata": {},
     "output_type": "execute_result"
    }
   ],
   "source": [
    "ratio = df_train['output'].value_counts()/len(df_train['output']) *100\n",
    "ratio\n",
    "# below result shows 54.3% people are suffered from heart attack \n",
    "## below result shows 45.7% people are not suffered from heart attack \n"
   ]
  },
  {
   "cell_type": "markdown",
   "id": "d779a86f",
   "metadata": {
    "execution": {
     "iopub.execute_input": "2021-09-29T04:02:37.999036Z",
     "iopub.status.busy": "2021-09-29T04:02:37.998590Z",
     "iopub.status.idle": "2021-09-29T04:02:38.014932Z",
     "shell.execute_reply": "2021-09-29T04:02:38.013675Z",
     "shell.execute_reply.started": "2021-09-29T04:02:37.999005Z"
    },
    "papermill": {
     "duration": 0.069084,
     "end_time": "2021-09-29T06:33:32.379789",
     "exception": false,
     "start_time": "2021-09-29T06:33:32.310705",
     "status": "completed"
    },
    "tags": []
   },
   "source": [
    "Distribution plot"
   ]
  },
  {
   "cell_type": "code",
   "execution_count": 31,
   "id": "a4ee4cd0",
   "metadata": {
    "execution": {
     "iopub.execute_input": "2021-09-29T06:33:32.544057Z",
     "iopub.status.busy": "2021-09-29T06:33:32.543401Z",
     "iopub.status.idle": "2021-09-29T06:33:32.808970Z",
     "shell.execute_reply": "2021-09-29T06:33:32.809480Z",
     "shell.execute_reply.started": "2021-09-29T04:24:51.630210Z"
    },
    "papermill": {
     "duration": 0.357119,
     "end_time": "2021-09-29T06:33:32.809643",
     "exception": false,
     "start_time": "2021-09-29T06:33:32.452524",
     "status": "completed"
    },
    "tags": []
   },
   "outputs": [
    {
     "name": "stderr",
     "output_type": "stream",
     "text": [
      "/opt/conda/lib/python3.7/site-packages/seaborn/distributions.py:2619: FutureWarning: `distplot` is a deprecated function and will be removed in a future version. Please adapt your code to use either `displot` (a figure-level function with similar flexibility) or `histplot` (an axes-level function for histograms).\n",
      "  warnings.warn(msg, FutureWarning)\n"
     ]
    },
    {
     "data": {
      "text/plain": [
       "Text(0.5, 1.0, 'Distribution of blood pressure w.r. to intensity of blood pressure')"
      ]
     },
     "execution_count": 31,
     "metadata": {},
     "output_type": "execute_result"
    },
    {
     "data": {
      "image/png": "[encoded data removed]",
      "text/plain": [
       "<Figure size 432x288 with 1 Axes>"
      ]
     },
     "metadata": {
      "needs_background": "light"
     },
     "output_type": "display_data"
    }
   ],
   "source": [
    "#blood pressure \n",
    "sns.distplot(df_train['trtbps'],hist_kws=dict(edgecolor=\"k\", linewidth=2))\n",
    "plt.xlabel('Blood pressure')\n",
    "plt.ylabel('Density of blood pressue')\n",
    "plt.title('Distribution of blood pressure w.r. to intensity of blood pressure')"
   ]
  },
  {
   "cell_type": "code",
   "execution_count": 32,
   "id": "af8433a4",
   "metadata": {
    "execution": {
     "iopub.execute_input": "2021-09-29T06:33:32.955544Z",
     "iopub.status.busy": "2021-09-29T06:33:32.954651Z",
     "iopub.status.idle": "2021-09-29T06:33:33.212338Z",
     "shell.execute_reply": "2021-09-29T06:33:33.211756Z",
     "shell.execute_reply.started": "2021-09-29T04:24:56.841927Z"
    },
    "papermill": {
     "duration": 0.331151,
     "end_time": "2021-09-29T06:33:33.212485",
     "exception": false,
     "start_time": "2021-09-29T06:33:32.881334",
     "status": "completed"
    },
    "tags": []
   },
   "outputs": [
    {
     "name": "stderr",
     "output_type": "stream",
     "text": [
      "/opt/conda/lib/python3.7/site-packages/seaborn/distributions.py:2619: FutureWarning: `distplot` is a deprecated function and will be removed in a future version. Please adapt your code to use either `displot` (a figure-level function with similar flexibility) or `histplot` (an axes-level function for histograms).\n",
      "  warnings.warn(msg, FutureWarning)\n"
     ]
    },
    {
     "data": {
      "image/png": "[encoded data removed]",
      "text/plain": [
       "<Figure size 432x288 with 1 Axes>"
      ]
     },
     "metadata": {
      "needs_background": "light"
     },
     "output_type": "display_data"
    }
   ],
   "source": [
    "#cholesterol rate\n",
    "sns.distplot(df_train['chol'],hist_kws=dict(edgecolor=\"k\", linewidth=2))\n",
    "plt.xlabel('Cholesterol rate')\n",
    "plt.ylabel('Density of cholesterol rate')\n",
    "plt.title('Distribution of Cholesterol rate w.r. to intensity of Cholesterol rate')\n",
    "plt.show()"
   ]
  },
  {
   "cell_type": "markdown",
   "id": "6c5332df",
   "metadata": {
    "papermill": {
     "duration": 0.07114,
     "end_time": "2021-09-29T06:33:33.355617",
     "exception": false,
     "start_time": "2021-09-29T06:33:33.284477",
     "status": "completed"
    },
    "tags": []
   },
   "source": [
    "### Relation of output with respect to other disease "
   ]
  },
  {
   "cell_type": "code",
   "execution_count": 33,
   "id": "1c2da387",
   "metadata": {
    "execution": {
     "iopub.execute_input": "2021-09-29T06:33:33.505254Z",
     "iopub.status.busy": "2021-09-29T06:33:33.504495Z",
     "iopub.status.idle": "2021-09-29T06:33:33.508262Z",
     "shell.execute_reply": "2021-09-29T06:33:33.507743Z",
     "shell.execute_reply.started": "2021-09-29T04:27:05.393458Z"
    },
    "papermill": {
     "duration": 0.080535,
     "end_time": "2021-09-29T06:33:33.508397",
     "exception": false,
     "start_time": "2021-09-29T06:33:33.427862",
     "status": "completed"
    },
    "tags": []
   },
   "outputs": [],
   "source": [
    "disease = ['cp','fbs','restecg','exng','slp','caa','thall']"
   ]
  },
  {
   "cell_type": "code",
   "execution_count": 34,
   "id": "b078f8f4",
   "metadata": {
    "execution": {
     "iopub.execute_input": "2021-09-29T06:33:33.677472Z",
     "iopub.status.busy": "2021-09-29T06:33:33.676792Z",
     "iopub.status.idle": "2021-09-29T06:33:33.680473Z",
     "shell.execute_reply": "2021-09-29T06:33:33.680936Z",
     "shell.execute_reply.started": "2021-09-29T04:29:04.423175Z"
    },
    "papermill": {
     "duration": 0.100451,
     "end_time": "2021-09-29T06:33:33.681103",
     "exception": false,
     "start_time": "2021-09-29T06:33:33.580652",
     "status": "completed"
    },
    "tags": []
   },
   "outputs": [
    {
     "data": {
      "text/plain": [
       "[(0, 'cp'),\n",
       " (1, 'fbs'),\n",
       " (2, 'restecg'),\n",
       " (3, 'exng'),\n",
       " (4, 'slp'),\n",
       " (5, 'caa'),\n",
       " (6, 'thall')]"
      ]
     },
     "execution_count": 34,
     "metadata": {},
     "output_type": "execute_result"
    }
   ],
   "source": [
    "list(enumerate(disease))"
   ]
  },
  {
   "cell_type": "code",
   "execution_count": 35,
   "id": "61c39d72",
   "metadata": {
    "execution": {
     "iopub.execute_input": "2021-09-29T06:33:33.832201Z",
     "iopub.status.busy": "2021-09-29T06:33:33.831576Z",
     "iopub.status.idle": "2021-09-29T06:33:33.837781Z",
     "shell.execute_reply": "2021-09-29T06:33:33.838246Z",
     "shell.execute_reply.started": "2021-09-29T04:58:39.623904Z"
    },
    "papermill": {
     "duration": 0.083025,
     "end_time": "2021-09-29T06:33:33.838421",
     "exception": false,
     "start_time": "2021-09-29T06:33:33.755396",
     "status": "completed"
    },
    "tags": []
   },
   "outputs": [
    {
     "data": {
      "text/plain": [
       "1    151\n",
       "0    147\n",
       "2      4\n",
       "Name: restecg, dtype: int64"
      ]
     },
     "execution_count": 35,
     "metadata": {},
     "output_type": "execute_result"
    }
   ],
   "source": [
    "df_train['restecg'].value_counts()\n",
    "#resting electrocardiographic results\n",
    "# 0 : Normal\n",
    "# 1: having ST-T wave abnormality (T wave inversions and/or ST elevation or depression of > 0.05 mV)\n",
    "# 2: showing probable or definite left ventricular hypertrophy by Estes' criteria"
   ]
  },
  {
   "cell_type": "code",
   "execution_count": 36,
   "id": "ef735649",
   "metadata": {
    "execution": {
     "iopub.execute_input": "2021-09-29T06:33:33.989327Z",
     "iopub.status.busy": "2021-09-29T06:33:33.988688Z",
     "iopub.status.idle": "2021-09-29T06:33:34.970407Z",
     "shell.execute_reply": "2021-09-29T06:33:34.970865Z",
     "shell.execute_reply.started": "2021-09-29T04:55:00.462967Z"
    },
    "papermill": {
     "duration": 1.05885,
     "end_time": "2021-09-29T06:33:34.971022",
     "exception": false,
     "start_time": "2021-09-29T06:33:33.912172",
     "status": "completed"
    },
    "tags": []
   },
   "outputs": [
    {
     "data": {
      "image/png": "[encoded data removed]",
      "text/plain": [
       "<Figure size 936x2160 with 7 Axes>"
      ]
     },
     "metadata": {
      "needs_background": "light"
     },
     "output_type": "display_data"
    }
   ],
   "source": [
    "plt.figure(figsize = (13,30))\n",
    "for i in enumerate(disease):\n",
    "    plt.subplot(6,2,i[0]+1)\n",
    "    sns.countplot(x=i[1], hue = 'output',data =df_train)\n",
    "plt.show()"
   ]
  },
  {
   "cell_type": "markdown",
   "id": "92b3868c",
   "metadata": {
    "papermill": {
     "duration": 0.072328,
     "end_time": "2021-09-29T06:33:35.118180",
     "exception": false,
     "start_time": "2021-09-29T06:33:35.045852",
     "status": "completed"
    },
    "tags": []
   },
   "source": [
    "The people with maximum heart rate have more risk of heart attack - (thall) - maximum heart rate achieved"
   ]
  },
  {
   "cell_type": "code",
   "execution_count": 37,
   "id": "cbae77b9",
   "metadata": {
    "execution": {
     "iopub.execute_input": "2021-09-29T06:33:35.278724Z",
     "iopub.status.busy": "2021-09-29T06:33:35.277795Z",
     "iopub.status.idle": "2021-09-29T06:33:35.281542Z",
     "shell.execute_reply": "2021-09-29T06:33:35.281056Z",
     "shell.execute_reply.started": "2021-09-29T05:01:07.014091Z"
    },
    "papermill": {
     "duration": 0.090623,
     "end_time": "2021-09-29T06:33:35.281671",
     "exception": false,
     "start_time": "2021-09-29T06:33:35.191048",
     "status": "completed"
    },
    "tags": []
   },
   "outputs": [
    {
     "data": {
      "text/html": [
       "<div>\n",
       "<style scoped>\n",
       "    .dataframe tbody tr th:only-of-type {\n",
       "        vertical-align: middle;\n",
       "    }\n",
       "\n",
       "    .dataframe tbody tr th {\n",
       "        vertical-align: top;\n",
       "    }\n",
       "\n",
       "    .dataframe thead th {\n",
       "        text-align: right;\n",
       "    }\n",
       "</style>\n",
       "<table border=\"1\" class=\"dataframe\">\n",
       "  <thead>\n",
       "    <tr style=\"text-align: right;\">\n",
       "      <th></th>\n",
       "      <th>age</th>\n",
       "      <th>sex</th>\n",
       "      <th>cp</th>\n",
       "      <th>trtbps</th>\n",
       "      <th>chol</th>\n",
       "      <th>fbs</th>\n",
       "      <th>restecg</th>\n",
       "      <th>thalachh</th>\n",
       "      <th>exng</th>\n",
       "      <th>oldpeak</th>\n",
       "      <th>slp</th>\n",
       "      <th>caa</th>\n",
       "      <th>thall</th>\n",
       "      <th>output</th>\n",
       "    </tr>\n",
       "  </thead>\n",
       "  <tbody>\n",
       "    <tr>\n",
       "      <th>0</th>\n",
       "      <td>63</td>\n",
       "      <td>1</td>\n",
       "      <td>3</td>\n",
       "      <td>145</td>\n",
       "      <td>233</td>\n",
       "      <td>1</td>\n",
       "      <td>0</td>\n",
       "      <td>150</td>\n",
       "      <td>0</td>\n",
       "      <td>2.3</td>\n",
       "      <td>0</td>\n",
       "      <td>0</td>\n",
       "      <td>1</td>\n",
       "      <td>1</td>\n",
       "    </tr>\n",
       "    <tr>\n",
       "      <th>1</th>\n",
       "      <td>37</td>\n",
       "      <td>1</td>\n",
       "      <td>2</td>\n",
       "      <td>130</td>\n",
       "      <td>250</td>\n",
       "      <td>0</td>\n",
       "      <td>1</td>\n",
       "      <td>187</td>\n",
       "      <td>0</td>\n",
       "      <td>3.5</td>\n",
       "      <td>0</td>\n",
       "      <td>0</td>\n",
       "      <td>2</td>\n",
       "      <td>1</td>\n",
       "    </tr>\n",
       "    <tr>\n",
       "      <th>2</th>\n",
       "      <td>41</td>\n",
       "      <td>0</td>\n",
       "      <td>1</td>\n",
       "      <td>130</td>\n",
       "      <td>204</td>\n",
       "      <td>0</td>\n",
       "      <td>0</td>\n",
       "      <td>172</td>\n",
       "      <td>0</td>\n",
       "      <td>1.4</td>\n",
       "      <td>2</td>\n",
       "      <td>0</td>\n",
       "      <td>2</td>\n",
       "      <td>1</td>\n",
       "    </tr>\n",
       "    <tr>\n",
       "      <th>3</th>\n",
       "      <td>56</td>\n",
       "      <td>1</td>\n",
       "      <td>1</td>\n",
       "      <td>120</td>\n",
       "      <td>236</td>\n",
       "      <td>0</td>\n",
       "      <td>1</td>\n",
       "      <td>178</td>\n",
       "      <td>0</td>\n",
       "      <td>0.8</td>\n",
       "      <td>2</td>\n",
       "      <td>0</td>\n",
       "      <td>2</td>\n",
       "      <td>1</td>\n",
       "    </tr>\n",
       "    <tr>\n",
       "      <th>4</th>\n",
       "      <td>57</td>\n",
       "      <td>0</td>\n",
       "      <td>0</td>\n",
       "      <td>120</td>\n",
       "      <td>354</td>\n",
       "      <td>0</td>\n",
       "      <td>1</td>\n",
       "      <td>163</td>\n",
       "      <td>1</td>\n",
       "      <td>0.6</td>\n",
       "      <td>2</td>\n",
       "      <td>0</td>\n",
       "      <td>2</td>\n",
       "      <td>1</td>\n",
       "    </tr>\n",
       "  </tbody>\n",
       "</table>\n",
       "</div>"
      ],
      "text/plain": [
       "   age  sex  cp  trtbps  chol  fbs  restecg  thalachh  exng  oldpeak  slp  \\\n",
       "0   63    1   3     145   233    1        0       150     0      2.3    0   \n",
       "1   37    1   2     130   250    0        1       187     0      3.5    0   \n",
       "2   41    0   1     130   204    0        0       172     0      1.4    2   \n",
       "3   56    1   1     120   236    0        1       178     0      0.8    2   \n",
       "4   57    0   0     120   354    0        1       163     1      0.6    2   \n",
       "\n",
       "   caa  thall  output  \n",
       "0    0      1       1  \n",
       "1    0      2       1  \n",
       "2    0      2       1  \n",
       "3    0      2       1  \n",
       "4    0      2       1  "
      ]
     },
     "execution_count": 37,
     "metadata": {},
     "output_type": "execute_result"
    }
   ],
   "source": [
    "df_train.head()"
   ]
  },
  {
   "cell_type": "code",
   "execution_count": 38,
   "id": "05517447",
   "metadata": {
    "execution": {
     "iopub.execute_input": "2021-09-29T06:33:35.434602Z",
     "iopub.status.busy": "2021-09-29T06:33:35.433785Z",
     "iopub.status.idle": "2021-09-29T06:33:35.437843Z",
     "shell.execute_reply": "2021-09-29T06:33:35.438357Z",
     "shell.execute_reply.started": "2021-09-29T05:08:02.246092Z"
    },
    "papermill": {
     "duration": 0.082288,
     "end_time": "2021-09-29T06:33:35.438517",
     "exception": false,
     "start_time": "2021-09-29T06:33:35.356229",
     "status": "completed"
    },
    "tags": []
   },
   "outputs": [],
   "source": [
    "X = df_train.iloc[:,:-1]\n",
    "Y = df_train.iloc[:,-1]"
   ]
  },
  {
   "cell_type": "code",
   "execution_count": 39,
   "id": "33ab9187",
   "metadata": {
    "execution": {
     "iopub.execute_input": "2021-09-29T06:33:35.593481Z",
     "iopub.status.busy": "2021-09-29T06:33:35.591396Z",
     "iopub.status.idle": "2021-09-29T06:33:35.745211Z",
     "shell.execute_reply": "2021-09-29T06:33:35.744670Z",
     "shell.execute_reply.started": "2021-09-29T05:09:00.835935Z"
    },
    "papermill": {
     "duration": 0.233058,
     "end_time": "2021-09-29T06:33:35.745357",
     "exception": false,
     "start_time": "2021-09-29T06:33:35.512299",
     "status": "completed"
    },
    "tags": []
   },
   "outputs": [],
   "source": [
    "from sklearn.model_selection import train_test_split\n",
    "x_train,x_test,y_train,y_test = train_test_split(X,Y,test_size = (0.3),random_state = 5)"
   ]
  },
  {
   "cell_type": "markdown",
   "id": "c1b0c432",
   "metadata": {
    "papermill": {
     "duration": 0.074981,
     "end_time": "2021-09-29T06:33:35.895915",
     "exception": false,
     "start_time": "2021-09-29T06:33:35.820934",
     "status": "completed"
    },
    "tags": []
   },
   "source": [
    "## Training Different ML Models "
   ]
  },
  {
   "cell_type": "markdown",
   "id": "a0037e14",
   "metadata": {
    "papermill": {
     "duration": 0.074863,
     "end_time": "2021-09-29T06:33:36.044313",
     "exception": false,
     "start_time": "2021-09-29T06:33:35.969450",
     "status": "completed"
    },
    "tags": []
   },
   "source": [
    "### Hyperparameter tuning "
   ]
  },
  {
   "cell_type": "code",
   "execution_count": 40,
   "id": "1d49ee7d",
   "metadata": {
    "execution": {
     "iopub.execute_input": "2021-09-29T06:33:36.199148Z",
     "iopub.status.busy": "2021-09-29T06:33:36.198475Z",
     "iopub.status.idle": "2021-09-29T06:33:36.365487Z",
     "shell.execute_reply": "2021-09-29T06:33:36.364806Z",
     "shell.execute_reply.started": "2021-09-29T05:11:58.484830Z"
    },
    "papermill": {
     "duration": 0.245856,
     "end_time": "2021-09-29T06:33:36.365641",
     "exception": false,
     "start_time": "2021-09-29T06:33:36.119785",
     "status": "completed"
    },
    "tags": []
   },
   "outputs": [],
   "source": [
    "\n",
    "from sklearn import svm\n",
    "from sklearn.ensemble import RandomForestClassifier\n",
    "from sklearn.linear_model import LogisticRegression\n",
    "from sklearn.model_selection import GridSearchCV"
   ]
  },
  {
   "cell_type": "code",
   "execution_count": 41,
   "id": "510fd4d9",
   "metadata": {
    "execution": {
     "iopub.execute_input": "2021-09-29T06:33:36.528163Z",
     "iopub.status.busy": "2021-09-29T06:33:36.527451Z",
     "iopub.status.idle": "2021-09-29T06:33:36.530163Z",
     "shell.execute_reply": "2021-09-29T06:33:36.529658Z",
     "shell.execute_reply.started": "2021-09-29T06:24:30.267646Z"
    },
    "papermill": {
     "duration": 0.089267,
     "end_time": "2021-09-29T06:33:36.530296",
     "exception": false,
     "start_time": "2021-09-29T06:33:36.441029",
     "status": "completed"
    },
    "tags": []
   },
   "outputs": [],
   "source": [
    "model_params = {'svm':{'model':svm.SVC(gamma ='auto'),'params':{\"C\":[1,20,40],'kernel':['rbf','linear']}},\n",
    "               'random_forest':{'model':RandomForestClassifier(),'params':{'n_estimators':[1,20,40]}},\n",
    "               'logistic_regression':{'model':LogisticRegression(solver = 'liblinear',multi_class ='auto',penalty='l1'),'params':{'C':[1,20,40],}}\n",
    "              }\n",
    "    \n",
    "    "
   ]
  },
  {
   "cell_type": "code",
   "execution_count": 42,
   "id": "427ca178",
   "metadata": {
    "execution": {
     "iopub.execute_input": "2021-09-29T06:33:36.682968Z",
     "iopub.status.busy": "2021-09-29T06:33:36.682013Z",
     "iopub.status.idle": "2021-09-29T06:33:36.687911Z",
     "shell.execute_reply": "2021-09-29T06:33:36.688410Z",
     "shell.execute_reply.started": "2021-09-29T06:24:55.516945Z"
    },
    "papermill": {
     "duration": 0.084764,
     "end_time": "2021-09-29T06:33:36.688569",
     "exception": false,
     "start_time": "2021-09-29T06:33:36.603805",
     "status": "completed"
    },
    "tags": []
   },
   "outputs": [
    {
     "data": {
      "text/plain": [
       "dict_items([('svm', {'model': SVC(gamma='auto'), 'params': {'C': [1, 20, 40], 'kernel': ['rbf', 'linear']}}), ('random_forest', {'model': RandomForestClassifier(), 'params': {'n_estimators': [1, 20, 40]}}), ('logistic_regression', {'model': LogisticRegression(penalty='l1', solver='liblinear'), 'params': {'C': [1, 20, 40]}})])"
      ]
     },
     "execution_count": 42,
     "metadata": {},
     "output_type": "execute_result"
    }
   ],
   "source": [
    "model_params.items()"
   ]
  },
  {
   "cell_type": "code",
   "execution_count": 43,
   "id": "ba500dba",
   "metadata": {
    "execution": {
     "iopub.execute_input": "2021-09-29T06:33:36.846942Z",
     "iopub.status.busy": "2021-09-29T06:33:36.846134Z",
     "iopub.status.idle": "2021-09-29T06:34:25.233218Z",
     "shell.execute_reply": "2021-09-29T06:34:25.233740Z",
     "shell.execute_reply.started": "2021-09-29T06:25:00.533319Z"
    },
    "papermill": {
     "duration": 48.470532,
     "end_time": "2021-09-29T06:34:25.233935",
     "exception": false,
     "start_time": "2021-09-29T06:33:36.763403",
     "status": "completed"
    },
    "tags": []
   },
   "outputs": [
    {
     "data": {
      "text/html": [
       "<div>\n",
       "<style scoped>\n",
       "    .dataframe tbody tr th:only-of-type {\n",
       "        vertical-align: middle;\n",
       "    }\n",
       "\n",
       "    .dataframe tbody tr th {\n",
       "        vertical-align: top;\n",
       "    }\n",
       "\n",
       "    .dataframe thead th {\n",
       "        text-align: right;\n",
       "    }\n",
       "</style>\n",
       "<table border=\"1\" class=\"dataframe\">\n",
       "  <thead>\n",
       "    <tr style=\"text-align: right;\">\n",
       "      <th></th>\n",
       "      <th>model</th>\n",
       "      <th>best_score</th>\n",
       "      <th>best_params</th>\n",
       "    </tr>\n",
       "  </thead>\n",
       "  <tbody>\n",
       "    <tr>\n",
       "      <th>0</th>\n",
       "      <td>svm</td>\n",
       "      <td>0.810853</td>\n",
       "      <td>{'C': 20, 'kernel': 'linear'}</td>\n",
       "    </tr>\n",
       "    <tr>\n",
       "      <th>1</th>\n",
       "      <td>random_forest</td>\n",
       "      <td>0.782614</td>\n",
       "      <td>{'n_estimators': 40}</td>\n",
       "    </tr>\n",
       "    <tr>\n",
       "      <th>2</th>\n",
       "      <td>logistic_regression</td>\n",
       "      <td>0.810853</td>\n",
       "      <td>{'C': 20}</td>\n",
       "    </tr>\n",
       "  </tbody>\n",
       "</table>\n",
       "</div>"
      ],
      "text/plain": [
       "                 model  best_score                    best_params\n",
       "0                  svm    0.810853  {'C': 20, 'kernel': 'linear'}\n",
       "1        random_forest    0.782614           {'n_estimators': 40}\n",
       "2  logistic_regression    0.810853                      {'C': 20}"
      ]
     },
     "execution_count": 43,
     "metadata": {},
     "output_type": "execute_result"
    }
   ],
   "source": [
    "scores = []\n",
    "\n",
    "for model_name, mp in model_params.items():\n",
    "    clf =  GridSearchCV(mp['model'], mp['params'], cv=5, return_train_score=False)\n",
    "    clf.fit(x_train, y_train)\n",
    "    scores.append({\n",
    "        'model': model_name,\n",
    "        'best_score': clf.best_score_,\n",
    "        'best_params': clf.best_params_\n",
    "    })\n",
    "    \n",
    "df2 = pd.DataFrame(scores,columns=['model','best_score','best_params'])\n",
    "df2"
   ]
  },
  {
   "cell_type": "markdown",
   "id": "1cb3afb4",
   "metadata": {
    "papermill": {
     "duration": 0.075321,
     "end_time": "2021-09-29T06:34:25.384618",
     "exception": false,
     "start_time": "2021-09-29T06:34:25.309297",
     "status": "completed"
    },
    "tags": []
   },
   "source": [
    "Logistic regresion - Best score"
   ]
  },
  {
   "cell_type": "code",
   "execution_count": 44,
   "id": "3da19e16",
   "metadata": {
    "execution": {
     "iopub.execute_input": "2021-09-29T06:34:25.542023Z",
     "iopub.status.busy": "2021-09-29T06:34:25.541368Z",
     "iopub.status.idle": "2021-09-29T06:34:25.548514Z",
     "shell.execute_reply": "2021-09-29T06:34:25.548052Z",
     "shell.execute_reply.started": "2021-09-29T06:27:31.074340Z"
    },
    "papermill": {
     "duration": 0.088916,
     "end_time": "2021-09-29T06:34:25.548663",
     "exception": false,
     "start_time": "2021-09-29T06:34:25.459747",
     "status": "completed"
    },
    "tags": []
   },
   "outputs": [
    {
     "data": {
      "text/plain": [
       "LogisticRegression(solver='liblinear')"
      ]
     },
     "execution_count": 44,
     "metadata": {},
     "output_type": "execute_result"
    }
   ],
   "source": [
    "model_lg = LogisticRegression(solver = 'liblinear',multi_class  = 'auto')\n",
    "model_lg.fit(x_train,y_train)"
   ]
  },
  {
   "cell_type": "code",
   "execution_count": 45,
   "id": "5e247a17",
   "metadata": {
    "execution": {
     "iopub.execute_input": "2021-09-29T06:34:25.703173Z",
     "iopub.status.busy": "2021-09-29T06:34:25.702530Z",
     "iopub.status.idle": "2021-09-29T06:34:25.709285Z",
     "shell.execute_reply": "2021-09-29T06:34:25.709760Z",
     "shell.execute_reply.started": "2021-09-29T06:28:06.121213Z"
    },
    "papermill": {
     "duration": 0.085522,
     "end_time": "2021-09-29T06:34:25.709941",
     "exception": false,
     "start_time": "2021-09-29T06:34:25.624419",
     "status": "completed"
    },
    "tags": []
   },
   "outputs": [
    {
     "data": {
      "text/plain": [
       "array([1, 1, 0, 1, 1, 0, 0, 1, 1, 1, 1, 0, 0, 0, 0, 0, 1, 0, 1, 1, 0, 0,\n",
       "       1, 0, 0, 1, 1, 0, 1, 0, 1, 1, 1, 1, 0, 1, 1, 1, 1, 0, 1, 0, 1, 0,\n",
       "       0, 0, 0, 0, 0, 0, 0, 1, 1, 0, 0, 1, 1, 0, 1, 0, 1, 1, 1, 1, 1, 1,\n",
       "       1, 1, 1, 0, 0, 1, 0, 1, 0, 0, 1, 0, 0, 1, 1, 1, 1, 1, 1, 0, 1, 1,\n",
       "       1, 1, 1])"
      ]
     },
     "execution_count": 45,
     "metadata": {},
     "output_type": "execute_result"
    }
   ],
   "source": [
    "pred = model_lg.predict(x_test)\n",
    "pred"
   ]
  },
  {
   "cell_type": "code",
   "execution_count": 46,
   "id": "cb436932",
   "metadata": {
    "execution": {
     "iopub.execute_input": "2021-09-29T06:34:25.868591Z",
     "iopub.status.busy": "2021-09-29T06:34:25.866018Z",
     "iopub.status.idle": "2021-09-29T06:34:25.871135Z",
     "shell.execute_reply": "2021-09-29T06:34:25.871628Z",
     "shell.execute_reply.started": "2021-09-29T06:29:34.624128Z"
    },
    "papermill": {
     "duration": 0.086137,
     "end_time": "2021-09-29T06:34:25.871785",
     "exception": false,
     "start_time": "2021-09-29T06:34:25.785648",
     "status": "completed"
    },
    "tags": []
   },
   "outputs": [
    {
     "data": {
      "text/plain": [
       "array([1, 1, 1, 1, 1, 1, 1, 1, 1, 1, 1, 1, 1, 1, 1, 1, 1, 1, 1, 1, 1, 1,\n",
       "       1, 1, 1, 1, 1, 1, 1, 1, 1, 1, 1, 1, 1, 1, 1, 1, 1, 1, 1, 1, 1, 1,\n",
       "       1, 1, 1, 1, 1, 1, 1, 1, 1, 1, 1, 1, 1, 1, 1, 1, 1, 1, 1, 1, 1, 1,\n",
       "       1, 1, 1, 1, 1, 1, 1, 1, 1, 1, 1, 1, 1, 1, 1, 1, 1, 1, 1, 1, 1, 1,\n",
       "       1, 1, 1, 1, 1, 1, 1, 1, 1, 1, 1, 1, 1, 1, 1, 1, 1, 1, 1, 1, 1, 1,\n",
       "       1, 1, 1, 1, 1, 1, 1, 1, 1, 1, 1, 1, 1, 1, 1, 1, 1, 1, 1, 1, 1, 1,\n",
       "       1, 1, 1, 1, 1, 1, 1, 1, 1, 1, 1, 1, 1, 1, 1, 1, 1, 1, 1, 1, 1, 1,\n",
       "       1, 1, 1, 1, 1, 1, 1, 1, 1, 1, 0, 0, 0, 0, 0, 0, 0, 0, 0, 0, 0, 0,\n",
       "       0, 0, 0, 0, 0, 0, 0, 0, 0, 0, 0, 0, 0, 0, 0, 0, 0, 0, 0, 0, 0, 0,\n",
       "       0, 0, 0, 0, 0, 0, 0, 0, 0, 0, 0, 0, 0, 0, 0, 0, 0, 0, 0, 0, 0, 0,\n",
       "       0, 0, 0, 0, 0, 0, 0, 0, 0, 0, 0, 0, 0, 0, 0, 0, 0, 0, 0, 0, 0, 0,\n",
       "       0, 0, 0, 0, 0, 0, 0, 0, 0, 0, 0, 0, 0, 0, 0, 0, 0, 0, 0, 0, 0, 0,\n",
       "       0, 0, 0, 0, 0, 0, 0, 0, 0, 0, 0, 0, 0, 0, 0, 0, 0, 0, 0, 0, 0, 0,\n",
       "       0, 0, 0, 0, 0, 0, 0, 0, 0, 0, 0, 0, 0, 0, 0, 0])"
      ]
     },
     "execution_count": 46,
     "metadata": {},
     "output_type": "execute_result"
    }
   ],
   "source": [
    "Y.values"
   ]
  },
  {
   "cell_type": "markdown",
   "id": "faee1f10",
   "metadata": {
    "papermill": {
     "duration": 0.076921,
     "end_time": "2021-09-29T06:34:26.025775",
     "exception": false,
     "start_time": "2021-09-29T06:34:25.948854",
     "status": "completed"
    },
    "tags": []
   },
   "source": [
    "Other metriics score"
   ]
  },
  {
   "cell_type": "code",
   "execution_count": 47,
   "id": "3052685e",
   "metadata": {
    "execution": {
     "iopub.execute_input": "2021-09-29T06:34:26.183072Z",
     "iopub.status.busy": "2021-09-29T06:34:26.182429Z",
     "iopub.status.idle": "2021-09-29T06:34:26.188233Z",
     "shell.execute_reply": "2021-09-29T06:34:26.188715Z",
     "shell.execute_reply.started": "2021-09-29T06:29:57.144179Z"
    },
    "papermill": {
     "duration": 0.085223,
     "end_time": "2021-09-29T06:34:26.188883",
     "exception": false,
     "start_time": "2021-09-29T06:34:26.103660",
     "status": "completed"
    },
    "tags": []
   },
   "outputs": [
    {
     "data": {
      "text/plain": [
       "0.8514851485148515"
      ]
     },
     "execution_count": 47,
     "metadata": {},
     "output_type": "execute_result"
    }
   ],
   "source": [
    "from sklearn.metrics import f1_score\n",
    "f1_score(y_test, pred)\n"
   ]
  },
  {
   "cell_type": "code",
   "execution_count": 48,
   "id": "fdf383c1",
   "metadata": {
    "execution": {
     "iopub.execute_input": "2021-09-29T06:34:26.347072Z",
     "iopub.status.busy": "2021-09-29T06:34:26.346423Z",
     "iopub.status.idle": "2021-09-29T06:34:26.351995Z",
     "shell.execute_reply": "2021-09-29T06:34:26.352497Z",
     "shell.execute_reply.started": "2021-09-29T06:30:03.735323Z"
    },
    "papermill": {
     "duration": 0.086928,
     "end_time": "2021-09-29T06:34:26.352665",
     "exception": false,
     "start_time": "2021-09-29T06:34:26.265737",
     "status": "completed"
    },
    "tags": []
   },
   "outputs": [
    {
     "data": {
      "text/plain": [
       "0.8351648351648352"
      ]
     },
     "execution_count": 48,
     "metadata": {},
     "output_type": "execute_result"
    }
   ],
   "source": [
    "from sklearn.metrics import accuracy_score\n",
    "accuracy_score(y_test, pred)"
   ]
  },
  {
   "cell_type": "code",
   "execution_count": 49,
   "id": "5c945787",
   "metadata": {
    "execution": {
     "iopub.execute_input": "2021-09-29T06:34:26.513934Z",
     "iopub.status.busy": "2021-09-29T06:34:26.513275Z",
     "iopub.status.idle": "2021-09-29T06:34:26.519433Z",
     "shell.execute_reply": "2021-09-29T06:34:26.519911Z",
     "shell.execute_reply.started": "2021-09-29T06:30:10.125006Z"
    },
    "papermill": {
     "duration": 0.087696,
     "end_time": "2021-09-29T06:34:26.520076",
     "exception": false,
     "start_time": "2021-09-29T06:34:26.432380",
     "status": "completed"
    },
    "tags": []
   },
   "outputs": [
    {
     "data": {
      "text/plain": [
       "0.8113207547169812"
      ]
     },
     "execution_count": 49,
     "metadata": {},
     "output_type": "execute_result"
    }
   ],
   "source": [
    "from sklearn.metrics import precision_score\n",
    "precision_score(y_test, pred)"
   ]
  },
  {
   "cell_type": "code",
   "execution_count": 50,
   "id": "af440bb1",
   "metadata": {
    "execution": {
     "iopub.execute_input": "2021-09-29T06:34:26.680686Z",
     "iopub.status.busy": "2021-09-29T06:34:26.680106Z",
     "iopub.status.idle": "2021-09-29T06:34:26.686041Z",
     "shell.execute_reply": "2021-09-29T06:34:26.686543Z",
     "shell.execute_reply.started": "2021-09-29T06:30:18.230694Z"
    },
    "papermill": {
     "duration": 0.087992,
     "end_time": "2021-09-29T06:34:26.686698",
     "exception": false,
     "start_time": "2021-09-29T06:34:26.598706",
     "status": "completed"
    },
    "tags": []
   },
   "outputs": [
    {
     "data": {
      "text/plain": [
       "0.8958333333333334"
      ]
     },
     "execution_count": 50,
     "metadata": {},
     "output_type": "execute_result"
    }
   ],
   "source": [
    "from sklearn.metrics import recall_score\n",
    "recall_score(y_test, pred)"
   ]
  }
 ],
 "metadata": {
  "kernelspec": {
   "display_name": "Python 3",
   "language": "python",
   "name": "python3"
  },
  "language_info": {
   "codemirror_mode": {
    "name": "ipython",
    "version": 3
   },
   "file_extension": ".py",
   "mimetype": "text/x-python",
   "name": "python",
   "nbconvert_exporter": "python",
   "pygments_lexer": "ipython3",
   "version": "3.8.8"
  },
  "papermill": {
   "default_parameters": {},
   "duration": 74.883352,
   "end_time": "2021-09-29T06:34:28.026119",
   "environment_variables": {},
   "exception": null,
   "input_path": "__notebook__.ipynb",
   "output_path": "__notebook__.ipynb",
   "parameters": {},
   "start_time": "2021-09-29T06:33:13.142767",
   "version": "2.3.3"
  }
 },
 "nbformat": 4,
 "nbformat_minor": 5
}
