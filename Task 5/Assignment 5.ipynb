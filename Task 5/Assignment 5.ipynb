{
 "cells": [
  {
   "cell_type": "markdown",
   "id": "3a7a76b2",
   "metadata": {},
   "source": [
    "## Task 5\n",
    "\n",
    "**REFERRAL CODE:** SIRSS2105\n",
    "**<br>SHUBHAM SALOKHE**"
   ]
  },
  {
   "cell_type": "markdown",
   "id": "a10f4553",
   "metadata": {},
   "source": [
    "1. Given a list of integers, write a function to return the sum of all prime numbers in that list."
   ]
  },
  {
   "cell_type": "code",
   "execution_count": 1,
   "id": "9b7663b7",
   "metadata": {},
   "outputs": [
    {
     "name": "stdout",
     "output_type": "stream",
     "text": [
      "Enter the starting value: 45\n",
      "Enter the Ending value: 36\n",
      "[]\n",
      "0\n"
     ]
    }
   ],
   "source": [
    "start = int(input(\"Enter the starting value: \"))\n",
    "end = int(input(\"Enter the Ending value: \"))\n",
    "prime_num= []\n",
    "for num in range(start,end+1):\n",
    "    if num >1:\n",
    "        for j in range(2,num):\n",
    "            if num % j == 0:\n",
    "                break\n",
    "                \n",
    "        else:\n",
    "                prime_num.append(num)\n",
    "        \n",
    "    \n",
    "print(prime_num)\n",
    "sum_prime_num  =sum(prime_num)\n",
    "print(sum_prime_num)"
   ]
  },
  {
   "cell_type": "markdown",
   "id": "683c7f63",
   "metadata": {},
   "source": [
    "2. Given a list of integers, write a function to check whether the list is strictly increasing or not."
   ]
  },
  {
   "cell_type": "code",
   "execution_count": 2,
   "id": "cfa7c401",
   "metadata": {},
   "outputs": [
    {
     "name": "stdout",
     "output_type": "stream",
     "text": [
      "Enter the numbers seperated by space: 2 6 9 13 15 16\n",
      "The list is strictly increasing\n"
     ]
    }
   ],
   "source": [
    "def check(nums):\n",
    "    if len(nums) <=2:\n",
    "        return True\n",
    "    if len(set(nums)) != len(nums):   #set used for no duplicates present in that list\n",
    "        #example 4 !=5 (true condition)then this statement print below line which is returns the False\n",
    "        return False\n",
    "    Ordered = sorted(nums) #sorted function used for list of values arrange in ascending order \n",
    "    return nums ==Ordered or nums == Ordered[::-1]\n",
    "    # return when at least one condition \n",
    "ls  = list(input('Enter the numbers seperated by space: ').split(' '))\n",
    "ls = [int(i) for i in ls]\n",
    "if check(ls):\n",
    "    print('The list is strictly increasing')\n",
    "else:\n",
    "    print('The list is not strictly increasing')"
   ]
  },
  {
   "cell_type": "markdown",
   "id": "1f675224",
   "metadata": {},
   "source": [
    "3. Write a function to check whether a given list is expanding or not (the difference between adjacent elements should keep on increasing)."
   ]
  },
  {
   "cell_type": "code",
   "execution_count": 3,
   "id": "6b984aec",
   "metadata": {},
   "outputs": [
    {
     "data": {
      "text/plain": [
       "False"
      ]
     },
     "execution_count": 3,
     "metadata": {},
     "output_type": "execute_result"
    }
   ],
   "source": [
    "def expand(m):\n",
    "    a = abs(m[1] - m[0])\n",
    "    b = abs(m[2] - m[1])\n",
    "    \n",
    "    if a >= b:\n",
    "        return False\n",
    "    \n",
    "    else:\n",
    "        for i in range(3,len(m)):\n",
    "            c = abs(m[i] - m[i-1])\n",
    "            if c <= b:\n",
    "                return False\n",
    "            b = c\n",
    "        else:\n",
    "            return True\n",
    "expand([23,56,11,90,43])"
   ]
  },
  {
   "cell_type": "markdown",
   "id": "b3fc0bdc",
   "metadata": {},
   "source": [
    "4. Write a function to calculate all permutations of a given string. (Without using itertools)"
   ]
  },
  {
   "cell_type": "code",
   "execution_count": 4,
   "id": "2de740d0",
   "metadata": {},
   "outputs": [
    {
     "name": "stdout",
     "output_type": "stream",
     "text": [
      "Enter the string : Good \n",
      "All possible strings are : \n",
      "Good   Goo d  Godo   God o  Go od  Go do  Good   Goo d  Godo   God o  Go od  Go do  Gdoo   Gdo o  Gdoo   Gdo o  Gd oo  Gd oo  G ood  G odo  G ood  G odo  G doo  G doo  oGod   oGo d  oGdo   oGd o  oG od  oG do  ooGd   ooG d  oodG   ood G  oo Gd  oo dG  odGo   odG o  odoG   odo G  od Go  od oG  o God  o Gdo  o oGd  o odG  o dGo  o doG  oGod   oGo d  oGdo   oGd o  oG od  oG do  ooGd   ooG d  oodG   ood G  oo Gd  oo dG  odGo   odG o  odoG   odo G  od Go  od oG  o God  o Gdo  o oGd  o odG  o dGo  o doG  dGoo   dGo o  dGoo   dGo o  dG oo  dG oo  doGo   doG o  dooG   doo G  do Go  do oG  doGo   doG o  dooG   doo G  do Go  do oG  d Goo  d Goo  d oGo  d ooG  d oGo  d ooG   Good   Godo   Good   Godo   Gdoo   Gdoo   oGod   oGdo   ooGd   oodG   odGo   odoG   oGod   oGdo   ooGd   oodG   odGo   odoG   dGoo   dGoo   doGo   dooG   doGo   dooG  "
     ]
    }
   ],
   "source": [
    "def permutation(n, ans):\n",
    "    if (len(n) == 0):\n",
    "        print(ans, end = \"  \")\n",
    "        return\n",
    "     \n",
    "    for i in range(len(n)):\n",
    "        ch = n[i]\n",
    "        left = n[0:i]\n",
    "        right = n[i + 1:]\n",
    "        rest = left + right\n",
    "        permutation(rest, ans + ch)\n",
    "ans = \"\"\n",
    "n = input(\"Enter the string : \")\n",
    "print(\"All possible strings are : \")\n",
    "permutation(n, ans)"
   ]
  }
 ],
 "metadata": {
  "kernelspec": {
   "display_name": "Python 3",
   "language": "python",
   "name": "python3"
  },
  "language_info": {
   "codemirror_mode": {
    "name": "ipython",
    "version": 3
   },
   "file_extension": ".py",
   "mimetype": "text/x-python",
   "name": "python",
   "nbconvert_exporter": "python",
   "pygments_lexer": "ipython3",
   "version": "3.8.8"
  }
 },
 "nbformat": 4,
 "nbformat_minor": 5
}
