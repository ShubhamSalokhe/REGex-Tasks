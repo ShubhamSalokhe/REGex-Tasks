{
 "cells": [
  {
   "cell_type": "markdown",
   "id": "f8722ab7",
   "metadata": {},
   "source": [
    "## Task 2 "
   ]
  },
  {
   "cell_type": "markdown",
   "id": "ecf7cda5",
   "metadata": {},
   "source": [
    "###  REFERRAL CODE: SIRSS2105"
   ]
  },
  {
   "cell_type": "markdown",
   "id": "367aaa50",
   "metadata": {},
   "source": [
    "### SHUBHAM SALOKHE"
   ]
  },
  {
   "cell_type": "markdown",
   "id": "5c72db84",
   "metadata": {},
   "source": [
    "## 1. Write a lambda expression to extract first word of a string."
   ]
  },
  {
   "cell_type": "code",
   "execution_count": 1,
   "id": "b94a37d4",
   "metadata": {},
   "outputs": [
    {
     "name": "stdout",
     "output_type": "stream",
     "text": [
      "Messi Leaves Barcelona\n"
     ]
    }
   ],
   "source": [
    "# Lambda function in session 5\n",
    "st= \"Messi Leaves Barcelona\"\n",
    "la = lambda st:st.split()[0]\n",
    "print(st)"
   ]
  },
  {
   "cell_type": "code",
   "execution_count": 2,
   "id": "53ad5084",
   "metadata": {},
   "outputs": [
    {
     "name": "stdout",
     "output_type": "stream",
     "text": [
      "Messi\n"
     ]
    }
   ],
   "source": [
    "print(la(st))"
   ]
  },
  {
   "cell_type": "markdown",
   "id": "3847b532",
   "metadata": {},
   "source": [
    "## 2.  Write a function to extract first word of s string (with many words separated by space)."
   ]
  },
  {
   "cell_type": "code",
   "execution_count": 3,
   "id": "dafcddf5",
   "metadata": {},
   "outputs": [],
   "source": [
    "def first_word(s):\n",
    "    return s.split()[0]\n"
   ]
  },
  {
   "cell_type": "code",
   "execution_count": 4,
   "id": "29b55000",
   "metadata": {},
   "outputs": [
    {
     "name": "stdout",
     "output_type": "stream",
     "text": [
      "Messi Leaves Barcelona\n"
     ]
    },
    {
     "data": {
      "text/plain": [
       "'Messi'"
      ]
     },
     "execution_count": 4,
     "metadata": {},
     "output_type": "execute_result"
    }
   ],
   "source": [
    "a = \"Messi Leaves Barcelona\"\n",
    "print(a)\n",
    "first_word(a)"
   ]
  },
  {
   "cell_type": "markdown",
   "id": "f3a3e6f8",
   "metadata": {},
   "source": [
    "## 3. Extract the first word from every string from a list of strings by using map function."
   ]
  },
  {
   "cell_type": "code",
   "execution_count": 5,
   "id": "e007fe7d",
   "metadata": {},
   "outputs": [
    {
     "data": {
      "text/plain": [
       "['Mumbai is capital of Maharashtra',\n",
       " 'Delhi is capital of India',\n",
       " 'Jaipur is capital of Rajashtan',\n",
       " 'Banglore is capital of Karnataka',\n",
       " 'Hayderabad is capital of Telangana',\n",
       " 'Lucknow is capital of Uttar pradesh',\n",
       " 'Kanpur is the city of uttar pradesh ']"
      ]
     },
     "execution_count": 5,
     "metadata": {},
     "output_type": "execute_result"
    }
   ],
   "source": [
    "ls = ['Mumbai is capital of Maharashtra','Delhi is capital of India','Jaipur is capital of Rajashtan','Banglore is capital of Karnataka','Hayderabad is capital of Telangana','Lucknow is capital of Uttar pradesh','Kanpur is the city of uttar pradesh ']\n",
    "ls"
   ]
  },
  {
   "cell_type": "code",
   "execution_count": 6,
   "id": "b24f5967",
   "metadata": {},
   "outputs": [
    {
     "data": {
      "text/plain": [
       "['Mumbai', 'Delhi', 'Jaipur', 'Banglore', 'Hayderabad', 'Lucknow', 'Kanpur']"
      ]
     },
     "execution_count": 6,
     "metadata": {},
     "output_type": "execute_result"
    }
   ],
   "source": [
    "def first_word(x):\n",
    "    return x.split()[0]\n",
    "list(map(first_word,ls))"
   ]
  },
  {
   "cell_type": "markdown",
   "id": "52fd7adc",
   "metadata": {},
   "source": [
    "## 4. Write a function to return a list of prime factors of a given number."
   ]
  },
  {
   "cell_type": "code",
   "execution_count": 7,
   "id": "d29271e0",
   "metadata": {},
   "outputs": [],
   "source": [
    "def prime_factor(num):\n",
    "    ls = [1,]\n",
    "    \n",
    "    while num % 2 ==0:\n",
    "        ls.append(2)\n",
    "        num /= 2\n",
    "        \n",
    "    for i in range(3,int(n**0.5)+1,2):\n",
    "        \n",
    "        while num % i ==0:\n",
    "            ls.append(i)\n",
    "            num /= i\n",
    "    if num>2:\n",
    "        ls.append(int(num))\n",
    "    print(ls)"
   ]
  },
  {
   "cell_type": "code",
   "execution_count": 8,
   "id": "858e5a8d",
   "metadata": {},
   "outputs": [
    {
     "name": "stdout",
     "output_type": "stream",
     "text": [
      "8686\n",
      "[1, 2, 43, 101]\n"
     ]
    }
   ],
   "source": [
    "n = int(input())\n",
    "prime_factor(n)"
   ]
  },
  {
   "cell_type": "markdown",
   "id": "b20adf78",
   "metadata": {},
   "source": [
    "## 5. Write a function that finds 2nd largest among 4 numbers (Repetitions are allowed, without sorting).\n"
   ]
  },
  {
   "cell_type": "code",
   "execution_count": 9,
   "id": "54ee8b3c",
   "metadata": {},
   "outputs": [],
   "source": [
    "def sec_large(N1,N2,N3,N4):\n",
    "    ls = [N1,N2,N3,N4]\n",
    "    \n",
    "    m = max(ls)\n",
    "    \n",
    "    for i in ls:\n",
    "        if i ==m:\n",
    "            Number = ls.remove(i)\n",
    "    a = max(ls)\n",
    "    print(a)\n",
    "    "
   ]
  },
  {
   "cell_type": "code",
   "execution_count": 10,
   "id": "2f04904c",
   "metadata": {},
   "outputs": [
    {
     "name": "stdout",
     "output_type": "stream",
     "text": [
      "5\n"
     ]
    }
   ],
   "source": [
    "sec_large(2,5,7,4)"
   ]
  }
 ],
 "metadata": {
  "kernelspec": {
   "display_name": "Python 3",
   "language": "python",
   "name": "python3"
  },
  "language_info": {
   "codemirror_mode": {
    "name": "ipython",
    "version": 3
   },
   "file_extension": ".py",
   "mimetype": "text/x-python",
   "name": "python",
   "nbconvert_exporter": "python",
   "pygments_lexer": "ipython3",
   "version": "3.8.8"
  }
 },
 "nbformat": 4,
 "nbformat_minor": 5
}
