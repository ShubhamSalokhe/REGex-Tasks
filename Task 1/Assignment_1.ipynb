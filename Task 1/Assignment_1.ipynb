{
 "cells": [
  {
   "cell_type": "markdown",
   "id": "2af565e1",
   "metadata": {},
   "source": [
    "## Task1-Pattern Programming"
   ]
  },
  {
   "cell_type": "markdown",
   "id": "8369a678",
   "metadata": {},
   "source": [
    "###  REFERRAL CODE: SIRSS2105"
   ]
  },
  {
   "cell_type": "markdown",
   "id": "c52ee718",
   "metadata": {},
   "source": [
    "### **SHUBHAM SALOKHE**"
   ]
  },
  {
   "cell_type": "markdown",
   "id": "1f684f08",
   "metadata": {},
   "source": [
    "1. "
   ]
  },
  {
   "cell_type": "code",
   "execution_count": 1,
   "id": "8e2f3454",
   "metadata": {},
   "outputs": [
    {
     "name": "stdout",
     "output_type": "stream",
     "text": [
      "5 5 5 5 5  \n",
      "5 5 5 5  \n",
      "5 5 5  \n",
      "5 5  \n",
      "5  \n"
     ]
    }
   ],
   "source": [
    "n=5\n",
    "for col in range(5,0,-1):\n",
    "    for row in range(col):\n",
    "        print(\"5\",end=(' '))\n",
    "    print(\" \")"
   ]
  },
  {
   "cell_type": "markdown",
   "id": "4176b1a2",
   "metadata": {},
   "source": [
    "2. "
   ]
  },
  {
   "cell_type": "code",
   "execution_count": 2,
   "id": "bbe08891",
   "metadata": {},
   "outputs": [
    {
     "name": "stdout",
     "output_type": "stream",
     "text": [
      "0 1 2 3 4  \n",
      "0 1 2 3  \n",
      "0 1 2  \n",
      "0 1  \n"
     ]
    }
   ],
   "source": [
    "for col in range(5,1,-1):\n",
    "    for row in range(col):\n",
    "        print(row,end=(\" \"))\n",
    "    print(\" \")"
   ]
  },
  {
   "cell_type": "markdown",
   "id": "4bc5a4f6",
   "metadata": {},
   "source": [
    "3. "
   ]
  },
  {
   "cell_type": "code",
   "execution_count": 4,
   "id": "ad3198da",
   "metadata": {},
   "outputs": [
    {
     "name": "stdout",
     "output_type": "stream",
     "text": [
      "1 \n",
      "3 3 \n",
      "5 5 5 \n",
      "7 7 7 7 \n",
      "9 9 9 9 9 \n"
     ]
    }
   ],
   "source": [
    "row=5\n",
    "i=1\n",
    "while i<=row:\n",
    "    j=1\n",
    "    while j<=i:\n",
    "        print((i*2-1),end=(\" \"))\n",
    "        j+=1\n",
    "    i=i+1\n",
    "    print()"
   ]
  },
  {
   "cell_type": "markdown",
   "id": "49da5ea0",
   "metadata": {},
   "source": [
    "4. "
   ]
  },
  {
   "cell_type": "code",
   "execution_count": 6,
   "id": "2350e498",
   "metadata": {},
   "outputs": [
    {
     "name": "stdout",
     "output_type": "stream",
     "text": [
      "1  \n",
      "2 1  \n",
      "3 2 1  \n",
      "4 3 2 1  \n",
      "5 4 3 2 1  \n"
     ]
    }
   ],
   "source": [
    "rows= 5\n",
    "for row in range(1,rows+1):\n",
    "    for col in range(row,0,-1):\n",
    "        print(col,end=\" \")\n",
    "    print(\" \")"
   ]
  },
  {
   "cell_type": "markdown",
   "id": "ca513509",
   "metadata": {},
   "source": [
    "5. "
   ]
  },
  {
   "cell_type": "code",
   "execution_count": 7,
   "id": "6e5361f7",
   "metadata": {},
   "outputs": [
    {
     "name": "stdout",
     "output_type": "stream",
     "text": [
      "1 \n",
      "3 2 \n",
      "6 5 4 \n",
      "10 9 8 7 \n"
     ]
    }
   ],
   "source": [
    "start=  1\n",
    "stop = 2\n",
    "current_num = stop\n",
    "for row in range(2,6):\n",
    "    for col in range(start, stop):\n",
    "        current_num= current_num-1\n",
    "        print(current_num, end=\" \")\n",
    "    print(\"\")\n",
    "    start = stop\n",
    "    stop= stop +row\n",
    "    current_num= stop\n",
    "    "
   ]
  },
  {
   "cell_type": "markdown",
   "id": "38d57d38",
   "metadata": {},
   "source": [
    "6. "
   ]
  },
  {
   "cell_type": "code",
   "execution_count": 8,
   "id": "bd5a7d4a",
   "metadata": {},
   "outputs": [
    {
     "name": "stdout",
     "output_type": "stream",
     "text": [
      "1 \n",
      "1 1 \n",
      "1 2 1 \n",
      "1 3 3 1 \n",
      "1 4 6 4 1 \n",
      "1 5 10 10 5 1 \n",
      "1 6 15 20 15 6 1 \n"
     ]
    }
   ],
   "source": [
    "def print_pascal_triangle(size):\n",
    "    for i in range (0, size):\n",
    "        for j in range(0, i + 1):\n",
    "            print(decide_number(i, j), end= \" \")\n",
    "        print()\n",
    "        \n",
    "        \n",
    "        \n",
    "def decide_number(n, k):\n",
    "    num = 1\n",
    "    if k>n-k:\n",
    "        k = n-k\n",
    "    for i in range (0,k):\n",
    "        num = num *(n- i)\n",
    "        num = num // (i + 1)\n",
    "    return num \n",
    "\n",
    "# set rows \n",
    "rows = 7\n",
    "print_pascal_triangle(rows)           "
   ]
  },
  {
   "cell_type": "markdown",
   "id": "24ca6f21",
   "metadata": {},
   "source": [
    "7."
   ]
  },
  {
   "cell_type": "code",
   "execution_count": 9,
   "id": "4430bf8b",
   "metadata": {},
   "outputs": [
    {
     "name": "stdout",
     "output_type": "stream",
     "text": [
      "1 2 3 4 5 \n",
      "2 2 3 4 5 \n",
      "3 3 3 4 5 \n",
      "4 4 4 4 5 \n",
      "5 5 5 5 5 \n"
     ]
    }
   ],
   "source": [
    "rows = 5\n",
    "for i in range(1, rows +1):\n",
    "    for j in range(1,rows +1):\n",
    "        if j <= i:\n",
    "            print(i , end= \" \")\n",
    "        else:\n",
    "            print(j, end= \" \")\n",
    "    print()"
   ]
  },
  {
   "cell_type": "markdown",
   "id": "04393ed4",
   "metadata": {},
   "source": [
    "8."
   ]
  },
  {
   "cell_type": "code",
   "execution_count": 10,
   "id": "a85873ea",
   "metadata": {},
   "outputs": [
    {
     "name": "stdout",
     "output_type": "stream",
     "text": [
      "1 \n",
      "2 4 \n",
      "3 6 9 \n",
      "4 8 12 16 \n",
      "5 10 15 20 25 \n",
      "6 12 18 24 30 36 \n",
      "7 14 21 28 35 42 49 \n",
      "8 16 24 32 40 48 56 64 \n"
     ]
    }
   ],
   "source": [
    "rows = 8\n",
    "for i in range(1, rows + 1):\n",
    "    for j in range(1, i + 1):\n",
    "        square = i*j\n",
    "        print(i*j, end =\" \")\n",
    "    print()"
   ]
  },
  {
   "cell_type": "markdown",
   "id": "6fcc2dd2",
   "metadata": {},
   "source": [
    "9. "
   ]
  },
  {
   "cell_type": "code",
   "execution_count": 11,
   "id": "83ff9ed7",
   "metadata": {},
   "outputs": [
    {
     "name": "stdout",
     "output_type": "stream",
     "text": [
      "        * * * * * * \n",
      "         * * * * * \n",
      "          * * * * \n",
      "           * * * \n",
      "            * * \n",
      "             * \n"
     ]
    }
   ],
   "source": [
    "rows = 5\n",
    "k = 2* rows -2\n",
    "for i in range(rows, -1,-1):\n",
    "    for j in range(k, 0, -1):\n",
    "        print(end= \" \")\n",
    "    k = k + 1\n",
    "    for j in range(0, i+1):\n",
    "        print(\"*\", end=\" \")\n",
    "    print()\n"
   ]
  },
  {
   "cell_type": "markdown",
   "id": "0f0f9755",
   "metadata": {},
   "source": [
    "10. "
   ]
  },
  {
   "cell_type": "code",
   "execution_count": 12,
   "id": "d2d940b4",
   "metadata": {},
   "outputs": [
    {
     "name": "stdout",
     "output_type": "stream",
     "text": [
      "            *  \n",
      "           * *  \n",
      "          * * *  \n",
      "         * * * *  \n",
      "        * * * * *  \n",
      "       * * * * * *  \n",
      "      * * * * * * *  \n"
     ]
    }
   ],
   "source": [
    "rows = 7\n",
    "m = (2*rows)-2\n",
    "for row in range(0,rows):\n",
    "    for col in range(0,m):\n",
    "        print(end=\" \")\n",
    "    \n",
    "    m = m-1\n",
    "    for col in range(0,row+1):\n",
    "        print(\"*\", end = \" \")\n",
    "    print(\" \")"
   ]
  },
  {
   "cell_type": "markdown",
   "id": "de6d2a45",
   "metadata": {},
   "source": [
    "11."
   ]
  },
  {
   "cell_type": "code",
   "execution_count": 13,
   "id": "e6ea56ce",
   "metadata": {},
   "outputs": [
    {
     "name": "stdout",
     "output_type": "stream",
     "text": [
      "\n",
      "* \n",
      "* * \n",
      "* * * \n",
      "* * * * \n",
      "* * * * * \n",
      "* * * * * * \n",
      "\n",
      "* * * * * * \n",
      "* * * * * \n",
      "* * * * \n",
      "* * * \n",
      "* * \n",
      "* \n",
      "\n"
     ]
    }
   ],
   "source": [
    "rows=7\n",
    "for row in range(0,rows):\n",
    "    for col in range(row):\n",
    "        print(\"*\", end=\" \")\n",
    "    print()\n",
    "print()    \n",
    "for row in range(rows,0,-1):\n",
    "    for col in range(row-1):\n",
    "        print(\"*\",end=\" \")\n",
    "    print()"
   ]
  },
  {
   "cell_type": "markdown",
   "id": "137c32b0",
   "metadata": {},
   "source": [
    "12. "
   ]
  },
  {
   "cell_type": "code",
   "execution_count": 14,
   "id": "fb038b84",
   "metadata": {},
   "outputs": [
    {
     "name": "stdout",
     "output_type": "stream",
     "text": [
      "\n",
      "* \n",
      "* * \n",
      "* * * \n",
      "* * * * \n",
      "* * * * * \n",
      "* * * * \n",
      "* * * \n",
      "* * \n",
      "* \n"
     ]
    }
   ],
   "source": [
    "rows=5\n",
    "for row in range(0,rows):\n",
    "    for col in range(0,row):\n",
    "        print(\"*\",end=\" \")\n",
    "    print()\n",
    "for row in range(rows,0,-1):\n",
    "    for col in range(0,row):\n",
    "        print(\"*\",end=\" \")\n",
    "    print()"
   ]
  },
  {
   "cell_type": "markdown",
   "id": "7dcdbafa",
   "metadata": {},
   "source": [
    "13. "
   ]
  },
  {
   "cell_type": "code",
   "execution_count": 25,
   "id": "eab99983",
   "metadata": {},
   "outputs": [
    {
     "name": "stdout",
     "output_type": "stream",
     "text": [
      "        * \n",
      "      * * \n",
      "    * * * \n",
      "  * * * * \n",
      "* * * * * \n",
      "  * * * * \n",
      "    * * * \n",
      "      * * \n",
      "        * \n",
      "          \n"
     ]
    }
   ],
   "source": [
    "rows =5\n",
    "i=1\n",
    "while i <= rows:\n",
    "    j = i\n",
    "    while j< rows:\n",
    "        #display space\n",
    "        print(\" \", end = \" \")\n",
    "        j += 1\n",
    "    k = 1\n",
    "    while k <= i:\n",
    "        print(\"*\", end=\" \")\n",
    "        k +=1\n",
    "    print()\n",
    "    i +=1\n",
    "    \n",
    "i = rows\n",
    "while i >= 1:\n",
    "    j=i\n",
    "    while j <= rows:\n",
    "        print(\" \", end=\" \")\n",
    "        j +=1\n",
    "    k =1\n",
    "    while k <i:\n",
    "        print(\"*\",end = \" \")\n",
    "        k += 1\n",
    "    print(\"\")\n",
    "    i -= 1"
   ]
  },
  {
   "cell_type": "markdown",
   "id": "31443f71",
   "metadata": {},
   "source": [
    "14. "
   ]
  },
  {
   "cell_type": "code",
   "execution_count": 17,
   "id": "f61d4bbd",
   "metadata": {},
   "outputs": [
    {
     "name": "stdout",
     "output_type": "stream",
     "text": [
      "* * * * * \n",
      " * * * * \n",
      "  * * * \n",
      "   * * \n",
      "    * \n",
      "    * \n",
      "   * * \n",
      "  * * * \n",
      " * * * * \n",
      "* * * * * \n"
     ]
    }
   ],
   "source": [
    "rows = 5\n",
    "i = 0\n",
    "while i <= rows - 1:\n",
    "    j = 0\n",
    "    while j < i:\n",
    "        # display space\n",
    "        print('', end=' ')\n",
    "        j += 1\n",
    "    k = i\n",
    "    while k <= rows - 1:\n",
    "        print('*', end=' ')\n",
    "        k += 1\n",
    "    print()\n",
    "    i += 1\n",
    "\n",
    "i = rows - 1\n",
    "while i >= 0:\n",
    "    j = 0\n",
    "    while j < i:\n",
    "        print('', end=' ')\n",
    "        j += 1\n",
    "    k = i\n",
    "    while k <= rows - 1:\n",
    "        print('*', end=' ')\n",
    "        k += 1\n",
    "    print('')\n",
    "    i -= 1\n",
    "\n",
    "    "
   ]
  },
  {
   "cell_type": "markdown",
   "id": "01607d8e",
   "metadata": {},
   "source": [
    "15. "
   ]
  },
  {
   "cell_type": "code",
   "execution_count": 19,
   "id": "f0513ee6",
   "metadata": {},
   "outputs": [
    {
     "name": "stdout",
     "output_type": "stream",
     "text": [
      "**************\n",
      "******__******\n",
      "*****____*****\n",
      "****______****\n",
      "***________***\n",
      "**__________**\n",
      "*____________*\n"
     ]
    }
   ],
   "source": [
    "column = 14 \n",
    "print(\"*\" * column, end=\"\\n\")\n",
    "i = (column // 2)-1\n",
    "j = 2\n",
    "while i !=0:\n",
    "    while j <= (column -2):\n",
    "        print(\"*\" *i, end=\"\")\n",
    "        print(\"_\" * j, end=\"\")\n",
    "        print(\"*\" * i, end=\"\\n\")\n",
    "        i = i -1\n",
    "        j= j+2"
   ]
  }
 ],
 "metadata": {
  "kernelspec": {
   "display_name": "Python 3",
   "language": "python",
   "name": "python3"
  },
  "language_info": {
   "codemirror_mode": {
    "name": "ipython",
    "version": 3
   },
   "file_extension": ".py",
   "mimetype": "text/x-python",
   "name": "python",
   "nbconvert_exporter": "python",
   "pygments_lexer": "ipython3",
   "version": "3.8.8"
  }
 },
 "nbformat": 4,
 "nbformat_minor": 5
}
