{
 "cells": [
  {
   "cell_type": "markdown",
   "id": "34c02b43",
   "metadata": {},
   "source": [
    "## Task 4\n",
    "**REFERRAL CODE:** SIRSS2105\n",
    "**<br>SHUBHAM SALOKHE**"
   ]
  },
  {
   "cell_type": "markdown",
   "id": "b6adb16b",
   "metadata": {
    "papermill": {
     "duration": 0.01248,
     "end_time": "2021-08-19T08:15:28.981890",
     "exception": false,
     "start_time": "2021-08-19T08:15:28.969410",
     "status": "completed"
    },
    "tags": []
   },
   "source": [
    "### Import neccesary libraries"
   ]
  },
  {
   "cell_type": "code",
   "execution_count": 1,
   "id": "4b5315ff",
   "metadata": {
    "execution": {
     "iopub.execute_input": "2021-08-19T08:15:29.069565Z",
     "iopub.status.busy": "2021-08-19T08:15:29.068910Z",
     "iopub.status.idle": "2021-08-19T08:15:29.220039Z",
     "shell.execute_reply": "2021-08-19T08:15:29.219567Z",
     "shell.execute_reply.started": "2021-08-19T08:14:54.329400Z"
    },
    "papermill": {
     "duration": 0.173977,
     "end_time": "2021-08-19T08:15:29.220181",
     "exception": false,
     "start_time": "2021-08-19T08:15:29.046204",
     "status": "completed"
    },
    "tags": []
   },
   "outputs": [
    {
     "data": {
      "text/html": [
       "        <script type=\"text/javascript\">\n",
       "        window.PlotlyConfig = {MathJaxConfig: 'local'};\n",
       "        if (window.MathJax) {MathJax.Hub.Config({SVG: {font: \"STIX-Web\"}});}\n",
       "        if (typeof require !== 'undefined') {\n",
       "        require.undef(\"plotly\");\n",
       "        requirejs.config({\n",
       "            paths: {\n",
       "                'plotly': ['https://cdn.plot.ly/plotly-2.4.1.min']\n",
       "            }\n",
       "        });\n",
       "        require(['plotly'], function(Plotly) {\n",
       "            window._Plotly = Plotly;\n",
       "        });\n",
       "        }\n",
       "        </script>\n",
       "        "
      ]
     },
     "metadata": {},
     "output_type": "display_data"
    }
   ],
   "source": [
    "import pandas as pd \n",
    "import numpy as np\n",
    "import matplotlib.pyplot as plt\n",
    "import plotly.graph_objects as go\n",
    "%matplotlib inline\n",
    "from plotly.offline import plot, iplot, init_notebook_mode\n",
    "init_notebook_mode(connected=True)"
   ]
  },
  {
   "cell_type": "markdown",
   "id": "a22a0b9b",
   "metadata": {
    "papermill": {
     "duration": 0.011825,
     "end_time": "2021-08-19T08:15:29.244233",
     "exception": false,
     "start_time": "2021-08-19T08:15:29.232408",
     "status": "completed"
    },
    "tags": []
   },
   "source": [
    "### Loading data\n"
   ]
  },
  {
   "cell_type": "code",
   "execution_count": 2,
   "id": "789a85e2",
   "metadata": {
    "execution": {
     "iopub.execute_input": "2021-08-19T08:15:29.272928Z",
     "iopub.status.busy": "2021-08-19T08:15:29.272311Z",
     "iopub.status.idle": "2021-08-19T08:15:29.310440Z",
     "shell.execute_reply": "2021-08-19T08:15:29.309994Z",
     "shell.execute_reply.started": "2021-08-19T08:14:54.491118Z"
    },
    "papermill": {
     "duration": 0.054416,
     "end_time": "2021-08-19T08:15:29.310583",
     "exception": false,
     "start_time": "2021-08-19T08:15:29.256167",
     "status": "completed"
    },
    "tags": []
   },
   "outputs": [
    {
     "data": {
      "text/plain": [
       "Index(['Name', 'SUBDIVISION', 'YEAR', 'JAN', 'FEB', 'MAR', 'APR', 'MAY', 'JUN',\n",
       "       'JUL', 'AUG', 'SEP', 'OCT', 'NOV', 'DEC', 'ANNUAL', 'Jan-Feb',\n",
       "       'Mar-May', 'June-September', 'Oct-Dec', 'Latitude', 'Longitude'],\n",
       "      dtype='object')"
      ]
     },
     "execution_count": 2,
     "metadata": {},
     "output_type": "execute_result"
    }
   ],
   "source": [
    "data = pd.read_csv('Rainfall_Data_LL.csv')\n",
    "data.columns"
   ]
  },
  {
   "cell_type": "code",
   "execution_count": 3,
   "id": "1b548f9d",
   "metadata": {
    "execution": {
     "iopub.execute_input": "2021-08-19T08:15:29.349944Z",
     "iopub.status.busy": "2021-08-19T08:15:29.343553Z",
     "iopub.status.idle": "2021-08-19T08:15:29.387372Z",
     "shell.execute_reply": "2021-08-19T08:15:29.386894Z",
     "shell.execute_reply.started": "2021-08-19T08:14:54.539936Z"
    },
    "papermill": {
     "duration": 0.064658,
     "end_time": "2021-08-19T08:15:29.387523",
     "exception": false,
     "start_time": "2021-08-19T08:15:29.322865",
     "status": "completed"
    },
    "tags": []
   },
   "outputs": [
    {
     "data": {
      "text/html": [
       "<div>\n",
       "<style scoped>\n",
       "    .dataframe tbody tr th:only-of-type {\n",
       "        vertical-align: middle;\n",
       "    }\n",
       "\n",
       "    .dataframe tbody tr th {\n",
       "        vertical-align: top;\n",
       "    }\n",
       "\n",
       "    .dataframe thead th {\n",
       "        text-align: right;\n",
       "    }\n",
       "</style>\n",
       "<table border=\"1\" class=\"dataframe\">\n",
       "  <thead>\n",
       "    <tr style=\"text-align: right;\">\n",
       "      <th></th>\n",
       "      <th>Name</th>\n",
       "      <th>SUBDIVISION</th>\n",
       "      <th>YEAR</th>\n",
       "      <th>JAN</th>\n",
       "      <th>FEB</th>\n",
       "      <th>MAR</th>\n",
       "      <th>APR</th>\n",
       "      <th>MAY</th>\n",
       "      <th>JUN</th>\n",
       "      <th>JUL</th>\n",
       "      <th>...</th>\n",
       "      <th>OCT</th>\n",
       "      <th>NOV</th>\n",
       "      <th>DEC</th>\n",
       "      <th>ANNUAL</th>\n",
       "      <th>Jan-Feb</th>\n",
       "      <th>Mar-May</th>\n",
       "      <th>June-September</th>\n",
       "      <th>Oct-Dec</th>\n",
       "      <th>Latitude</th>\n",
       "      <th>Longitude</th>\n",
       "    </tr>\n",
       "  </thead>\n",
       "  <tbody>\n",
       "    <tr>\n",
       "      <th>0</th>\n",
       "      <td>ROW1</td>\n",
       "      <td>Andaman &amp; Nicobar Islands</td>\n",
       "      <td>1901</td>\n",
       "      <td>49.2</td>\n",
       "      <td>87.1</td>\n",
       "      <td>29.2</td>\n",
       "      <td>2.3</td>\n",
       "      <td>528.8</td>\n",
       "      <td>517.5</td>\n",
       "      <td>365.1</td>\n",
       "      <td>...</td>\n",
       "      <td>388.5</td>\n",
       "      <td>558.2</td>\n",
       "      <td>33.6</td>\n",
       "      <td>3373.2</td>\n",
       "      <td>136.3</td>\n",
       "      <td>560.3</td>\n",
       "      <td>1696.3</td>\n",
       "      <td>980.3</td>\n",
       "      <td>12.61124</td>\n",
       "      <td>92.83165</td>\n",
       "    </tr>\n",
       "    <tr>\n",
       "      <th>1</th>\n",
       "      <td>ROW2</td>\n",
       "      <td>Andaman &amp; Nicobar Islands</td>\n",
       "      <td>1902</td>\n",
       "      <td>0.0</td>\n",
       "      <td>159.8</td>\n",
       "      <td>12.2</td>\n",
       "      <td>0.0</td>\n",
       "      <td>446.1</td>\n",
       "      <td>537.1</td>\n",
       "      <td>228.9</td>\n",
       "      <td>...</td>\n",
       "      <td>197.2</td>\n",
       "      <td>359.0</td>\n",
       "      <td>160.5</td>\n",
       "      <td>3520.7</td>\n",
       "      <td>159.8</td>\n",
       "      <td>458.3</td>\n",
       "      <td>2185.9</td>\n",
       "      <td>716.7</td>\n",
       "      <td>12.61124</td>\n",
       "      <td>92.83165</td>\n",
       "    </tr>\n",
       "    <tr>\n",
       "      <th>2</th>\n",
       "      <td>ROW3</td>\n",
       "      <td>Andaman &amp; Nicobar Islands</td>\n",
       "      <td>1903</td>\n",
       "      <td>12.7</td>\n",
       "      <td>144.0</td>\n",
       "      <td>0.0</td>\n",
       "      <td>1.0</td>\n",
       "      <td>235.1</td>\n",
       "      <td>479.9</td>\n",
       "      <td>728.4</td>\n",
       "      <td>...</td>\n",
       "      <td>181.2</td>\n",
       "      <td>284.4</td>\n",
       "      <td>225.0</td>\n",
       "      <td>2957.4</td>\n",
       "      <td>156.7</td>\n",
       "      <td>236.1</td>\n",
       "      <td>1874.0</td>\n",
       "      <td>690.6</td>\n",
       "      <td>12.61124</td>\n",
       "      <td>92.83165</td>\n",
       "    </tr>\n",
       "    <tr>\n",
       "      <th>3</th>\n",
       "      <td>ROW4</td>\n",
       "      <td>Andaman &amp; Nicobar Islands</td>\n",
       "      <td>1904</td>\n",
       "      <td>9.4</td>\n",
       "      <td>14.7</td>\n",
       "      <td>0.0</td>\n",
       "      <td>202.4</td>\n",
       "      <td>304.5</td>\n",
       "      <td>495.1</td>\n",
       "      <td>502.0</td>\n",
       "      <td>...</td>\n",
       "      <td>222.2</td>\n",
       "      <td>308.7</td>\n",
       "      <td>40.1</td>\n",
       "      <td>3079.6</td>\n",
       "      <td>24.1</td>\n",
       "      <td>506.9</td>\n",
       "      <td>1977.6</td>\n",
       "      <td>571.0</td>\n",
       "      <td>12.61124</td>\n",
       "      <td>92.83165</td>\n",
       "    </tr>\n",
       "    <tr>\n",
       "      <th>4</th>\n",
       "      <td>ROW5</td>\n",
       "      <td>Andaman &amp; Nicobar Islands</td>\n",
       "      <td>1905</td>\n",
       "      <td>1.3</td>\n",
       "      <td>0.0</td>\n",
       "      <td>3.3</td>\n",
       "      <td>26.9</td>\n",
       "      <td>279.5</td>\n",
       "      <td>628.7</td>\n",
       "      <td>368.7</td>\n",
       "      <td>...</td>\n",
       "      <td>260.7</td>\n",
       "      <td>25.4</td>\n",
       "      <td>344.7</td>\n",
       "      <td>2566.7</td>\n",
       "      <td>1.3</td>\n",
       "      <td>309.7</td>\n",
       "      <td>1624.9</td>\n",
       "      <td>630.8</td>\n",
       "      <td>12.61124</td>\n",
       "      <td>92.83165</td>\n",
       "    </tr>\n",
       "    <tr>\n",
       "      <th>5</th>\n",
       "      <td>ROW6</td>\n",
       "      <td>Andaman &amp; Nicobar Islands</td>\n",
       "      <td>1906</td>\n",
       "      <td>36.6</td>\n",
       "      <td>0.0</td>\n",
       "      <td>0.0</td>\n",
       "      <td>0.0</td>\n",
       "      <td>556.1</td>\n",
       "      <td>733.3</td>\n",
       "      <td>247.7</td>\n",
       "      <td>...</td>\n",
       "      <td>267.8</td>\n",
       "      <td>128.9</td>\n",
       "      <td>79.2</td>\n",
       "      <td>2534.4</td>\n",
       "      <td>36.6</td>\n",
       "      <td>556.1</td>\n",
       "      <td>1465.8</td>\n",
       "      <td>475.9</td>\n",
       "      <td>12.61124</td>\n",
       "      <td>92.83165</td>\n",
       "    </tr>\n",
       "    <tr>\n",
       "      <th>6</th>\n",
       "      <td>ROW7</td>\n",
       "      <td>Andaman &amp; Nicobar Islands</td>\n",
       "      <td>1907</td>\n",
       "      <td>110.7</td>\n",
       "      <td>0.0</td>\n",
       "      <td>113.3</td>\n",
       "      <td>21.6</td>\n",
       "      <td>616.3</td>\n",
       "      <td>305.2</td>\n",
       "      <td>443.9</td>\n",
       "      <td>...</td>\n",
       "      <td>264.4</td>\n",
       "      <td>648.9</td>\n",
       "      <td>245.6</td>\n",
       "      <td>3347.9</td>\n",
       "      <td>110.7</td>\n",
       "      <td>751.2</td>\n",
       "      <td>1327.1</td>\n",
       "      <td>1158.9</td>\n",
       "      <td>12.61124</td>\n",
       "      <td>92.83165</td>\n",
       "    </tr>\n",
       "    <tr>\n",
       "      <th>7</th>\n",
       "      <td>ROW8</td>\n",
       "      <td>Andaman &amp; Nicobar Islands</td>\n",
       "      <td>1908</td>\n",
       "      <td>20.9</td>\n",
       "      <td>85.1</td>\n",
       "      <td>0.0</td>\n",
       "      <td>29.0</td>\n",
       "      <td>562.0</td>\n",
       "      <td>693.6</td>\n",
       "      <td>481.4</td>\n",
       "      <td>...</td>\n",
       "      <td>170.7</td>\n",
       "      <td>208.1</td>\n",
       "      <td>196.9</td>\n",
       "      <td>3576.4</td>\n",
       "      <td>106.0</td>\n",
       "      <td>591.0</td>\n",
       "      <td>2303.7</td>\n",
       "      <td>575.7</td>\n",
       "      <td>12.61124</td>\n",
       "      <td>92.83165</td>\n",
       "    </tr>\n",
       "    <tr>\n",
       "      <th>8</th>\n",
       "      <td>ROW9</td>\n",
       "      <td>Andaman &amp; Nicobar Islands</td>\n",
       "      <td>1910</td>\n",
       "      <td>26.6</td>\n",
       "      <td>22.7</td>\n",
       "      <td>206.3</td>\n",
       "      <td>89.3</td>\n",
       "      <td>224.5</td>\n",
       "      <td>472.7</td>\n",
       "      <td>264.3</td>\n",
       "      <td>...</td>\n",
       "      <td>208.2</td>\n",
       "      <td>267.3</td>\n",
       "      <td>153.5</td>\n",
       "      <td>2899.4</td>\n",
       "      <td>49.3</td>\n",
       "      <td>520.1</td>\n",
       "      <td>1701.0</td>\n",
       "      <td>629.0</td>\n",
       "      <td>12.61124</td>\n",
       "      <td>92.83165</td>\n",
       "    </tr>\n",
       "    <tr>\n",
       "      <th>9</th>\n",
       "      <td>ROW10</td>\n",
       "      <td>Andaman &amp; Nicobar Islands</td>\n",
       "      <td>1911</td>\n",
       "      <td>0.0</td>\n",
       "      <td>8.4</td>\n",
       "      <td>0.0</td>\n",
       "      <td>122.5</td>\n",
       "      <td>327.3</td>\n",
       "      <td>649.0</td>\n",
       "      <td>253.0</td>\n",
       "      <td>...</td>\n",
       "      <td>333.8</td>\n",
       "      <td>94.5</td>\n",
       "      <td>247.1</td>\n",
       "      <td>2687.2</td>\n",
       "      <td>8.4</td>\n",
       "      <td>449.8</td>\n",
       "      <td>1553.6</td>\n",
       "      <td>675.4</td>\n",
       "      <td>12.61124</td>\n",
       "      <td>92.83165</td>\n",
       "    </tr>\n",
       "  </tbody>\n",
       "</table>\n",
       "<p>10 rows × 22 columns</p>\n",
       "</div>"
      ],
      "text/plain": [
       "    Name                SUBDIVISION  YEAR    JAN    FEB    MAR    APR    MAY  \\\n",
       "0   ROW1  Andaman & Nicobar Islands  1901   49.2   87.1   29.2    2.3  528.8   \n",
       "1   ROW2  Andaman & Nicobar Islands  1902    0.0  159.8   12.2    0.0  446.1   \n",
       "2   ROW3  Andaman & Nicobar Islands  1903   12.7  144.0    0.0    1.0  235.1   \n",
       "3   ROW4  Andaman & Nicobar Islands  1904    9.4   14.7    0.0  202.4  304.5   \n",
       "4   ROW5  Andaman & Nicobar Islands  1905    1.3    0.0    3.3   26.9  279.5   \n",
       "5   ROW6  Andaman & Nicobar Islands  1906   36.6    0.0    0.0    0.0  556.1   \n",
       "6   ROW7  Andaman & Nicobar Islands  1907  110.7    0.0  113.3   21.6  616.3   \n",
       "7   ROW8  Andaman & Nicobar Islands  1908   20.9   85.1    0.0   29.0  562.0   \n",
       "8   ROW9  Andaman & Nicobar Islands  1910   26.6   22.7  206.3   89.3  224.5   \n",
       "9  ROW10  Andaman & Nicobar Islands  1911    0.0    8.4    0.0  122.5  327.3   \n",
       "\n",
       "     JUN    JUL  ...    OCT    NOV    DEC  ANNUAL  Jan-Feb  Mar-May  \\\n",
       "0  517.5  365.1  ...  388.5  558.2   33.6  3373.2    136.3    560.3   \n",
       "1  537.1  228.9  ...  197.2  359.0  160.5  3520.7    159.8    458.3   \n",
       "2  479.9  728.4  ...  181.2  284.4  225.0  2957.4    156.7    236.1   \n",
       "3  495.1  502.0  ...  222.2  308.7   40.1  3079.6     24.1    506.9   \n",
       "4  628.7  368.7  ...  260.7   25.4  344.7  2566.7      1.3    309.7   \n",
       "5  733.3  247.7  ...  267.8  128.9   79.2  2534.4     36.6    556.1   \n",
       "6  305.2  443.9  ...  264.4  648.9  245.6  3347.9    110.7    751.2   \n",
       "7  693.6  481.4  ...  170.7  208.1  196.9  3576.4    106.0    591.0   \n",
       "8  472.7  264.3  ...  208.2  267.3  153.5  2899.4     49.3    520.1   \n",
       "9  649.0  253.0  ...  333.8   94.5  247.1  2687.2      8.4    449.8   \n",
       "\n",
       "   June-September  Oct-Dec  Latitude  Longitude  \n",
       "0          1696.3    980.3  12.61124   92.83165  \n",
       "1          2185.9    716.7  12.61124   92.83165  \n",
       "2          1874.0    690.6  12.61124   92.83165  \n",
       "3          1977.6    571.0  12.61124   92.83165  \n",
       "4          1624.9    630.8  12.61124   92.83165  \n",
       "5          1465.8    475.9  12.61124   92.83165  \n",
       "6          1327.1   1158.9  12.61124   92.83165  \n",
       "7          2303.7    575.7  12.61124   92.83165  \n",
       "8          1701.0    629.0  12.61124   92.83165  \n",
       "9          1553.6    675.4  12.61124   92.83165  \n",
       "\n",
       "[10 rows x 22 columns]"
      ]
     },
     "execution_count": 3,
     "metadata": {},
     "output_type": "execute_result"
    }
   ],
   "source": [
    "data.head(10)"
   ]
  },
  {
   "cell_type": "markdown",
   "id": "b65c924d",
   "metadata": {
    "execution": {
     "iopub.execute_input": "2021-08-18T06:14:04.815111Z",
     "iopub.status.busy": "2021-08-18T06:14:04.814726Z",
     "iopub.status.idle": "2021-08-18T06:14:04.827225Z",
     "shell.execute_reply": "2021-08-18T06:14:04.82642Z",
     "shell.execute_reply.started": "2021-08-18T06:14:04.815077Z"
    },
    "papermill": {
     "duration": 0.012364,
     "end_time": "2021-08-19T08:15:29.413193",
     "exception": false,
     "start_time": "2021-08-19T08:15:29.400829",
     "status": "completed"
    },
    "tags": []
   },
   "source": [
    "### Compare rainfall in each year"
   ]
  },
  {
   "cell_type": "code",
   "execution_count": 4,
   "id": "1e58721d",
   "metadata": {
    "execution": {
     "iopub.execute_input": "2021-08-19T08:15:29.449953Z",
     "iopub.status.busy": "2021-08-19T08:15:29.447863Z",
     "iopub.status.idle": "2021-08-19T08:15:29.818338Z",
     "shell.execute_reply": "2021-08-19T08:15:29.817733Z",
     "shell.execute_reply.started": "2021-08-19T08:14:54.597352Z"
    },
    "jupyter": {
     "source_hidden": true
    },
    "papermill": {
     "duration": 0.392647,
     "end_time": "2021-08-19T08:15:29.818471",
     "exception": false,
     "start_time": "2021-08-19T08:15:29.425824",
     "status": "completed"
    },
    "tags": []
   },
   "outputs": [
    {
     "data": {
      "application/vnd.plotly.v1+json": {
       "config": {
        "plotlyServerURL": "https://plot.ly"
       },
       "data": [
        {
         "marker": {
          "color": "#03bafc",
          "line": {
           "color": "#03bafc",
           "width": 1.2
          }
         },
         "type": "bar",
         "x": [
          1901,
          1902,
          1903,
          1904,
          1905,
          1906,
          1907,
          1908,
          1909,
          1910,
          1911,
          1912,
          1913,
          1914,
          1915,
          1916,
          1917,
          1918,
          1919,
          1920,
          1921,
          1922,
          1923,
          1924,
          1925,
          1926,
          1927,
          1928,
          1929,
          1930,
          1931,
          1932,
          1933,
          1934,
          1935,
          1936,
          1937,
          1938,
          1939,
          1940,
          1941,
          1942,
          1943,
          1944,
          1945,
          1946,
          1947,
          1948,
          1949,
          1950,
          1951,
          1952,
          1953,
          1954,
          1955,
          1956,
          1957,
          1958,
          1959,
          1960,
          1961,
          1962,
          1963,
          1964,
          1965,
          1966,
          1967,
          1968,
          1969,
          1970,
          1971,
          1972,
          1973,
          1974,
          1975,
          1976,
          1977,
          1978,
          1979,
          1980,
          1981,
          1982,
          1983,
          1984,
          1985,
          1986,
          1987,
          1988,
          1989,
          1990,
          1991,
          1992,
          1993,
          1994,
          1995,
          1996,
          1997,
          1998,
          1999,
          2000,
          2001,
          2002,
          2003,
          2004,
          2005,
          2006,
          2007,
          2008,
          2009,
          2010,
          2011,
          2012,
          2013,
          2014,
          2015,
          2016,
          2017
         ],
         "y": [
          44947.299999999996,
          46805.1,
          49035.32554241917,
          43287.3,
          41515.9,
          47180.09999999999,
          45443.40000000001,
          46453.2,
          45677.799999999996,
          50265.09999999999,
          44097.000000000015,
          46770.700000000004,
          45008.3,
          51352.600000000006,
          47181.4,
          56919.004035242135,
          60176.48276030411,
          44225.00000000001,
          53781.4,
          46555.00437380498,
          53425.911863190624,
          53950.700000000004,
          51300.79550346807,
          54884.83485755326,
          51823.90000000001,
          53173.9,
          53303.704035242146,
          52189.79550346807,
          52174.59068486589,
          50922.4,
          56315.737771934015,
          52211.725759227505,
          60002.50000000001,
          52130.50000000001,
          49075.299999999996,
          56327.88171169017,
          52675,
          55990.6,
          47938.40000000001,
          52240.3,
          46742.5,
          53659.44948490201,
          52382.28171169018,
          51214.200000000004,
          49532.100000000006,
          57026.672269743765,
          53363.41186319063,
          54235.6,
          56033.1906848659,
          50651.84770444763,
          47334.8,
          47678.200000000004,
          52328.51471291866,
          51396.9,
          54724.9,
          56448.70000000001,
          50246.63764920707,
          56183.9,
          59336.299999999996,
          50900.30000000001,
          61814.90000000001,
          53239.225542419175,
          53152.09999999999,
          53790.9,
          42796.600000000006,
          46224.00000000001,
          49215.8,
          46979.000000000015,
          49414.600000000006,
          55110.9,
          53177.6,
          41274.1,
          50610.1,
          47361.100000000006,
          55811.3,
          48421.8,
          54270.9,
          53601.00000000001,
          43830.1,
          51728.899999999994,
          51532.200000000004,
          46444.8,
          55845.299999999996,
          49830.49999999999,
          48583.00000000001,
          46181.00000000001,
          46387.299999999996,
          57797,
          48521.00000000001,
          58115.100000000006,
          50408.5,
          47706.1,
          51513.700000000004,
          54246.7,
          54037.8,
          50406.700000000004,
          50982.99999999999,
          54963.9,
          49969.80000000001,
          46981.60437380497,
          46897.9,
          41358.50000000001,
          48759.1,
          46753.5,
          52430.8,
          50645.700000000004,
          54506.3,
          49226.100000000006,
          42851.18932232347,
          52855.8,
          50146.200000000004,
          46662.53777193402,
          53105.40000000001,
          44797,
          46100.5,
          45853.4,
          47509.00000000001
         ]
        }
       ],
       "layout": {
        "template": {
         "data": {
          "pie": [
           {
            "automargin": true,
            "type": "pie"
           }
          ],
          "scatter": [
           {
            "line": {
             "width": 3
            },
            "marker": {
             "size": 9
            },
            "type": "scatter"
           }
          ],
          "scatter3d": [
           {
            "line": {
             "width": 3
            },
            "marker": {
             "size": 9
            },
            "type": "scatter3d"
           }
          ],
          "scattergeo": [
           {
            "line": {
             "width": 3
            },
            "marker": {
             "size": 9
            },
            "type": "scattergeo"
           }
          ],
          "scattergl": [
           {
            "line": {
             "width": 3
            },
            "marker": {
             "size": 9
            },
            "type": "scattergl"
           }
          ],
          "scatterpolar": [
           {
            "line": {
             "width": 3
            },
            "marker": {
             "size": 9
            },
            "type": "scatterpolar"
           }
          ],
          "scatterpolargl": [
           {
            "line": {
             "width": 3
            },
            "marker": {
             "size": 9
            },
            "type": "scatterpolargl"
           }
          ],
          "scatterternary": [
           {
            "line": {
             "width": 3
            },
            "marker": {
             "size": 9
            },
            "type": "scatterternary"
           }
          ],
          "table": [
           {
            "cells": {
             "height": 30
            },
            "header": {
             "height": 36
            },
            "type": "table"
           }
          ]
         },
         "layout": {
          "font": {
           "size": 18
          },
          "xaxis": {
           "title": {
            "standoff": 15
           }
          },
          "yaxis": {
           "title": {
            "standoff": 15
           }
          }
         }
        },
        "title": {
         "text": "ANNUAL RAINFALLS IN INDIA"
        },
        "xaxis": {
         "title": {
          "text": "Year"
         }
        },
        "yaxis": {
         "title": {
          "text": "Annual Rainfall"
         }
        }
       }
      },
      "text/html": [
       "<div>                            <div id=\"c9eeddb9-8778-42ff-97b4-02e533ced6f6\" class=\"plotly-graph-div\" style=\"height:525px; width:100%;\"></div>            <script type=\"text/javascript\">                require([\"plotly\"], function(Plotly) {                    window.PLOTLYENV=window.PLOTLYENV || {};                                    if (document.getElementById(\"c9eeddb9-8778-42ff-97b4-02e533ced6f6\")) {                    Plotly.newPlot(                        \"c9eeddb9-8778-42ff-97b4-02e533ced6f6\",                        [{\"marker\":{\"color\":\"#03bafc\",\"line\":{\"color\":\"#03bafc\",\"width\":1.2}},\"type\":\"bar\",\"x\":[1901,1902,1903,1904,1905,1906,1907,1908,1909,1910,1911,1912,1913,1914,1915,1916,1917,1918,1919,1920,1921,1922,1923,1924,1925,1926,1927,1928,1929,1930,1931,1932,1933,1934,1935,1936,1937,1938,1939,1940,1941,1942,1943,1944,1945,1946,1947,1948,1949,1950,1951,1952,1953,1954,1955,1956,1957,1958,1959,1960,1961,1962,1963,1964,1965,1966,1967,1968,1969,1970,1971,1972,1973,1974,1975,1976,1977,1978,1979,1980,1981,1982,1983,1984,1985,1986,1987,1988,1989,1990,1991,1992,1993,1994,1995,1996,1997,1998,1999,2000,2001,2002,2003,2004,2005,2006,2007,2008,2009,2010,2011,2012,2013,2014,2015,2016,2017],\"y\":[44947.299999999996,46805.1,49035.32554241917,43287.3,41515.9,47180.09999999999,45443.40000000001,46453.2,45677.799999999996,50265.09999999999,44097.000000000015,46770.700000000004,45008.3,51352.600000000006,47181.4,56919.004035242135,60176.48276030411,44225.00000000001,53781.4,46555.00437380498,53425.911863190624,53950.700000000004,51300.79550346807,54884.83485755326,51823.90000000001,53173.9,53303.704035242146,52189.79550346807,52174.59068486589,50922.4,56315.737771934015,52211.725759227505,60002.50000000001,52130.50000000001,49075.299999999996,56327.88171169017,52675.0,55990.6,47938.40000000001,52240.3,46742.5,53659.44948490201,52382.28171169018,51214.200000000004,49532.100000000006,57026.672269743765,53363.41186319063,54235.6,56033.1906848659,50651.84770444763,47334.8,47678.200000000004,52328.51471291866,51396.9,54724.9,56448.70000000001,50246.63764920707,56183.9,59336.299999999996,50900.30000000001,61814.90000000001,53239.225542419175,53152.09999999999,53790.9,42796.600000000006,46224.00000000001,49215.8,46979.000000000015,49414.600000000006,55110.9,53177.6,41274.1,50610.1,47361.100000000006,55811.3,48421.8,54270.9,53601.00000000001,43830.1,51728.899999999994,51532.200000000004,46444.8,55845.299999999996,49830.49999999999,48583.00000000001,46181.00000000001,46387.299999999996,57797.0,48521.00000000001,58115.100000000006,50408.5,47706.1,51513.700000000004,54246.7,54037.8,50406.700000000004,50982.99999999999,54963.9,49969.80000000001,46981.60437380497,46897.9,41358.50000000001,48759.1,46753.5,52430.8,50645.700000000004,54506.3,49226.100000000006,42851.18932232347,52855.8,50146.200000000004,46662.53777193402,53105.40000000001,44797.0,46100.5,45853.4,47509.00000000001]}],                        {\"template\":{\"data\":{\"pie\":[{\"automargin\":true,\"type\":\"pie\"}],\"scatter\":[{\"line\":{\"width\":3},\"marker\":{\"size\":9},\"type\":\"scatter\"}],\"scatter3d\":[{\"line\":{\"width\":3},\"marker\":{\"size\":9},\"type\":\"scatter3d\"}],\"scattergeo\":[{\"line\":{\"width\":3},\"marker\":{\"size\":9},\"type\":\"scattergeo\"}],\"scattergl\":[{\"line\":{\"width\":3},\"marker\":{\"size\":9},\"type\":\"scattergl\"}],\"scatterpolar\":[{\"line\":{\"width\":3},\"marker\":{\"size\":9},\"type\":\"scatterpolar\"}],\"scatterpolargl\":[{\"line\":{\"width\":3},\"marker\":{\"size\":9},\"type\":\"scatterpolargl\"}],\"scatterternary\":[{\"line\":{\"width\":3},\"marker\":{\"size\":9},\"type\":\"scatterternary\"}],\"table\":[{\"cells\":{\"height\":30},\"header\":{\"height\":36},\"type\":\"table\"}]},\"layout\":{\"font\":{\"size\":18},\"xaxis\":{\"title\":{\"standoff\":15}},\"yaxis\":{\"title\":{\"standoff\":15}}}},\"title\":{\"text\":\"ANNUAL RAINFALLS IN INDIA\"},\"xaxis\":{\"title\":{\"text\":\"Year\"}},\"yaxis\":{\"title\":{\"text\":\"Annual Rainfall\"}}},                        {\"responsive\": true}                    ).then(function(){\n",
       "                            \n",
       "var gd = document.getElementById('c9eeddb9-8778-42ff-97b4-02e533ced6f6');\n",
       "var x = new MutationObserver(function (mutations, observer) {{\n",
       "        var display = window.getComputedStyle(gd).display;\n",
       "        if (!display || display === 'none') {{\n",
       "            console.log([gd, 'removed!']);\n",
       "            Plotly.purge(gd);\n",
       "            observer.disconnect();\n",
       "        }}\n",
       "}});\n",
       "\n",
       "// Listen for the removal of the full notebook cells\n",
       "var notebookContainer = gd.closest('#notebook-container');\n",
       "if (notebookContainer) {{\n",
       "    x.observe(notebookContainer, {childList: true});\n",
       "}}\n",
       "\n",
       "// Listen for the clearing of the current output cell\n",
       "var outputEl = gd.closest('.output');\n",
       "if (outputEl) {{\n",
       "    x.observe(outputEl, {childList: true});\n",
       "}}\n",
       "\n",
       "                        })                };                });            </script>        </div>"
      ]
     },
     "metadata": {},
     "output_type": "display_data"
    }
   ],
   "source": [
    "years = []\n",
    "rainfalls = []\n",
    "for year, df in data.groupby('YEAR'):\n",
    "    rainfall = df.ANNUAL.sum()\n",
    "    years.append(year)\n",
    "    rainfalls.append(rainfall)\n",
    "    \n",
    "year_trace = go.Bar(x = years, y = rainfalls, \n",
    "                   marker = dict(color = '#03bafc', line = dict(color = '#03bafc', width = 1.2)))\n",
    "year_layout = go.Layout(template = 'presentation', title = 'ANNUAL RAINFALLS IN INDIA',\n",
    "                       xaxis = dict(title = 'Year'), yaxis = dict(title = 'Annual Rainfall'))\n",
    "year_fig = go.Figure(data = [year_trace], layout = year_layout)\n",
    "year_fig.show()"
   ]
  },
  {
   "cell_type": "markdown",
   "id": "c65cbcfb",
   "metadata": {
    "papermill": {
     "duration": 0.014639,
     "end_time": "2021-08-19T08:15:29.848462",
     "exception": false,
     "start_time": "2021-08-19T08:15:29.833823",
     "status": "completed"
    },
    "tags": []
   },
   "source": [
    "### Compare the rainfall in each area"
   ]
  },
  {
   "cell_type": "code",
   "execution_count": 5,
   "id": "11df9095",
   "metadata": {
    "execution": {
     "iopub.execute_input": "2021-08-19T08:15:29.893708Z",
     "iopub.status.busy": "2021-08-19T08:15:29.888724Z",
     "iopub.status.idle": "2021-08-19T08:15:30.587079Z",
     "shell.execute_reply": "2021-08-19T08:15:30.587550Z",
     "shell.execute_reply.started": "2021-08-19T08:14:54.999293Z"
    },
    "jupyter": {
     "source_hidden": true
    },
    "papermill": {
     "duration": 0.723771,
     "end_time": "2021-08-19T08:15:30.587717",
     "exception": false,
     "start_time": "2021-08-19T08:15:29.863946",
     "status": "completed"
    },
    "tags": []
   },
   "outputs": [
    {
     "data": {
      "application/vnd.plotly.v1+json": {
       "config": {
        "plotlyServerURL": "https://plot.ly"
       },
       "data": [
        {
         "marker": {
          "color": "#f5f558",
          "line": {
           "color": "#f5f558",
           "width": 1.2
          }
         },
         "type": "bar",
         "x": [
          "Andaman & Nicobar Islands",
          "Arunachal Pradesh",
          "Assam & Meghalaya",
          "Bihar",
          "Chhattisgarh",
          "Coastal Andhra Pradesh",
          "Coastal Karnataka",
          "East Madhya Pradesh",
          "East Rajasthan",
          "East Uttar Pradesh",
          "Gangetic West Bengal",
          "Gujarat Region",
          "Haryana Delhi & Chandigarh",
          "Himachal Pradesh",
          "Jammu & Kashmir",
          "Jharkhand",
          "Kerala",
          "Konkan & Goa",
          "Lakshadweep",
          "Madhya Maharashtra",
          "Matathwada",
          "Naga Mani Mizo Tripura",
          "North Interior Karnataka",
          "Orissa",
          "Punjab",
          "Rayalseema",
          "Saurashtra & Kutch",
          "South Interior Karnataka",
          "Sub Himalayan West Bengal & Sikkim",
          "Tamil Nadu",
          "Telangana",
          "Uttarakhand",
          "Vidarbha",
          "West Madhya Pradesh",
          "West Rajasthan",
          "West Uttar Pradesh"
         ],
         "y": [
          324990.8991800317,
          337666.5251477027,
          301758.6,
          139998.3,
          160189.60000000003,
          122885.59999999999,
          397264.7377719341,
          140755.5,
          76810.09999999999,
          114175.6,
          174402.50000000003,
          107381.79999999997,
          61826.8,
          147042.80000000002,
          133209.48932232347,
          152999.8,
          340968,
          349540.20000000007,
          182673.60169806078,
          103126.2,
          92632.6,
          284630.10000000003,
          83910.9,
          170287.59999999998,
          69198.70000000001,
          89503.6,
          58076.5,
          121392.90000000001,
          321813,
          110036.9,
          111496.89999999997,
          171339.1,
          127945,
          110157.20437380495,
          34411.50000000001,
          96396.00000000001
         ]
        }
       ],
       "layout": {
        "template": {
         "data": {
          "bar": [
           {
            "error_x": {
             "color": "#2a3f5f"
            },
            "error_y": {
             "color": "#2a3f5f"
            },
            "marker": {
             "line": {
              "color": "white",
              "width": 0.5
             },
             "pattern": {
              "fillmode": "overlay",
              "size": 10,
              "solidity": 0.2
             }
            },
            "type": "bar"
           }
          ],
          "barpolar": [
           {
            "marker": {
             "line": {
              "color": "white",
              "width": 0.5
             },
             "pattern": {
              "fillmode": "overlay",
              "size": 10,
              "solidity": 0.2
             }
            },
            "type": "barpolar"
           }
          ],
          "carpet": [
           {
            "aaxis": {
             "endlinecolor": "#2a3f5f",
             "gridcolor": "#C8D4E3",
             "linecolor": "#C8D4E3",
             "minorgridcolor": "#C8D4E3",
             "startlinecolor": "#2a3f5f"
            },
            "baxis": {
             "endlinecolor": "#2a3f5f",
             "gridcolor": "#C8D4E3",
             "linecolor": "#C8D4E3",
             "minorgridcolor": "#C8D4E3",
             "startlinecolor": "#2a3f5f"
            },
            "type": "carpet"
           }
          ],
          "choropleth": [
           {
            "colorbar": {
             "outlinewidth": 0,
             "ticks": ""
            },
            "type": "choropleth"
           }
          ],
          "contour": [
           {
            "colorbar": {
             "outlinewidth": 0,
             "ticks": ""
            },
            "colorscale": [
             [
              0,
              "#0d0887"
             ],
             [
              0.1111111111111111,
              "#46039f"
             ],
             [
              0.2222222222222222,
              "#7201a8"
             ],
             [
              0.3333333333333333,
              "#9c179e"
             ],
             [
              0.4444444444444444,
              "#bd3786"
             ],
             [
              0.5555555555555556,
              "#d8576b"
             ],
             [
              0.6666666666666666,
              "#ed7953"
             ],
             [
              0.7777777777777778,
              "#fb9f3a"
             ],
             [
              0.8888888888888888,
              "#fdca26"
             ],
             [
              1,
              "#f0f921"
             ]
            ],
            "type": "contour"
           }
          ],
          "contourcarpet": [
           {
            "colorbar": {
             "outlinewidth": 0,
             "ticks": ""
            },
            "type": "contourcarpet"
           }
          ],
          "heatmap": [
           {
            "colorbar": {
             "outlinewidth": 0,
             "ticks": ""
            },
            "colorscale": [
             [
              0,
              "#0d0887"
             ],
             [
              0.1111111111111111,
              "#46039f"
             ],
             [
              0.2222222222222222,
              "#7201a8"
             ],
             [
              0.3333333333333333,
              "#9c179e"
             ],
             [
              0.4444444444444444,
              "#bd3786"
             ],
             [
              0.5555555555555556,
              "#d8576b"
             ],
             [
              0.6666666666666666,
              "#ed7953"
             ],
             [
              0.7777777777777778,
              "#fb9f3a"
             ],
             [
              0.8888888888888888,
              "#fdca26"
             ],
             [
              1,
              "#f0f921"
             ]
            ],
            "type": "heatmap"
           }
          ],
          "heatmapgl": [
           {
            "colorbar": {
             "outlinewidth": 0,
             "ticks": ""
            },
            "colorscale": [
             [
              0,
              "#0d0887"
             ],
             [
              0.1111111111111111,
              "#46039f"
             ],
             [
              0.2222222222222222,
              "#7201a8"
             ],
             [
              0.3333333333333333,
              "#9c179e"
             ],
             [
              0.4444444444444444,
              "#bd3786"
             ],
             [
              0.5555555555555556,
              "#d8576b"
             ],
             [
              0.6666666666666666,
              "#ed7953"
             ],
             [
              0.7777777777777778,
              "#fb9f3a"
             ],
             [
              0.8888888888888888,
              "#fdca26"
             ],
             [
              1,
              "#f0f921"
             ]
            ],
            "type": "heatmapgl"
           }
          ],
          "histogram": [
           {
            "marker": {
             "pattern": {
              "fillmode": "overlay",
              "size": 10,
              "solidity": 0.2
             }
            },
            "type": "histogram"
           }
          ],
          "histogram2d": [
           {
            "colorbar": {
             "outlinewidth": 0,
             "ticks": ""
            },
            "colorscale": [
             [
              0,
              "#0d0887"
             ],
             [
              0.1111111111111111,
              "#46039f"
             ],
             [
              0.2222222222222222,
              "#7201a8"
             ],
             [
              0.3333333333333333,
              "#9c179e"
             ],
             [
              0.4444444444444444,
              "#bd3786"
             ],
             [
              0.5555555555555556,
              "#d8576b"
             ],
             [
              0.6666666666666666,
              "#ed7953"
             ],
             [
              0.7777777777777778,
              "#fb9f3a"
             ],
             [
              0.8888888888888888,
              "#fdca26"
             ],
             [
              1,
              "#f0f921"
             ]
            ],
            "type": "histogram2d"
           }
          ],
          "histogram2dcontour": [
           {
            "colorbar": {
             "outlinewidth": 0,
             "ticks": ""
            },
            "colorscale": [
             [
              0,
              "#0d0887"
             ],
             [
              0.1111111111111111,
              "#46039f"
             ],
             [
              0.2222222222222222,
              "#7201a8"
             ],
             [
              0.3333333333333333,
              "#9c179e"
             ],
             [
              0.4444444444444444,
              "#bd3786"
             ],
             [
              0.5555555555555556,
              "#d8576b"
             ],
             [
              0.6666666666666666,
              "#ed7953"
             ],
             [
              0.7777777777777778,
              "#fb9f3a"
             ],
             [
              0.8888888888888888,
              "#fdca26"
             ],
             [
              1,
              "#f0f921"
             ]
            ],
            "type": "histogram2dcontour"
           }
          ],
          "mesh3d": [
           {
            "colorbar": {
             "outlinewidth": 0,
             "ticks": ""
            },
            "type": "mesh3d"
           }
          ],
          "parcoords": [
           {
            "line": {
             "colorbar": {
              "outlinewidth": 0,
              "ticks": ""
             }
            },
            "type": "parcoords"
           }
          ],
          "pie": [
           {
            "automargin": true,
            "type": "pie"
           }
          ],
          "scatter": [
           {
            "marker": {
             "colorbar": {
              "outlinewidth": 0,
              "ticks": ""
             }
            },
            "type": "scatter"
           }
          ],
          "scatter3d": [
           {
            "line": {
             "colorbar": {
              "outlinewidth": 0,
              "ticks": ""
             }
            },
            "marker": {
             "colorbar": {
              "outlinewidth": 0,
              "ticks": ""
             }
            },
            "type": "scatter3d"
           }
          ],
          "scattercarpet": [
           {
            "marker": {
             "colorbar": {
              "outlinewidth": 0,
              "ticks": ""
             }
            },
            "type": "scattercarpet"
           }
          ],
          "scattergeo": [
           {
            "marker": {
             "colorbar": {
              "outlinewidth": 0,
              "ticks": ""
             }
            },
            "type": "scattergeo"
           }
          ],
          "scattergl": [
           {
            "marker": {
             "colorbar": {
              "outlinewidth": 0,
              "ticks": ""
             }
            },
            "type": "scattergl"
           }
          ],
          "scattermapbox": [
           {
            "marker": {
             "colorbar": {
              "outlinewidth": 0,
              "ticks": ""
             }
            },
            "type": "scattermapbox"
           }
          ],
          "scatterpolar": [
           {
            "marker": {
             "colorbar": {
              "outlinewidth": 0,
              "ticks": ""
             }
            },
            "type": "scatterpolar"
           }
          ],
          "scatterpolargl": [
           {
            "marker": {
             "colorbar": {
              "outlinewidth": 0,
              "ticks": ""
             }
            },
            "type": "scatterpolargl"
           }
          ],
          "scatterternary": [
           {
            "marker": {
             "colorbar": {
              "outlinewidth": 0,
              "ticks": ""
             }
            },
            "type": "scatterternary"
           }
          ],
          "surface": [
           {
            "colorbar": {
             "outlinewidth": 0,
             "ticks": ""
            },
            "colorscale": [
             [
              0,
              "#0d0887"
             ],
             [
              0.1111111111111111,
              "#46039f"
             ],
             [
              0.2222222222222222,
              "#7201a8"
             ],
             [
              0.3333333333333333,
              "#9c179e"
             ],
             [
              0.4444444444444444,
              "#bd3786"
             ],
             [
              0.5555555555555556,
              "#d8576b"
             ],
             [
              0.6666666666666666,
              "#ed7953"
             ],
             [
              0.7777777777777778,
              "#fb9f3a"
             ],
             [
              0.8888888888888888,
              "#fdca26"
             ],
             [
              1,
              "#f0f921"
             ]
            ],
            "type": "surface"
           }
          ],
          "table": [
           {
            "cells": {
             "fill": {
              "color": "#EBF0F8"
             },
             "line": {
              "color": "white"
             }
            },
            "header": {
             "fill": {
              "color": "#C8D4E3"
             },
             "line": {
              "color": "white"
             }
            },
            "type": "table"
           }
          ]
         },
         "layout": {
          "annotationdefaults": {
           "arrowcolor": "#2a3f5f",
           "arrowhead": 0,
           "arrowwidth": 1
          },
          "autotypenumbers": "strict",
          "coloraxis": {
           "colorbar": {
            "outlinewidth": 0,
            "ticks": ""
           }
          },
          "colorscale": {
           "diverging": [
            [
             0,
             "#8e0152"
            ],
            [
             0.1,
             "#c51b7d"
            ],
            [
             0.2,
             "#de77ae"
            ],
            [
             0.3,
             "#f1b6da"
            ],
            [
             0.4,
             "#fde0ef"
            ],
            [
             0.5,
             "#f7f7f7"
            ],
            [
             0.6,
             "#e6f5d0"
            ],
            [
             0.7,
             "#b8e186"
            ],
            [
             0.8,
             "#7fbc41"
            ],
            [
             0.9,
             "#4d9221"
            ],
            [
             1,
             "#276419"
            ]
           ],
           "sequential": [
            [
             0,
             "#0d0887"
            ],
            [
             0.1111111111111111,
             "#46039f"
            ],
            [
             0.2222222222222222,
             "#7201a8"
            ],
            [
             0.3333333333333333,
             "#9c179e"
            ],
            [
             0.4444444444444444,
             "#bd3786"
            ],
            [
             0.5555555555555556,
             "#d8576b"
            ],
            [
             0.6666666666666666,
             "#ed7953"
            ],
            [
             0.7777777777777778,
             "#fb9f3a"
            ],
            [
             0.8888888888888888,
             "#fdca26"
            ],
            [
             1,
             "#f0f921"
            ]
           ],
           "sequentialminus": [
            [
             0,
             "#0d0887"
            ],
            [
             0.1111111111111111,
             "#46039f"
            ],
            [
             0.2222222222222222,
             "#7201a8"
            ],
            [
             0.3333333333333333,
             "#9c179e"
            ],
            [
             0.4444444444444444,
             "#bd3786"
            ],
            [
             0.5555555555555556,
             "#d8576b"
            ],
            [
             0.6666666666666666,
             "#ed7953"
            ],
            [
             0.7777777777777778,
             "#fb9f3a"
            ],
            [
             0.8888888888888888,
             "#fdca26"
            ],
            [
             1,
             "#f0f921"
            ]
           ]
          },
          "colorway": [
           "#636efa",
           "#EF553B",
           "#00cc96",
           "#ab63fa",
           "#FFA15A",
           "#19d3f3",
           "#FF6692",
           "#B6E880",
           "#FF97FF",
           "#FECB52"
          ],
          "font": {
           "color": "#2a3f5f"
          },
          "geo": {
           "bgcolor": "white",
           "lakecolor": "white",
           "landcolor": "white",
           "showlakes": true,
           "showland": true,
           "subunitcolor": "#C8D4E3"
          },
          "hoverlabel": {
           "align": "left"
          },
          "hovermode": "closest",
          "mapbox": {
           "style": "light"
          },
          "paper_bgcolor": "white",
          "plot_bgcolor": "white",
          "polar": {
           "angularaxis": {
            "gridcolor": "#EBF0F8",
            "linecolor": "#EBF0F8",
            "ticks": ""
           },
           "bgcolor": "white",
           "radialaxis": {
            "gridcolor": "#EBF0F8",
            "linecolor": "#EBF0F8",
            "ticks": ""
           }
          },
          "scene": {
           "xaxis": {
            "backgroundcolor": "white",
            "gridcolor": "#DFE8F3",
            "gridwidth": 2,
            "linecolor": "#EBF0F8",
            "showbackground": true,
            "ticks": "",
            "zerolinecolor": "#EBF0F8"
           },
           "yaxis": {
            "backgroundcolor": "white",
            "gridcolor": "#DFE8F3",
            "gridwidth": 2,
            "linecolor": "#EBF0F8",
            "showbackground": true,
            "ticks": "",
            "zerolinecolor": "#EBF0F8"
           },
           "zaxis": {
            "backgroundcolor": "white",
            "gridcolor": "#DFE8F3",
            "gridwidth": 2,
            "linecolor": "#EBF0F8",
            "showbackground": true,
            "ticks": "",
            "zerolinecolor": "#EBF0F8"
           }
          },
          "shapedefaults": {
           "line": {
            "color": "#2a3f5f"
           }
          },
          "ternary": {
           "aaxis": {
            "gridcolor": "#DFE8F3",
            "linecolor": "#A2B1C6",
            "ticks": ""
           },
           "baxis": {
            "gridcolor": "#DFE8F3",
            "linecolor": "#A2B1C6",
            "ticks": ""
           },
           "bgcolor": "white",
           "caxis": {
            "gridcolor": "#DFE8F3",
            "linecolor": "#A2B1C6",
            "ticks": ""
           }
          },
          "title": {
           "x": 0.05
          },
          "xaxis": {
           "automargin": true,
           "gridcolor": "#EBF0F8",
           "linecolor": "#EBF0F8",
           "ticks": "",
           "title": {
            "standoff": 15
           },
           "zerolinecolor": "#EBF0F8",
           "zerolinewidth": 2
          },
          "yaxis": {
           "automargin": true,
           "gridcolor": "#EBF0F8",
           "linecolor": "#EBF0F8",
           "ticks": "",
           "title": {
            "standoff": 15
           },
           "zerolinecolor": "#EBF0F8",
           "zerolinewidth": 2
          }
         }
        },
        "title": {
         "text": "RAINFALLS IN EACH AREA IN INDIA"
        },
        "xaxis": {
         "title": {
          "text": "Subdivision"
         }
        },
        "yaxis": {
         "title": {
          "text": "Rainfall"
         }
        }
       }
      },
      "text/html": [
       "<div>                            <div id=\"a949b124-281f-4266-9798-98be2b76bed4\" class=\"plotly-graph-div\" style=\"height:525px; width:100%;\"></div>            <script type=\"text/javascript\">                require([\"plotly\"], function(Plotly) {                    window.PLOTLYENV=window.PLOTLYENV || {};                                    if (document.getElementById(\"a949b124-281f-4266-9798-98be2b76bed4\")) {                    Plotly.newPlot(                        \"a949b124-281f-4266-9798-98be2b76bed4\",                        [{\"marker\":{\"color\":\"#f5f558\",\"line\":{\"color\":\"#f5f558\",\"width\":1.2}},\"type\":\"bar\",\"x\":[\"Andaman & Nicobar Islands\",\"Arunachal Pradesh\",\"Assam & Meghalaya\",\"Bihar\",\"Chhattisgarh\",\"Coastal Andhra Pradesh\",\"Coastal Karnataka\",\"East Madhya Pradesh\",\"East Rajasthan\",\"East Uttar Pradesh\",\"Gangetic West Bengal\",\"Gujarat Region\",\"Haryana Delhi & Chandigarh\",\"Himachal Pradesh\",\"Jammu & Kashmir\",\"Jharkhand\",\"Kerala\",\"Konkan & Goa\",\"Lakshadweep\",\"Madhya Maharashtra\",\"Matathwada\",\"Naga Mani Mizo Tripura\",\"North Interior Karnataka\",\"Orissa\",\"Punjab\",\"Rayalseema\",\"Saurashtra & Kutch\",\"South Interior Karnataka\",\"Sub Himalayan West Bengal & Sikkim\",\"Tamil Nadu\",\"Telangana\",\"Uttarakhand\",\"Vidarbha\",\"West Madhya Pradesh\",\"West Rajasthan\",\"West Uttar Pradesh\"],\"y\":[324990.8991800317,337666.5251477027,301758.6,139998.3,160189.60000000003,122885.59999999999,397264.7377719341,140755.5,76810.09999999999,114175.6,174402.50000000003,107381.79999999997,61826.8,147042.80000000002,133209.48932232347,152999.8,340968.0,349540.20000000007,182673.60169806078,103126.2,92632.6,284630.10000000003,83910.9,170287.59999999998,69198.70000000001,89503.6,58076.5,121392.90000000001,321813.0,110036.9,111496.89999999997,171339.1,127945.0,110157.20437380495,34411.50000000001,96396.00000000001]}],                        {\"template\":{\"data\":{\"bar\":[{\"error_x\":{\"color\":\"#2a3f5f\"},\"error_y\":{\"color\":\"#2a3f5f\"},\"marker\":{\"line\":{\"color\":\"white\",\"width\":0.5},\"pattern\":{\"fillmode\":\"overlay\",\"size\":10,\"solidity\":0.2}},\"type\":\"bar\"}],\"barpolar\":[{\"marker\":{\"line\":{\"color\":\"white\",\"width\":0.5},\"pattern\":{\"fillmode\":\"overlay\",\"size\":10,\"solidity\":0.2}},\"type\":\"barpolar\"}],\"carpet\":[{\"aaxis\":{\"endlinecolor\":\"#2a3f5f\",\"gridcolor\":\"#C8D4E3\",\"linecolor\":\"#C8D4E3\",\"minorgridcolor\":\"#C8D4E3\",\"startlinecolor\":\"#2a3f5f\"},\"baxis\":{\"endlinecolor\":\"#2a3f5f\",\"gridcolor\":\"#C8D4E3\",\"linecolor\":\"#C8D4E3\",\"minorgridcolor\":\"#C8D4E3\",\"startlinecolor\":\"#2a3f5f\"},\"type\":\"carpet\"}],\"choropleth\":[{\"colorbar\":{\"outlinewidth\":0,\"ticks\":\"\"},\"type\":\"choropleth\"}],\"contour\":[{\"colorbar\":{\"outlinewidth\":0,\"ticks\":\"\"},\"colorscale\":[[0.0,\"#0d0887\"],[0.1111111111111111,\"#46039f\"],[0.2222222222222222,\"#7201a8\"],[0.3333333333333333,\"#9c179e\"],[0.4444444444444444,\"#bd3786\"],[0.5555555555555556,\"#d8576b\"],[0.6666666666666666,\"#ed7953\"],[0.7777777777777778,\"#fb9f3a\"],[0.8888888888888888,\"#fdca26\"],[1.0,\"#f0f921\"]],\"type\":\"contour\"}],\"contourcarpet\":[{\"colorbar\":{\"outlinewidth\":0,\"ticks\":\"\"},\"type\":\"contourcarpet\"}],\"heatmap\":[{\"colorbar\":{\"outlinewidth\":0,\"ticks\":\"\"},\"colorscale\":[[0.0,\"#0d0887\"],[0.1111111111111111,\"#46039f\"],[0.2222222222222222,\"#7201a8\"],[0.3333333333333333,\"#9c179e\"],[0.4444444444444444,\"#bd3786\"],[0.5555555555555556,\"#d8576b\"],[0.6666666666666666,\"#ed7953\"],[0.7777777777777778,\"#fb9f3a\"],[0.8888888888888888,\"#fdca26\"],[1.0,\"#f0f921\"]],\"type\":\"heatmap\"}],\"heatmapgl\":[{\"colorbar\":{\"outlinewidth\":0,\"ticks\":\"\"},\"colorscale\":[[0.0,\"#0d0887\"],[0.1111111111111111,\"#46039f\"],[0.2222222222222222,\"#7201a8\"],[0.3333333333333333,\"#9c179e\"],[0.4444444444444444,\"#bd3786\"],[0.5555555555555556,\"#d8576b\"],[0.6666666666666666,\"#ed7953\"],[0.7777777777777778,\"#fb9f3a\"],[0.8888888888888888,\"#fdca26\"],[1.0,\"#f0f921\"]],\"type\":\"heatmapgl\"}],\"histogram\":[{\"marker\":{\"pattern\":{\"fillmode\":\"overlay\",\"size\":10,\"solidity\":0.2}},\"type\":\"histogram\"}],\"histogram2d\":[{\"colorbar\":{\"outlinewidth\":0,\"ticks\":\"\"},\"colorscale\":[[0.0,\"#0d0887\"],[0.1111111111111111,\"#46039f\"],[0.2222222222222222,\"#7201a8\"],[0.3333333333333333,\"#9c179e\"],[0.4444444444444444,\"#bd3786\"],[0.5555555555555556,\"#d8576b\"],[0.6666666666666666,\"#ed7953\"],[0.7777777777777778,\"#fb9f3a\"],[0.8888888888888888,\"#fdca26\"],[1.0,\"#f0f921\"]],\"type\":\"histogram2d\"}],\"histogram2dcontour\":[{\"colorbar\":{\"outlinewidth\":0,\"ticks\":\"\"},\"colorscale\":[[0.0,\"#0d0887\"],[0.1111111111111111,\"#46039f\"],[0.2222222222222222,\"#7201a8\"],[0.3333333333333333,\"#9c179e\"],[0.4444444444444444,\"#bd3786\"],[0.5555555555555556,\"#d8576b\"],[0.6666666666666666,\"#ed7953\"],[0.7777777777777778,\"#fb9f3a\"],[0.8888888888888888,\"#fdca26\"],[1.0,\"#f0f921\"]],\"type\":\"histogram2dcontour\"}],\"mesh3d\":[{\"colorbar\":{\"outlinewidth\":0,\"ticks\":\"\"},\"type\":\"mesh3d\"}],\"parcoords\":[{\"line\":{\"colorbar\":{\"outlinewidth\":0,\"ticks\":\"\"}},\"type\":\"parcoords\"}],\"pie\":[{\"automargin\":true,\"type\":\"pie\"}],\"scatter\":[{\"marker\":{\"colorbar\":{\"outlinewidth\":0,\"ticks\":\"\"}},\"type\":\"scatter\"}],\"scatter3d\":[{\"line\":{\"colorbar\":{\"outlinewidth\":0,\"ticks\":\"\"}},\"marker\":{\"colorbar\":{\"outlinewidth\":0,\"ticks\":\"\"}},\"type\":\"scatter3d\"}],\"scattercarpet\":[{\"marker\":{\"colorbar\":{\"outlinewidth\":0,\"ticks\":\"\"}},\"type\":\"scattercarpet\"}],\"scattergeo\":[{\"marker\":{\"colorbar\":{\"outlinewidth\":0,\"ticks\":\"\"}},\"type\":\"scattergeo\"}],\"scattergl\":[{\"marker\":{\"colorbar\":{\"outlinewidth\":0,\"ticks\":\"\"}},\"type\":\"scattergl\"}],\"scattermapbox\":[{\"marker\":{\"colorbar\":{\"outlinewidth\":0,\"ticks\":\"\"}},\"type\":\"scattermapbox\"}],\"scatterpolar\":[{\"marker\":{\"colorbar\":{\"outlinewidth\":0,\"ticks\":\"\"}},\"type\":\"scatterpolar\"}],\"scatterpolargl\":[{\"marker\":{\"colorbar\":{\"outlinewidth\":0,\"ticks\":\"\"}},\"type\":\"scatterpolargl\"}],\"scatterternary\":[{\"marker\":{\"colorbar\":{\"outlinewidth\":0,\"ticks\":\"\"}},\"type\":\"scatterternary\"}],\"surface\":[{\"colorbar\":{\"outlinewidth\":0,\"ticks\":\"\"},\"colorscale\":[[0.0,\"#0d0887\"],[0.1111111111111111,\"#46039f\"],[0.2222222222222222,\"#7201a8\"],[0.3333333333333333,\"#9c179e\"],[0.4444444444444444,\"#bd3786\"],[0.5555555555555556,\"#d8576b\"],[0.6666666666666666,\"#ed7953\"],[0.7777777777777778,\"#fb9f3a\"],[0.8888888888888888,\"#fdca26\"],[1.0,\"#f0f921\"]],\"type\":\"surface\"}],\"table\":[{\"cells\":{\"fill\":{\"color\":\"#EBF0F8\"},\"line\":{\"color\":\"white\"}},\"header\":{\"fill\":{\"color\":\"#C8D4E3\"},\"line\":{\"color\":\"white\"}},\"type\":\"table\"}]},\"layout\":{\"annotationdefaults\":{\"arrowcolor\":\"#2a3f5f\",\"arrowhead\":0,\"arrowwidth\":1},\"autotypenumbers\":\"strict\",\"coloraxis\":{\"colorbar\":{\"outlinewidth\":0,\"ticks\":\"\"}},\"colorscale\":{\"diverging\":[[0,\"#8e0152\"],[0.1,\"#c51b7d\"],[0.2,\"#de77ae\"],[0.3,\"#f1b6da\"],[0.4,\"#fde0ef\"],[0.5,\"#f7f7f7\"],[0.6,\"#e6f5d0\"],[0.7,\"#b8e186\"],[0.8,\"#7fbc41\"],[0.9,\"#4d9221\"],[1,\"#276419\"]],\"sequential\":[[0.0,\"#0d0887\"],[0.1111111111111111,\"#46039f\"],[0.2222222222222222,\"#7201a8\"],[0.3333333333333333,\"#9c179e\"],[0.4444444444444444,\"#bd3786\"],[0.5555555555555556,\"#d8576b\"],[0.6666666666666666,\"#ed7953\"],[0.7777777777777778,\"#fb9f3a\"],[0.8888888888888888,\"#fdca26\"],[1.0,\"#f0f921\"]],\"sequentialminus\":[[0.0,\"#0d0887\"],[0.1111111111111111,\"#46039f\"],[0.2222222222222222,\"#7201a8\"],[0.3333333333333333,\"#9c179e\"],[0.4444444444444444,\"#bd3786\"],[0.5555555555555556,\"#d8576b\"],[0.6666666666666666,\"#ed7953\"],[0.7777777777777778,\"#fb9f3a\"],[0.8888888888888888,\"#fdca26\"],[1.0,\"#f0f921\"]]},\"colorway\":[\"#636efa\",\"#EF553B\",\"#00cc96\",\"#ab63fa\",\"#FFA15A\",\"#19d3f3\",\"#FF6692\",\"#B6E880\",\"#FF97FF\",\"#FECB52\"],\"font\":{\"color\":\"#2a3f5f\"},\"geo\":{\"bgcolor\":\"white\",\"lakecolor\":\"white\",\"landcolor\":\"white\",\"showlakes\":true,\"showland\":true,\"subunitcolor\":\"#C8D4E3\"},\"hoverlabel\":{\"align\":\"left\"},\"hovermode\":\"closest\",\"mapbox\":{\"style\":\"light\"},\"paper_bgcolor\":\"white\",\"plot_bgcolor\":\"white\",\"polar\":{\"angularaxis\":{\"gridcolor\":\"#EBF0F8\",\"linecolor\":\"#EBF0F8\",\"ticks\":\"\"},\"bgcolor\":\"white\",\"radialaxis\":{\"gridcolor\":\"#EBF0F8\",\"linecolor\":\"#EBF0F8\",\"ticks\":\"\"}},\"scene\":{\"xaxis\":{\"backgroundcolor\":\"white\",\"gridcolor\":\"#DFE8F3\",\"gridwidth\":2,\"linecolor\":\"#EBF0F8\",\"showbackground\":true,\"ticks\":\"\",\"zerolinecolor\":\"#EBF0F8\"},\"yaxis\":{\"backgroundcolor\":\"white\",\"gridcolor\":\"#DFE8F3\",\"gridwidth\":2,\"linecolor\":\"#EBF0F8\",\"showbackground\":true,\"ticks\":\"\",\"zerolinecolor\":\"#EBF0F8\"},\"zaxis\":{\"backgroundcolor\":\"white\",\"gridcolor\":\"#DFE8F3\",\"gridwidth\":2,\"linecolor\":\"#EBF0F8\",\"showbackground\":true,\"ticks\":\"\",\"zerolinecolor\":\"#EBF0F8\"}},\"shapedefaults\":{\"line\":{\"color\":\"#2a3f5f\"}},\"ternary\":{\"aaxis\":{\"gridcolor\":\"#DFE8F3\",\"linecolor\":\"#A2B1C6\",\"ticks\":\"\"},\"baxis\":{\"gridcolor\":\"#DFE8F3\",\"linecolor\":\"#A2B1C6\",\"ticks\":\"\"},\"bgcolor\":\"white\",\"caxis\":{\"gridcolor\":\"#DFE8F3\",\"linecolor\":\"#A2B1C6\",\"ticks\":\"\"}},\"title\":{\"x\":0.05},\"xaxis\":{\"automargin\":true,\"gridcolor\":\"#EBF0F8\",\"linecolor\":\"#EBF0F8\",\"ticks\":\"\",\"title\":{\"standoff\":15},\"zerolinecolor\":\"#EBF0F8\",\"zerolinewidth\":2},\"yaxis\":{\"automargin\":true,\"gridcolor\":\"#EBF0F8\",\"linecolor\":\"#EBF0F8\",\"ticks\":\"\",\"title\":{\"standoff\":15},\"zerolinecolor\":\"#EBF0F8\",\"zerolinewidth\":2}}},\"title\":{\"text\":\"RAINFALLS IN EACH AREA IN INDIA\"},\"xaxis\":{\"title\":{\"text\":\"Subdivision\"}},\"yaxis\":{\"title\":{\"text\":\"Rainfall\"}}},                        {\"responsive\": true}                    ).then(function(){\n",
       "                            \n",
       "var gd = document.getElementById('a949b124-281f-4266-9798-98be2b76bed4');\n",
       "var x = new MutationObserver(function (mutations, observer) {{\n",
       "        var display = window.getComputedStyle(gd).display;\n",
       "        if (!display || display === 'none') {{\n",
       "            console.log([gd, 'removed!']);\n",
       "            Plotly.purge(gd);\n",
       "            observer.disconnect();\n",
       "        }}\n",
       "}});\n",
       "\n",
       "// Listen for the removal of the full notebook cells\n",
       "var notebookContainer = gd.closest('#notebook-container');\n",
       "if (notebookContainer) {{\n",
       "    x.observe(notebookContainer, {childList: true});\n",
       "}}\n",
       "\n",
       "// Listen for the clearing of the current output cell\n",
       "var outputEl = gd.closest('.output');\n",
       "if (outputEl) {{\n",
       "    x.observe(outputEl, {childList: true});\n",
       "}}\n",
       "\n",
       "                        })                };                });            </script>        </div>"
      ]
     },
     "metadata": {},
     "output_type": "display_data"
    }
   ],
   "source": [
    "areas = []\n",
    "rainfalls_ = []\n",
    "for area, df in data.groupby('SUBDIVISION'):\n",
    "    rainfall = df.ANNUAL.sum()\n",
    "    areas.append(area)\n",
    "    rainfalls_.append(rainfall)\n",
    "    \n",
    "area_trace = go.Bar(x = areas, y = rainfalls_, \n",
    "                   marker = dict(color = '#f5f558', line = dict(color = '#f5f558', width = 1.2)))\n",
    "area_layout = go.Layout(template = 'plotly_white', title = 'RAINFALLS IN EACH AREA IN INDIA',\n",
    "                       xaxis = dict(title = 'Subdivision'), yaxis = dict(title = 'Rainfall'))\n",
    "area_fig = go.Figure(data = [area_trace], layout = area_layout)\n",
    "area_fig.show()"
   ]
  },
  {
   "cell_type": "code",
   "execution_count": 6,
   "id": "eb6d1b49",
   "metadata": {
    "execution": {
     "iopub.execute_input": "2021-08-19T08:15:30.634699Z",
     "iopub.status.busy": "2021-08-19T08:15:30.633903Z",
     "iopub.status.idle": "2021-08-19T08:15:30.638347Z",
     "shell.execute_reply": "2021-08-19T08:15:30.637846Z",
     "shell.execute_reply.started": "2021-08-19T08:14:55.646974Z"
    },
    "papermill": {
     "duration": 0.029935,
     "end_time": "2021-08-19T08:15:30.638534",
     "exception": false,
     "start_time": "2021-08-19T08:15:30.608599",
     "status": "completed"
    },
    "tags": []
   },
   "outputs": [
    {
     "data": {
      "text/plain": [
       "Index(['Name', 'SUBDIVISION', 'YEAR', 'JAN', 'FEB', 'MAR', 'APR', 'MAY', 'JUN',\n",
       "       'JUL', 'AUG', 'SEP', 'OCT', 'NOV', 'DEC', 'ANNUAL', 'Jan-Feb',\n",
       "       'Mar-May', 'June-September', 'Oct-Dec', 'Latitude', 'Longitude'],\n",
       "      dtype='object')"
      ]
     },
     "execution_count": 6,
     "metadata": {},
     "output_type": "execute_result"
    }
   ],
   "source": [
    "data.columns"
   ]
  },
  {
   "cell_type": "markdown",
   "id": "177ad2b5",
   "metadata": {
    "papermill": {
     "duration": 0.024295,
     "end_time": "2021-08-19T08:15:30.687453",
     "exception": false,
     "start_time": "2021-08-19T08:15:30.663158",
     "status": "completed"
    },
    "tags": []
   },
   "source": [
    "### Rainfall over months from 2014 to 2017 in India"
   ]
  },
  {
   "cell_type": "code",
   "execution_count": 7,
   "id": "90ecd447",
   "metadata": {
    "execution": {
     "iopub.execute_input": "2021-08-19T08:15:30.748313Z",
     "iopub.status.busy": "2021-08-19T08:15:30.747274Z",
     "iopub.status.idle": "2021-08-19T08:15:30.775589Z",
     "shell.execute_reply": "2021-08-19T08:15:30.775057Z",
     "shell.execute_reply.started": "2021-08-19T08:14:55.654143Z"
    },
    "papermill": {
     "duration": 0.058073,
     "end_time": "2021-08-19T08:15:30.775721",
     "exception": false,
     "start_time": "2021-08-19T08:15:30.717648",
     "status": "completed"
    },
    "tags": []
   },
   "outputs": [],
   "source": [
    "hist_df1 = data[data['YEAR'] == 2014]\n",
    "hist_months = ['Jan-Feb','Mar-May', 'June-September', 'Oct-Dec']\n",
    "values1 = []\n",
    "for month in hist_months:\n",
    "    value1 = hist_df1[month].sum()\n",
    "    values1.append(value1)\n",
    "\n",
    "hist_df2 = data[data['YEAR'] == 2015]\n",
    "values2 = []\n",
    "for month in hist_months:\n",
    "    value2 = hist_df2[month].sum()\n",
    "    values2.append(value2)\n",
    "\n",
    "hist_df3 = data[data['YEAR'] == 2016]\n",
    "values3 = []\n",
    "for month in hist_months:\n",
    "    value3 = hist_df3[month].sum()\n",
    "    values3.append(value3)\n",
    "\n",
    "hist_df4 = data[data['YEAR'] == 2017]\n",
    "hist_months = ['Jan-Feb','Mar-May', 'June-September', 'Oct-Dec']\n",
    "values4 = []\n",
    "for month in hist_months:\n",
    "    value4 = hist_df4[month].sum()\n",
    "    values4.append(value4)\n"
   ]
  },
  {
   "cell_type": "code",
   "execution_count": 8,
   "id": "c86e4a9b",
   "metadata": {
    "execution": {
     "iopub.execute_input": "2021-08-19T08:15:30.838309Z",
     "iopub.status.busy": "2021-08-19T08:15:30.837550Z",
     "iopub.status.idle": "2021-08-19T08:15:31.116817Z",
     "shell.execute_reply": "2021-08-19T08:15:31.116349Z",
     "shell.execute_reply.started": "2021-08-19T08:14:55.687928Z"
    },
    "papermill": {
     "duration": 0.320745,
     "end_time": "2021-08-19T08:15:31.116973",
     "exception": false,
     "start_time": "2021-08-19T08:15:30.796228",
     "status": "completed"
    },
    "tags": []
   },
   "outputs": [
    {
     "data": {
      "image/png": "[encoded data removed]",
      "text/plain": [
       "<Figure size 1080x576 with 1 Axes>"
      ]
     },
     "metadata": {
      "needs_background": "light"
     },
     "output_type": "display_data"
    }
   ],
   "source": [
    "labels = hist_months\n",
    "x = np.arange(len(labels))  # the label locations\n",
    "width = 0.18  # the width of the bars\n",
    "\n",
    "fig, ax = plt.subplots()\n",
    "rects1 = ax.bar(x + width, values1, width, label='2014')\n",
    "rects2 = ax.bar(x - width, values2, width, label='2015')\n",
    "rects3 = ax.bar(x + width*2, values3, width, label='2016')\n",
    "rects4 = ax.bar(x, values4, width, label='2017')\n",
    "\n",
    "# Add some text for labels, title and custom x-axis tick labels, etc.\n",
    "ax.set_ylabel('Rainfall', fontsize = 20)\n",
    "ax.set_title('RAINFALL OVER MONTHS FROM 2014 TO 2017 IN INDIA', fontsize = 25)\n",
    "ax.set_xticks(x)\n",
    "ax.set_xticklabels(labels, fontsize = 20)\n",
    "ax.legend()\n",
    "\n",
    "fig.set_figheight(8)\n",
    "fig.set_figwidth(15)\n",
    "\n",
    "ax.bar_label(rects1, padding=2)\n",
    "ax.bar_label(rects2, padding=2)\n",
    "ax.bar_label(rects3, padding=2)\n",
    "ax.bar_label(rects4, padding=2)\n",
    "\n",
    "# fig.tight_layout()\n",
    "\n",
    "plt.show()\n"
   ]
  },
  {
   "cell_type": "markdown",
   "id": "628908de",
   "metadata": {
    "papermill": {
     "duration": 0.021495,
     "end_time": "2021-08-19T08:15:31.160900",
     "exception": false,
     "start_time": "2021-08-19T08:15:31.139405",
     "status": "completed"
    },
    "tags": []
   },
   "source": [
    "### When did the rainfall reach highest?"
   ]
  },
  {
   "cell_type": "code",
   "execution_count": 9,
   "id": "c84816cb",
   "metadata": {
    "execution": {
     "iopub.execute_input": "2021-08-19T08:15:31.217002Z",
     "iopub.status.busy": "2021-08-19T08:15:31.216331Z",
     "iopub.status.idle": "2021-08-19T08:15:31.219122Z",
     "shell.execute_reply": "2021-08-19T08:15:31.219560Z",
     "shell.execute_reply.started": "2021-08-19T08:14:56.022874Z"
    },
    "papermill": {
     "duration": 0.036076,
     "end_time": "2021-08-19T08:15:31.219719",
     "exception": false,
     "start_time": "2021-08-19T08:15:31.183643",
     "status": "completed"
    },
    "tags": []
   },
   "outputs": [
    {
     "data": {
      "text/html": [
       "<div>\n",
       "<style scoped>\n",
       "    .dataframe tbody tr th:only-of-type {\n",
       "        vertical-align: middle;\n",
       "    }\n",
       "\n",
       "    .dataframe tbody tr th {\n",
       "        vertical-align: top;\n",
       "    }\n",
       "\n",
       "    .dataframe thead th {\n",
       "        text-align: right;\n",
       "    }\n",
       "</style>\n",
       "<table border=\"1\" class=\"dataframe\">\n",
       "  <thead>\n",
       "    <tr style=\"text-align: right;\">\n",
       "      <th></th>\n",
       "      <th>SUBDIVISION</th>\n",
       "      <th>ANNUAL</th>\n",
       "    </tr>\n",
       "  </thead>\n",
       "  <tbody>\n",
       "    <tr>\n",
       "      <th>111</th>\n",
       "      <td>Andaman &amp; Nicobar Islands</td>\n",
       "      <td>2890.0</td>\n",
       "    </tr>\n",
       "    <tr>\n",
       "      <th>210</th>\n",
       "      <td>Arunachal Pradesh</td>\n",
       "      <td>2745.5</td>\n",
       "    </tr>\n",
       "    <tr>\n",
       "      <th>327</th>\n",
       "      <td>Assam &amp; Meghalaya</td>\n",
       "      <td>2711.6</td>\n",
       "    </tr>\n",
       "    <tr>\n",
       "      <th>444</th>\n",
       "      <td>Naga Mani Mizo Tripura</td>\n",
       "      <td>2805.3</td>\n",
       "    </tr>\n",
       "    <tr>\n",
       "      <th>561</th>\n",
       "      <td>Sub Himalayan West Bengal &amp; Sikkim</td>\n",
       "      <td>2684.8</td>\n",
       "    </tr>\n",
       "    <tr>\n",
       "      <th>678</th>\n",
       "      <td>Gangetic West Bengal</td>\n",
       "      <td>1568.7</td>\n",
       "    </tr>\n",
       "    <tr>\n",
       "      <th>795</th>\n",
       "      <td>Orissa</td>\n",
       "      <td>1344.4</td>\n",
       "    </tr>\n",
       "    <tr>\n",
       "      <th>912</th>\n",
       "      <td>Jharkhand</td>\n",
       "      <td>1165.7</td>\n",
       "    </tr>\n",
       "    <tr>\n",
       "      <th>1029</th>\n",
       "      <td>Bihar</td>\n",
       "      <td>1112.0</td>\n",
       "    </tr>\n",
       "    <tr>\n",
       "      <th>1146</th>\n",
       "      <td>East Uttar Pradesh</td>\n",
       "      <td>694.9</td>\n",
       "    </tr>\n",
       "  </tbody>\n",
       "</table>\n",
       "</div>"
      ],
      "text/plain": [
       "                             SUBDIVISION  ANNUAL\n",
       "111            Andaman & Nicobar Islands  2890.0\n",
       "210                    Arunachal Pradesh  2745.5\n",
       "327                    Assam & Meghalaya  2711.6\n",
       "444               Naga Mani Mizo Tripura  2805.3\n",
       "561   Sub Himalayan West Bengal & Sikkim  2684.8\n",
       "678                 Gangetic West Bengal  1568.7\n",
       "795                               Orissa  1344.4\n",
       "912                            Jharkhand  1165.7\n",
       "1029                               Bihar  1112.0\n",
       "1146                  East Uttar Pradesh   694.9"
      ]
     },
     "execution_count": 9,
     "metadata": {},
     "output_type": "execute_result"
    }
   ],
   "source": [
    "area2017 = hist_df4[['SUBDIVISION', 'ANNUAL']]\n",
    "area2017.head(10)"
   ]
  },
  {
   "cell_type": "code",
   "execution_count": 10,
   "id": "5e931b2d",
   "metadata": {
    "execution": {
     "iopub.execute_input": "2021-08-19T08:15:31.266271Z",
     "iopub.status.busy": "2021-08-19T08:15:31.265647Z",
     "iopub.status.idle": "2021-08-19T08:15:31.276615Z",
     "shell.execute_reply": "2021-08-19T08:15:31.277093Z",
     "shell.execute_reply.started": "2021-08-19T08:14:56.038647Z"
    },
    "papermill": {
     "duration": 0.03581,
     "end_time": "2021-08-19T08:15:31.277262",
     "exception": false,
     "start_time": "2021-08-19T08:15:31.241452",
     "status": "completed"
    },
    "tags": []
   },
   "outputs": [],
   "source": [
    "months = ['JAN', 'FEB', 'MAR', 'APR', 'MAY', 'JUN', 'JUL', 'AUG', 'SEP', 'OCT', 'NOV', 'DEC']\n",
    "pie1 = []  #2014\n",
    "pie2 = []  #2015\n",
    "pie3 = []  #2016\n",
    "pie4 = []  #2017\n",
    "for month in months:\n",
    "    x1 = hist_df1[month].sum()\n",
    "    pie1.append(x1)\n",
    "    x2 = hist_df2[month].sum()\n",
    "    pie2.append(x2)\n",
    "    x3 = hist_df3[month].sum()\n",
    "    pie3.append(x3)\n",
    "    x4 = hist_df4[month].sum()\n",
    "    pie4.append(x4)"
   ]
  },
  {
   "cell_type": "code",
   "execution_count": 11,
   "id": "8d277fcb",
   "metadata": {
    "execution": {
     "iopub.execute_input": "2021-08-19T08:15:31.323424Z",
     "iopub.status.busy": "2021-08-19T08:15:31.322827Z",
     "iopub.status.idle": "2021-08-19T08:15:31.827145Z",
     "shell.execute_reply": "2021-08-19T08:15:31.826595Z",
     "shell.execute_reply.started": "2021-08-19T08:14:56.056915Z"
    },
    "papermill": {
     "duration": 0.52835,
     "end_time": "2021-08-19T08:15:31.827287",
     "exception": false,
     "start_time": "2021-08-19T08:15:31.298937",
     "status": "completed"
    },
    "tags": []
   },
   "outputs": [
    {
     "data": {
      "image/png": "[encoded data removed]",
      "text/plain": [
       "<Figure size 432x288 with 1 Axes>"
      ]
     },
     "metadata": {},
     "output_type": "display_data"
    },
    {
     "data": {
      "image/png": "[encoded data removed]",
      "text/plain": [
       "<Figure size 432x288 with 1 Axes>"
      ]
     },
     "metadata": {},
     "output_type": "display_data"
    },
    {
     "data": {
      "image/png": "[encoded data removed]",
      "text/plain": [
       "<Figure size 432x288 with 1 Axes>"
      ]
     },
     "metadata": {},
     "output_type": "display_data"
    },
    {
     "data": {
      "image/png": "[encoded data removed]",
      "text/plain": [
       "<Figure size 432x288 with 1 Axes>"
      ]
     },
     "metadata": {},
     "output_type": "display_data"
    }
   ],
   "source": [
    "from matplotlib import cm\n",
    "viridis = cm.get_cmap('viridis', 12)\n",
    "magma = cm.get_cmap('magma', 12)\n",
    "plasma = cm.get_cmap('plasma', 12)\n",
    "cividis = cm.get_cmap('cividis', 12)\n",
    "\n",
    "plt.figure(0)\n",
    "plt.pie(x = pie1, labels = months, colors = magma(np.linspace(0, 1,12)), radius = 1.5)\n",
    "plt.title('2014')\n",
    "\n",
    "plt.figure(1)\n",
    "plt.pie(x = pie2, labels = months, colors = viridis(np.linspace(0, 1,12)), radius = 1.5)\n",
    "plt.title('2015')\n",
    "\n",
    "plt.figure(2)\n",
    "plt.pie(x = pie3, labels = months, colors = plasma(np.linspace(0, 1,12)), radius = 1.5)\n",
    "plt.title('2016')\n",
    "\n",
    "plt.figure(3)\n",
    "plt.pie(x = pie4, labels = months, colors = cividis(np.linspace(0, 1,12)), radius = 1.5)\n",
    "plt.title('2017')\n",
    "\n",
    "plt.show()"
   ]
  }
 ],
 "metadata": {
  "kernelspec": {
   "display_name": "Python 3",
   "language": "python",
   "name": "python3"
  },
  "language_info": {
   "codemirror_mode": {
    "name": "ipython",
    "version": 3
   },
   "file_extension": ".py",
   "mimetype": "text/x-python",
   "name": "python",
   "nbconvert_exporter": "python",
   "pygments_lexer": "ipython3",
   "version": "3.8.8"
  },
  "papermill": {
   "default_parameters": {},
   "duration": 11.725862,
   "end_time": "2021-08-19T08:15:33.627887",
   "environment_variables": {},
   "exception": null,
   "input_path": "__notebook__.ipynb",
   "output_path": "__notebook__.ipynb",
   "parameters": {},
   "start_time": "2021-08-19T08:15:21.902025",
   "version": "2.3.3"
  }
 },
 "nbformat": 4,
 "nbformat_minor": 5
}
