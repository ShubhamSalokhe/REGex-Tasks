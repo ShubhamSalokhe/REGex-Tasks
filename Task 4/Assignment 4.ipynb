{
 "cells": [
  {
   "cell_type": "markdown",
   "id": "db76051d",
   "metadata": {},
   "source": [
    " EDA on a dataset "
   ]
  },
  {
   "cell_type": "code",
   "execution_count": 1,
   "id": "a6b4b576",
   "metadata": {},
   "outputs": [
    {
     "data": {
      "text/html": [
       "        <script type=\"text/javascript\">\n",
       "        window.PlotlyConfig = {MathJaxConfig: 'local'};\n",
       "        if (window.MathJax) {MathJax.Hub.Config({SVG: {font: \"STIX-Web\"}});}\n",
       "        if (typeof require !== 'undefined') {\n",
       "        require.undef(\"plotly\");\n",
       "        requirejs.config({\n",
       "            paths: {\n",
       "                'plotly': ['https://cdn.plot.ly/plotly-2.4.1.min']\n",
       "            }\n",
       "        });\n",
       "        require(['plotly'], function(Plotly) {\n",
       "            window._Plotly = Plotly;\n",
       "        });\n",
       "        }\n",
       "        </script>\n",
       "        "
      ]
     },
     "metadata": {},
     "output_type": "display_data"
    }
   ],
   "source": [
    "import pandas as pd\n",
    "import numpy as np\n",
    "import matplotlib.pyplot as plt\n",
    "import plotly.graph_objects as go\n",
    "%matplotlib inline\n",
    "from plotly.offline import plot, iplot, init_notebook_mode\n",
    "init_notebook_mode(connected=True)"
   ]
  },
  {
   "cell_type": "code",
   "execution_count": 2,
   "id": "13a616d9",
   "metadata": {},
   "outputs": [
    {
     "data": {
      "text/html": [
       "<div>\n",
       "<style scoped>\n",
       "    .dataframe tbody tr th:only-of-type {\n",
       "        vertical-align: middle;\n",
       "    }\n",
       "\n",
       "    .dataframe tbody tr th {\n",
       "        vertical-align: top;\n",
       "    }\n",
       "\n",
       "    .dataframe thead th {\n",
       "        text-align: right;\n",
       "    }\n",
       "</style>\n",
       "<table border=\"1\" class=\"dataframe\">\n",
       "  <thead>\n",
       "    <tr style=\"text-align: right;\">\n",
       "      <th></th>\n",
       "      <th>Name</th>\n",
       "      <th>SUBDIVISION</th>\n",
       "      <th>YEAR</th>\n",
       "      <th>JAN</th>\n",
       "      <th>FEB</th>\n",
       "      <th>MAR</th>\n",
       "      <th>APR</th>\n",
       "      <th>MAY</th>\n",
       "      <th>JUN</th>\n",
       "      <th>JUL</th>\n",
       "      <th>...</th>\n",
       "      <th>OCT</th>\n",
       "      <th>NOV</th>\n",
       "      <th>DEC</th>\n",
       "      <th>ANNUAL</th>\n",
       "      <th>Jan-Feb</th>\n",
       "      <th>Mar-May</th>\n",
       "      <th>June-September</th>\n",
       "      <th>Oct-Dec</th>\n",
       "      <th>Latitude</th>\n",
       "      <th>Longitude</th>\n",
       "    </tr>\n",
       "  </thead>\n",
       "  <tbody>\n",
       "    <tr>\n",
       "      <th>0</th>\n",
       "      <td>ROW1</td>\n",
       "      <td>Andaman &amp; Nicobar Islands</td>\n",
       "      <td>1901</td>\n",
       "      <td>49.2</td>\n",
       "      <td>87.1</td>\n",
       "      <td>29.2</td>\n",
       "      <td>2.3</td>\n",
       "      <td>528.8</td>\n",
       "      <td>517.5</td>\n",
       "      <td>365.1</td>\n",
       "      <td>...</td>\n",
       "      <td>388.5</td>\n",
       "      <td>558.2</td>\n",
       "      <td>33.6</td>\n",
       "      <td>3373.2</td>\n",
       "      <td>136.3</td>\n",
       "      <td>560.3</td>\n",
       "      <td>1696.3</td>\n",
       "      <td>980.3</td>\n",
       "      <td>12.61124</td>\n",
       "      <td>92.83165</td>\n",
       "    </tr>\n",
       "    <tr>\n",
       "      <th>1</th>\n",
       "      <td>ROW2</td>\n",
       "      <td>Andaman &amp; Nicobar Islands</td>\n",
       "      <td>1902</td>\n",
       "      <td>0.0</td>\n",
       "      <td>159.8</td>\n",
       "      <td>12.2</td>\n",
       "      <td>0.0</td>\n",
       "      <td>446.1</td>\n",
       "      <td>537.1</td>\n",
       "      <td>228.9</td>\n",
       "      <td>...</td>\n",
       "      <td>197.2</td>\n",
       "      <td>359.0</td>\n",
       "      <td>160.5</td>\n",
       "      <td>3520.7</td>\n",
       "      <td>159.8</td>\n",
       "      <td>458.3</td>\n",
       "      <td>2185.9</td>\n",
       "      <td>716.7</td>\n",
       "      <td>12.61124</td>\n",
       "      <td>92.83165</td>\n",
       "    </tr>\n",
       "    <tr>\n",
       "      <th>2</th>\n",
       "      <td>ROW3</td>\n",
       "      <td>Andaman &amp; Nicobar Islands</td>\n",
       "      <td>1903</td>\n",
       "      <td>12.7</td>\n",
       "      <td>144.0</td>\n",
       "      <td>0.0</td>\n",
       "      <td>1.0</td>\n",
       "      <td>235.1</td>\n",
       "      <td>479.9</td>\n",
       "      <td>728.4</td>\n",
       "      <td>...</td>\n",
       "      <td>181.2</td>\n",
       "      <td>284.4</td>\n",
       "      <td>225.0</td>\n",
       "      <td>2957.4</td>\n",
       "      <td>156.7</td>\n",
       "      <td>236.1</td>\n",
       "      <td>1874.0</td>\n",
       "      <td>690.6</td>\n",
       "      <td>12.61124</td>\n",
       "      <td>92.83165</td>\n",
       "    </tr>\n",
       "    <tr>\n",
       "      <th>3</th>\n",
       "      <td>ROW4</td>\n",
       "      <td>Andaman &amp; Nicobar Islands</td>\n",
       "      <td>1904</td>\n",
       "      <td>9.4</td>\n",
       "      <td>14.7</td>\n",
       "      <td>0.0</td>\n",
       "      <td>202.4</td>\n",
       "      <td>304.5</td>\n",
       "      <td>495.1</td>\n",
       "      <td>502.0</td>\n",
       "      <td>...</td>\n",
       "      <td>222.2</td>\n",
       "      <td>308.7</td>\n",
       "      <td>40.1</td>\n",
       "      <td>3079.6</td>\n",
       "      <td>24.1</td>\n",
       "      <td>506.9</td>\n",
       "      <td>1977.6</td>\n",
       "      <td>571.0</td>\n",
       "      <td>12.61124</td>\n",
       "      <td>92.83165</td>\n",
       "    </tr>\n",
       "    <tr>\n",
       "      <th>4</th>\n",
       "      <td>ROW5</td>\n",
       "      <td>Andaman &amp; Nicobar Islands</td>\n",
       "      <td>1905</td>\n",
       "      <td>1.3</td>\n",
       "      <td>0.0</td>\n",
       "      <td>3.3</td>\n",
       "      <td>26.9</td>\n",
       "      <td>279.5</td>\n",
       "      <td>628.7</td>\n",
       "      <td>368.7</td>\n",
       "      <td>...</td>\n",
       "      <td>260.7</td>\n",
       "      <td>25.4</td>\n",
       "      <td>344.7</td>\n",
       "      <td>2566.7</td>\n",
       "      <td>1.3</td>\n",
       "      <td>309.7</td>\n",
       "      <td>1624.9</td>\n",
       "      <td>630.8</td>\n",
       "      <td>12.61124</td>\n",
       "      <td>92.83165</td>\n",
       "    </tr>\n",
       "  </tbody>\n",
       "</table>\n",
       "<p>5 rows × 22 columns</p>\n",
       "</div>"
      ],
      "text/plain": [
       "   Name                SUBDIVISION  YEAR   JAN    FEB   MAR    APR    MAY  \\\n",
       "0  ROW1  Andaman & Nicobar Islands  1901  49.2   87.1  29.2    2.3  528.8   \n",
       "1  ROW2  Andaman & Nicobar Islands  1902   0.0  159.8  12.2    0.0  446.1   \n",
       "2  ROW3  Andaman & Nicobar Islands  1903  12.7  144.0   0.0    1.0  235.1   \n",
       "3  ROW4  Andaman & Nicobar Islands  1904   9.4   14.7   0.0  202.4  304.5   \n",
       "4  ROW5  Andaman & Nicobar Islands  1905   1.3    0.0   3.3   26.9  279.5   \n",
       "\n",
       "     JUN    JUL  ...    OCT    NOV    DEC  ANNUAL  Jan-Feb  Mar-May  \\\n",
       "0  517.5  365.1  ...  388.5  558.2   33.6  3373.2    136.3    560.3   \n",
       "1  537.1  228.9  ...  197.2  359.0  160.5  3520.7    159.8    458.3   \n",
       "2  479.9  728.4  ...  181.2  284.4  225.0  2957.4    156.7    236.1   \n",
       "3  495.1  502.0  ...  222.2  308.7   40.1  3079.6     24.1    506.9   \n",
       "4  628.7  368.7  ...  260.7   25.4  344.7  2566.7      1.3    309.7   \n",
       "\n",
       "   June-September  Oct-Dec  Latitude  Longitude  \n",
       "0          1696.3    980.3  12.61124   92.83165  \n",
       "1          2185.9    716.7  12.61124   92.83165  \n",
       "2          1874.0    690.6  12.61124   92.83165  \n",
       "3          1977.6    571.0  12.61124   92.83165  \n",
       "4          1624.9    630.8  12.61124   92.83165  \n",
       "\n",
       "[5 rows x 22 columns]"
      ]
     },
     "execution_count": 2,
     "metadata": {},
     "output_type": "execute_result"
    }
   ],
   "source": [
    "data = pd.read_csv('Rainfall_Data_LL.csv')\n",
    "data.head()"
   ]
  },
  {
   "cell_type": "markdown",
   "id": "34f461ba",
   "metadata": {},
   "source": [
    "**Compare Rainfall in each year** "
   ]
  },
  {
   "cell_type": "code",
   "execution_count": 3,
   "id": "9fc65022",
   "metadata": {
    "scrolled": false
   },
   "outputs": [
    {
     "data": {
      "application/vnd.plotly.v1+json": {
       "config": {
        "plotlyServerURL": "https://plot.ly"
       },
       "data": [
        {
         "marker": {
          "color": "blue",
          "line": {
           "color": "cyan",
           "width": 1.2
          }
         },
         "type": "bar",
         "x": [
          1901,
          1902,
          1903,
          1904,
          1905,
          1906,
          1907,
          1908,
          1909,
          1910,
          1911,
          1912,
          1913,
          1914,
          1915,
          1916,
          1917,
          1918,
          1919,
          1920,
          1921,
          1922,
          1923,
          1924,
          1925,
          1926,
          1927,
          1928,
          1929,
          1930,
          1931,
          1932,
          1933,
          1934,
          1935,
          1936,
          1937,
          1938,
          1939,
          1940,
          1941,
          1942,
          1943,
          1944,
          1945,
          1946,
          1947,
          1948,
          1949,
          1950,
          1951,
          1952,
          1953,
          1954,
          1955,
          1956,
          1957,
          1958,
          1959,
          1960,
          1961,
          1962,
          1963,
          1964,
          1965,
          1966,
          1967,
          1968,
          1969,
          1970,
          1971,
          1972,
          1973,
          1974,
          1975,
          1976,
          1977,
          1978,
          1979,
          1980,
          1981,
          1982,
          1983,
          1984,
          1985,
          1986,
          1987,
          1988,
          1989,
          1990,
          1991,
          1992,
          1993,
          1994,
          1995,
          1996,
          1997,
          1998,
          1999,
          2000,
          2001,
          2002,
          2003,
          2004,
          2005,
          2006,
          2007,
          2008,
          2009,
          2010,
          2011,
          2012,
          2013,
          2014,
          2015,
          2016,
          2017
         ],
         "y": [
          44947.299999999996,
          46805.1,
          49035.32554241917,
          43287.3,
          41515.9,
          47180.09999999999,
          45443.40000000001,
          46453.2,
          45677.799999999996,
          50265.09999999999,
          44097.000000000015,
          46770.700000000004,
          45008.3,
          51352.600000000006,
          47181.4,
          56919.004035242135,
          60176.48276030411,
          44225.00000000001,
          53781.4,
          46555.00437380498,
          53425.911863190624,
          53950.700000000004,
          51300.79550346807,
          54884.83485755326,
          51823.90000000001,
          53173.9,
          53303.704035242146,
          52189.79550346807,
          52174.59068486589,
          50922.4,
          56315.737771934015,
          52211.725759227505,
          60002.50000000001,
          52130.50000000001,
          49075.299999999996,
          56327.88171169017,
          52675,
          55990.6,
          47938.40000000001,
          52240.3,
          46742.5,
          53659.44948490201,
          52382.28171169018,
          51214.200000000004,
          49532.100000000006,
          57026.672269743765,
          53363.41186319063,
          54235.6,
          56033.1906848659,
          50651.84770444763,
          47334.8,
          47678.200000000004,
          52328.51471291866,
          51396.9,
          54724.9,
          56448.70000000001,
          50246.63764920707,
          56183.9,
          59336.299999999996,
          50900.30000000001,
          61814.90000000001,
          53239.225542419175,
          53152.09999999999,
          53790.9,
          42796.600000000006,
          46224.00000000001,
          49215.8,
          46979.000000000015,
          49414.600000000006,
          55110.9,
          53177.6,
          41274.1,
          50610.1,
          47361.100000000006,
          55811.3,
          48421.8,
          54270.9,
          53601.00000000001,
          43830.1,
          51728.899999999994,
          51532.200000000004,
          46444.8,
          55845.299999999996,
          49830.49999999999,
          48583.00000000001,
          46181.00000000001,
          46387.299999999996,
          57797,
          48521.00000000001,
          58115.100000000006,
          50408.5,
          47706.1,
          51513.700000000004,
          54246.7,
          54037.8,
          50406.700000000004,
          50982.99999999999,
          54963.9,
          49969.80000000001,
          46981.60437380497,
          46897.9,
          41358.50000000001,
          48759.1,
          46753.5,
          52430.8,
          50645.700000000004,
          54506.3,
          49226.100000000006,
          42851.18932232347,
          52855.8,
          50146.200000000004,
          46662.53777193402,
          53105.40000000001,
          44797,
          46100.5,
          45853.4,
          47509.00000000001
         ]
        }
       ],
       "layout": {
        "template": {
         "data": {
          "pie": [
           {
            "automargin": true,
            "type": "pie"
           }
          ],
          "scatter": [
           {
            "line": {
             "width": 3
            },
            "marker": {
             "size": 9
            },
            "type": "scatter"
           }
          ],
          "scatter3d": [
           {
            "line": {
             "width": 3
            },
            "marker": {
             "size": 9
            },
            "type": "scatter3d"
           }
          ],
          "scattergeo": [
           {
            "line": {
             "width": 3
            },
            "marker": {
             "size": 9
            },
            "type": "scattergeo"
           }
          ],
          "scattergl": [
           {
            "line": {
             "width": 3
            },
            "marker": {
             "size": 9
            },
            "type": "scattergl"
           }
          ],
          "scatterpolar": [
           {
            "line": {
             "width": 3
            },
            "marker": {
             "size": 9
            },
            "type": "scatterpolar"
           }
          ],
          "scatterpolargl": [
           {
            "line": {
             "width": 3
            },
            "marker": {
             "size": 9
            },
            "type": "scatterpolargl"
           }
          ],
          "scatterternary": [
           {
            "line": {
             "width": 3
            },
            "marker": {
             "size": 9
            },
            "type": "scatterternary"
           }
          ],
          "table": [
           {
            "cells": {
             "height": 30
            },
            "header": {
             "height": 36
            },
            "type": "table"
           }
          ]
         },
         "layout": {
          "font": {
           "size": 18
          },
          "xaxis": {
           "title": {
            "standoff": 15
           }
          },
          "yaxis": {
           "title": {
            "standoff": 15
           }
          }
         }
        },
        "title": {
         "text": "ANNUAL RAINFALLS IN INDIA"
        },
        "xaxis": {
         "title": {
          "text": "Year"
         }
        },
        "yaxis": {
         "title": {
          "text": "Annual Rainfall"
         }
        }
       }
      },
      "text/html": [
       "<div>                            <div id=\"0d6881a3-28b5-4f57-bfa6-5ad21f4b2977\" class=\"plotly-graph-div\" style=\"height:525px; width:100%;\"></div>            <script type=\"text/javascript\">                require([\"plotly\"], function(Plotly) {                    window.PLOTLYENV=window.PLOTLYENV || {};                                    if (document.getElementById(\"0d6881a3-28b5-4f57-bfa6-5ad21f4b2977\")) {                    Plotly.newPlot(                        \"0d6881a3-28b5-4f57-bfa6-5ad21f4b2977\",                        [{\"marker\":{\"color\":\"blue\",\"line\":{\"color\":\"cyan\",\"width\":1.2}},\"type\":\"bar\",\"x\":[1901,1902,1903,1904,1905,1906,1907,1908,1909,1910,1911,1912,1913,1914,1915,1916,1917,1918,1919,1920,1921,1922,1923,1924,1925,1926,1927,1928,1929,1930,1931,1932,1933,1934,1935,1936,1937,1938,1939,1940,1941,1942,1943,1944,1945,1946,1947,1948,1949,1950,1951,1952,1953,1954,1955,1956,1957,1958,1959,1960,1961,1962,1963,1964,1965,1966,1967,1968,1969,1970,1971,1972,1973,1974,1975,1976,1977,1978,1979,1980,1981,1982,1983,1984,1985,1986,1987,1988,1989,1990,1991,1992,1993,1994,1995,1996,1997,1998,1999,2000,2001,2002,2003,2004,2005,2006,2007,2008,2009,2010,2011,2012,2013,2014,2015,2016,2017],\"y\":[44947.299999999996,46805.1,49035.32554241917,43287.3,41515.9,47180.09999999999,45443.40000000001,46453.2,45677.799999999996,50265.09999999999,44097.000000000015,46770.700000000004,45008.3,51352.600000000006,47181.4,56919.004035242135,60176.48276030411,44225.00000000001,53781.4,46555.00437380498,53425.911863190624,53950.700000000004,51300.79550346807,54884.83485755326,51823.90000000001,53173.9,53303.704035242146,52189.79550346807,52174.59068486589,50922.4,56315.737771934015,52211.725759227505,60002.50000000001,52130.50000000001,49075.299999999996,56327.88171169017,52675.0,55990.6,47938.40000000001,52240.3,46742.5,53659.44948490201,52382.28171169018,51214.200000000004,49532.100000000006,57026.672269743765,53363.41186319063,54235.6,56033.1906848659,50651.84770444763,47334.8,47678.200000000004,52328.51471291866,51396.9,54724.9,56448.70000000001,50246.63764920707,56183.9,59336.299999999996,50900.30000000001,61814.90000000001,53239.225542419175,53152.09999999999,53790.9,42796.600000000006,46224.00000000001,49215.8,46979.000000000015,49414.600000000006,55110.9,53177.6,41274.1,50610.1,47361.100000000006,55811.3,48421.8,54270.9,53601.00000000001,43830.1,51728.899999999994,51532.200000000004,46444.8,55845.299999999996,49830.49999999999,48583.00000000001,46181.00000000001,46387.299999999996,57797.0,48521.00000000001,58115.100000000006,50408.5,47706.1,51513.700000000004,54246.7,54037.8,50406.700000000004,50982.99999999999,54963.9,49969.80000000001,46981.60437380497,46897.9,41358.50000000001,48759.1,46753.5,52430.8,50645.700000000004,54506.3,49226.100000000006,42851.18932232347,52855.8,50146.200000000004,46662.53777193402,53105.40000000001,44797.0,46100.5,45853.4,47509.00000000001]}],                        {\"template\":{\"data\":{\"pie\":[{\"automargin\":true,\"type\":\"pie\"}],\"scatter\":[{\"line\":{\"width\":3},\"marker\":{\"size\":9},\"type\":\"scatter\"}],\"scatter3d\":[{\"line\":{\"width\":3},\"marker\":{\"size\":9},\"type\":\"scatter3d\"}],\"scattergeo\":[{\"line\":{\"width\":3},\"marker\":{\"size\":9},\"type\":\"scattergeo\"}],\"scattergl\":[{\"line\":{\"width\":3},\"marker\":{\"size\":9},\"type\":\"scattergl\"}],\"scatterpolar\":[{\"line\":{\"width\":3},\"marker\":{\"size\":9},\"type\":\"scatterpolar\"}],\"scatterpolargl\":[{\"line\":{\"width\":3},\"marker\":{\"size\":9},\"type\":\"scatterpolargl\"}],\"scatterternary\":[{\"line\":{\"width\":3},\"marker\":{\"size\":9},\"type\":\"scatterternary\"}],\"table\":[{\"cells\":{\"height\":30},\"header\":{\"height\":36},\"type\":\"table\"}]},\"layout\":{\"font\":{\"size\":18},\"xaxis\":{\"title\":{\"standoff\":15}},\"yaxis\":{\"title\":{\"standoff\":15}}}},\"title\":{\"text\":\"ANNUAL RAINFALLS IN INDIA\"},\"xaxis\":{\"title\":{\"text\":\"Year\"}},\"yaxis\":{\"title\":{\"text\":\"Annual Rainfall\"}}},                        {\"responsive\": true}                    ).then(function(){\n",
       "                            \n",
       "var gd = document.getElementById('0d6881a3-28b5-4f57-bfa6-5ad21f4b2977');\n",
       "var x = new MutationObserver(function (mutations, observer) {{\n",
       "        var display = window.getComputedStyle(gd).display;\n",
       "        if (!display || display === 'none') {{\n",
       "            console.log([gd, 'removed!']);\n",
       "            Plotly.purge(gd);\n",
       "            observer.disconnect();\n",
       "        }}\n",
       "}});\n",
       "\n",
       "// Listen for the removal of the full notebook cells\n",
       "var notebookContainer = gd.closest('#notebook-container');\n",
       "if (notebookContainer) {{\n",
       "    x.observe(notebookContainer, {childList: true});\n",
       "}}\n",
       "\n",
       "// Listen for the clearing of the current output cell\n",
       "var outputEl = gd.closest('.output');\n",
       "if (outputEl) {{\n",
       "    x.observe(outputEl, {childList: true});\n",
       "}}\n",
       "\n",
       "                        })                };                });            </script>        </div>"
      ]
     },
     "metadata": {},
     "output_type": "display_data"
    }
   ],
   "source": [
    "years = [] # creating seperate list of year\n",
    "rainfalls = [] #creating seperate list of rainfall \n",
    "for year, df in data.groupby('YEAR'):\n",
    "    rainfall = df['ANNUAL'].sum()  \n",
    "    years.append(year)\n",
    "    rainfalls.append(rainfall)\n",
    "\n",
    "year_trace = go.Bar(x = years, y = rainfalls,\n",
    "                   marker = dict(color = 'blue', \n",
    "                                 line = dict(color = 'cyan',width = 1.2)))\n",
    "year_layout = go.Layout(template = 'presentation',\n",
    "                        title = 'ANNUAL RAINFALLS IN INDIA',\n",
    "                        xaxis= dict(title = 'Year'),\n",
    "                        yaxis = dict(title = 'Annual Rainfall'))\n",
    "year_fig = go.Figure(data = [year_trace], layout = year_layout)\n",
    "year_fig.show()"
   ]
  },
  {
   "cell_type": "markdown",
   "id": "c7b407f0",
   "metadata": {},
   "source": [
    "**Compare the rainfall in each area**"
   ]
  },
  {
   "cell_type": "code",
   "execution_count": 4,
   "id": "b40fc002",
   "metadata": {},
   "outputs": [
    {
     "data": {
      "application/vnd.plotly.v1+json": {
       "config": {
        "plotlyServerURL": "https://plot.ly"
       },
       "data": [
        {
         "marker": {
          "color": "blue",
          "line": {
           "color": "cyan",
           "width": 1.2
          }
         },
         "type": "bar",
         "x": [
          "Andaman & Nicobar Islands",
          "Arunachal Pradesh",
          "Assam & Meghalaya",
          "Bihar",
          "Chhattisgarh",
          "Coastal Andhra Pradesh",
          "Coastal Karnataka",
          "East Madhya Pradesh",
          "East Rajasthan",
          "East Uttar Pradesh",
          "Gangetic West Bengal",
          "Gujarat Region",
          "Haryana Delhi & Chandigarh",
          "Himachal Pradesh",
          "Jammu & Kashmir",
          "Jharkhand",
          "Kerala",
          "Konkan & Goa",
          "Lakshadweep",
          "Madhya Maharashtra",
          "Matathwada",
          "Naga Mani Mizo Tripura",
          "North Interior Karnataka",
          "Orissa",
          "Punjab",
          "Rayalseema",
          "Saurashtra & Kutch",
          "South Interior Karnataka",
          "Sub Himalayan West Bengal & Sikkim",
          "Tamil Nadu",
          "Telangana",
          "Uttarakhand",
          "Vidarbha",
          "West Madhya Pradesh",
          "West Rajasthan",
          "West Uttar Pradesh"
         ],
         "y": [
          324990.8991800317,
          337666.5251477027,
          301758.6,
          139998.3,
          160189.60000000003,
          122885.59999999999,
          397264.7377719341,
          140755.5,
          76810.09999999999,
          114175.6,
          174402.50000000003,
          107381.79999999997,
          61826.8,
          147042.80000000002,
          133209.48932232347,
          152999.8,
          340968,
          349540.20000000007,
          182673.60169806078,
          103126.2,
          92632.6,
          284630.10000000003,
          83910.9,
          170287.59999999998,
          69198.70000000001,
          89503.6,
          58076.5,
          121392.90000000001,
          321813,
          110036.9,
          111496.89999999997,
          171339.1,
          127945,
          110157.20437380495,
          34411.50000000001,
          96396.00000000001
         ]
        }
       ],
       "layout": {
        "template": {
         "data": {
          "bar": [
           {
            "error_x": {
             "color": "#2a3f5f"
            },
            "error_y": {
             "color": "#2a3f5f"
            },
            "marker": {
             "line": {
              "color": "white",
              "width": 0.5
             },
             "pattern": {
              "fillmode": "overlay",
              "size": 10,
              "solidity": 0.2
             }
            },
            "type": "bar"
           }
          ],
          "barpolar": [
           {
            "marker": {
             "line": {
              "color": "white",
              "width": 0.5
             },
             "pattern": {
              "fillmode": "overlay",
              "size": 10,
              "solidity": 0.2
             }
            },
            "type": "barpolar"
           }
          ],
          "carpet": [
           {
            "aaxis": {
             "endlinecolor": "#2a3f5f",
             "gridcolor": "#C8D4E3",
             "linecolor": "#C8D4E3",
             "minorgridcolor": "#C8D4E3",
             "startlinecolor": "#2a3f5f"
            },
            "baxis": {
             "endlinecolor": "#2a3f5f",
             "gridcolor": "#C8D4E3",
             "linecolor": "#C8D4E3",
             "minorgridcolor": "#C8D4E3",
             "startlinecolor": "#2a3f5f"
            },
            "type": "carpet"
           }
          ],
          "choropleth": [
           {
            "colorbar": {
             "outlinewidth": 0,
             "ticks": ""
            },
            "type": "choropleth"
           }
          ],
          "contour": [
           {
            "colorbar": {
             "outlinewidth": 0,
             "ticks": ""
            },
            "colorscale": [
             [
              0,
              "#0d0887"
             ],
             [
              0.1111111111111111,
              "#46039f"
             ],
             [
              0.2222222222222222,
              "#7201a8"
             ],
             [
              0.3333333333333333,
              "#9c179e"
             ],
             [
              0.4444444444444444,
              "#bd3786"
             ],
             [
              0.5555555555555556,
              "#d8576b"
             ],
             [
              0.6666666666666666,
              "#ed7953"
             ],
             [
              0.7777777777777778,
              "#fb9f3a"
             ],
             [
              0.8888888888888888,
              "#fdca26"
             ],
             [
              1,
              "#f0f921"
             ]
            ],
            "type": "contour"
           }
          ],
          "contourcarpet": [
           {
            "colorbar": {
             "outlinewidth": 0,
             "ticks": ""
            },
            "type": "contourcarpet"
           }
          ],
          "heatmap": [
           {
            "colorbar": {
             "outlinewidth": 0,
             "ticks": ""
            },
            "colorscale": [
             [
              0,
              "#0d0887"
             ],
             [
              0.1111111111111111,
              "#46039f"
             ],
             [
              0.2222222222222222,
              "#7201a8"
             ],
             [
              0.3333333333333333,
              "#9c179e"
             ],
             [
              0.4444444444444444,
              "#bd3786"
             ],
             [
              0.5555555555555556,
              "#d8576b"
             ],
             [
              0.6666666666666666,
              "#ed7953"
             ],
             [
              0.7777777777777778,
              "#fb9f3a"
             ],
             [
              0.8888888888888888,
              "#fdca26"
             ],
             [
              1,
              "#f0f921"
             ]
            ],
            "type": "heatmap"
           }
          ],
          "heatmapgl": [
           {
            "colorbar": {
             "outlinewidth": 0,
             "ticks": ""
            },
            "colorscale": [
             [
              0,
              "#0d0887"
             ],
             [
              0.1111111111111111,
              "#46039f"
             ],
             [
              0.2222222222222222,
              "#7201a8"
             ],
             [
              0.3333333333333333,
              "#9c179e"
             ],
             [
              0.4444444444444444,
              "#bd3786"
             ],
             [
              0.5555555555555556,
              "#d8576b"
             ],
             [
              0.6666666666666666,
              "#ed7953"
             ],
             [
              0.7777777777777778,
              "#fb9f3a"
             ],
             [
              0.8888888888888888,
              "#fdca26"
             ],
             [
              1,
              "#f0f921"
             ]
            ],
            "type": "heatmapgl"
           }
          ],
          "histogram": [
           {
            "marker": {
             "pattern": {
              "fillmode": "overlay",
              "size": 10,
              "solidity": 0.2
             }
            },
            "type": "histogram"
           }
          ],
          "histogram2d": [
           {
            "colorbar": {
             "outlinewidth": 0,
             "ticks": ""
            },
            "colorscale": [
             [
              0,
              "#0d0887"
             ],
             [
              0.1111111111111111,
              "#46039f"
             ],
             [
              0.2222222222222222,
              "#7201a8"
             ],
             [
              0.3333333333333333,
              "#9c179e"
             ],
             [
              0.4444444444444444,
              "#bd3786"
             ],
             [
              0.5555555555555556,
              "#d8576b"
             ],
             [
              0.6666666666666666,
              "#ed7953"
             ],
             [
              0.7777777777777778,
              "#fb9f3a"
             ],
             [
              0.8888888888888888,
              "#fdca26"
             ],
             [
              1,
              "#f0f921"
             ]
            ],
            "type": "histogram2d"
           }
          ],
          "histogram2dcontour": [
           {
            "colorbar": {
             "outlinewidth": 0,
             "ticks": ""
            },
            "colorscale": [
             [
              0,
              "#0d0887"
             ],
             [
              0.1111111111111111,
              "#46039f"
             ],
             [
              0.2222222222222222,
              "#7201a8"
             ],
             [
              0.3333333333333333,
              "#9c179e"
             ],
             [
              0.4444444444444444,
              "#bd3786"
             ],
             [
              0.5555555555555556,
              "#d8576b"
             ],
             [
              0.6666666666666666,
              "#ed7953"
             ],
             [
              0.7777777777777778,
              "#fb9f3a"
             ],
             [
              0.8888888888888888,
              "#fdca26"
             ],
             [
              1,
              "#f0f921"
             ]
            ],
            "type": "histogram2dcontour"
           }
          ],
          "mesh3d": [
           {
            "colorbar": {
             "outlinewidth": 0,
             "ticks": ""
            },
            "type": "mesh3d"
           }
          ],
          "parcoords": [
           {
            "line": {
             "colorbar": {
              "outlinewidth": 0,
              "ticks": ""
             }
            },
            "type": "parcoords"
           }
          ],
          "pie": [
           {
            "automargin": true,
            "type": "pie"
           }
          ],
          "scatter": [
           {
            "marker": {
             "colorbar": {
              "outlinewidth": 0,
              "ticks": ""
             }
            },
            "type": "scatter"
           }
          ],
          "scatter3d": [
           {
            "line": {
             "colorbar": {
              "outlinewidth": 0,
              "ticks": ""
             }
            },
            "marker": {
             "colorbar": {
              "outlinewidth": 0,
              "ticks": ""
             }
            },
            "type": "scatter3d"
           }
          ],
          "scattercarpet": [
           {
            "marker": {
             "colorbar": {
              "outlinewidth": 0,
              "ticks": ""
             }
            },
            "type": "scattercarpet"
           }
          ],
          "scattergeo": [
           {
            "marker": {
             "colorbar": {
              "outlinewidth": 0,
              "ticks": ""
             }
            },
            "type": "scattergeo"
           }
          ],
          "scattergl": [
           {
            "marker": {
             "colorbar": {
              "outlinewidth": 0,
              "ticks": ""
             }
            },
            "type": "scattergl"
           }
          ],
          "scattermapbox": [
           {
            "marker": {
             "colorbar": {
              "outlinewidth": 0,
              "ticks": ""
             }
            },
            "type": "scattermapbox"
           }
          ],
          "scatterpolar": [
           {
            "marker": {
             "colorbar": {
              "outlinewidth": 0,
              "ticks": ""
             }
            },
            "type": "scatterpolar"
           }
          ],
          "scatterpolargl": [
           {
            "marker": {
             "colorbar": {
              "outlinewidth": 0,
              "ticks": ""
             }
            },
            "type": "scatterpolargl"
           }
          ],
          "scatterternary": [
           {
            "marker": {
             "colorbar": {
              "outlinewidth": 0,
              "ticks": ""
             }
            },
            "type": "scatterternary"
           }
          ],
          "surface": [
           {
            "colorbar": {
             "outlinewidth": 0,
             "ticks": ""
            },
            "colorscale": [
             [
              0,
              "#0d0887"
             ],
             [
              0.1111111111111111,
              "#46039f"
             ],
             [
              0.2222222222222222,
              "#7201a8"
             ],
             [
              0.3333333333333333,
              "#9c179e"
             ],
             [
              0.4444444444444444,
              "#bd3786"
             ],
             [
              0.5555555555555556,
              "#d8576b"
             ],
             [
              0.6666666666666666,
              "#ed7953"
             ],
             [
              0.7777777777777778,
              "#fb9f3a"
             ],
             [
              0.8888888888888888,
              "#fdca26"
             ],
             [
              1,
              "#f0f921"
             ]
            ],
            "type": "surface"
           }
          ],
          "table": [
           {
            "cells": {
             "fill": {
              "color": "#EBF0F8"
             },
             "line": {
              "color": "white"
             }
            },
            "header": {
             "fill": {
              "color": "#C8D4E3"
             },
             "line": {
              "color": "white"
             }
            },
            "type": "table"
           }
          ]
         },
         "layout": {
          "annotationdefaults": {
           "arrowcolor": "#2a3f5f",
           "arrowhead": 0,
           "arrowwidth": 1
          },
          "autotypenumbers": "strict",
          "coloraxis": {
           "colorbar": {
            "outlinewidth": 0,
            "ticks": ""
           }
          },
          "colorscale": {
           "diverging": [
            [
             0,
             "#8e0152"
            ],
            [
             0.1,
             "#c51b7d"
            ],
            [
             0.2,
             "#de77ae"
            ],
            [
             0.3,
             "#f1b6da"
            ],
            [
             0.4,
             "#fde0ef"
            ],
            [
             0.5,
             "#f7f7f7"
            ],
            [
             0.6,
             "#e6f5d0"
            ],
            [
             0.7,
             "#b8e186"
            ],
            [
             0.8,
             "#7fbc41"
            ],
            [
             0.9,
             "#4d9221"
            ],
            [
             1,
             "#276419"
            ]
           ],
           "sequential": [
            [
             0,
             "#0d0887"
            ],
            [
             0.1111111111111111,
             "#46039f"
            ],
            [
             0.2222222222222222,
             "#7201a8"
            ],
            [
             0.3333333333333333,
             "#9c179e"
            ],
            [
             0.4444444444444444,
             "#bd3786"
            ],
            [
             0.5555555555555556,
             "#d8576b"
            ],
            [
             0.6666666666666666,
             "#ed7953"
            ],
            [
             0.7777777777777778,
             "#fb9f3a"
            ],
            [
             0.8888888888888888,
             "#fdca26"
            ],
            [
             1,
             "#f0f921"
            ]
           ],
           "sequentialminus": [
            [
             0,
             "#0d0887"
            ],
            [
             0.1111111111111111,
             "#46039f"
            ],
            [
             0.2222222222222222,
             "#7201a8"
            ],
            [
             0.3333333333333333,
             "#9c179e"
            ],
            [
             0.4444444444444444,
             "#bd3786"
            ],
            [
             0.5555555555555556,
             "#d8576b"
            ],
            [
             0.6666666666666666,
             "#ed7953"
            ],
            [
             0.7777777777777778,
             "#fb9f3a"
            ],
            [
             0.8888888888888888,
             "#fdca26"
            ],
            [
             1,
             "#f0f921"
            ]
           ]
          },
          "colorway": [
           "#636efa",
           "#EF553B",
           "#00cc96",
           "#ab63fa",
           "#FFA15A",
           "#19d3f3",
           "#FF6692",
           "#B6E880",
           "#FF97FF",
           "#FECB52"
          ],
          "font": {
           "color": "#2a3f5f"
          },
          "geo": {
           "bgcolor": "white",
           "lakecolor": "white",
           "landcolor": "white",
           "showlakes": true,
           "showland": true,
           "subunitcolor": "#C8D4E3"
          },
          "hoverlabel": {
           "align": "left"
          },
          "hovermode": "closest",
          "mapbox": {
           "style": "light"
          },
          "paper_bgcolor": "white",
          "plot_bgcolor": "white",
          "polar": {
           "angularaxis": {
            "gridcolor": "#EBF0F8",
            "linecolor": "#EBF0F8",
            "ticks": ""
           },
           "bgcolor": "white",
           "radialaxis": {
            "gridcolor": "#EBF0F8",
            "linecolor": "#EBF0F8",
            "ticks": ""
           }
          },
          "scene": {
           "xaxis": {
            "backgroundcolor": "white",
            "gridcolor": "#DFE8F3",
            "gridwidth": 2,
            "linecolor": "#EBF0F8",
            "showbackground": true,
            "ticks": "",
            "zerolinecolor": "#EBF0F8"
           },
           "yaxis": {
            "backgroundcolor": "white",
            "gridcolor": "#DFE8F3",
            "gridwidth": 2,
            "linecolor": "#EBF0F8",
            "showbackground": true,
            "ticks": "",
            "zerolinecolor": "#EBF0F8"
           },
           "zaxis": {
            "backgroundcolor": "white",
            "gridcolor": "#DFE8F3",
            "gridwidth": 2,
            "linecolor": "#EBF0F8",
            "showbackground": true,
            "ticks": "",
            "zerolinecolor": "#EBF0F8"
           }
          },
          "shapedefaults": {
           "line": {
            "color": "#2a3f5f"
           }
          },
          "ternary": {
           "aaxis": {
            "gridcolor": "#DFE8F3",
            "linecolor": "#A2B1C6",
            "ticks": ""
           },
           "baxis": {
            "gridcolor": "#DFE8F3",
            "linecolor": "#A2B1C6",
            "ticks": ""
           },
           "bgcolor": "white",
           "caxis": {
            "gridcolor": "#DFE8F3",
            "linecolor": "#A2B1C6",
            "ticks": ""
           }
          },
          "title": {
           "x": 0.05
          },
          "xaxis": {
           "automargin": true,
           "gridcolor": "#EBF0F8",
           "linecolor": "#EBF0F8",
           "ticks": "",
           "title": {
            "standoff": 15
           },
           "zerolinecolor": "#EBF0F8",
           "zerolinewidth": 2
          },
          "yaxis": {
           "automargin": true,
           "gridcolor": "#EBF0F8",
           "linecolor": "#EBF0F8",
           "ticks": "",
           "title": {
            "standoff": 15
           },
           "zerolinecolor": "#EBF0F8",
           "zerolinewidth": 2
          }
         }
        },
        "title": {
         "text": "RAINFALLS IN EACH AREA IN INDIA"
        },
        "xaxis": {
         "title": {
          "text": "Subdivison"
         }
        },
        "yaxis": {
         "title": {
          "text": "Rainfall"
         }
        }
       }
      },
      "text/html": [
       "<div>                            <div id=\"8931e7f0-3242-46bc-a675-37b2c5f3680e\" class=\"plotly-graph-div\" style=\"height:525px; width:100%;\"></div>            <script type=\"text/javascript\">                require([\"plotly\"], function(Plotly) {                    window.PLOTLYENV=window.PLOTLYENV || {};                                    if (document.getElementById(\"8931e7f0-3242-46bc-a675-37b2c5f3680e\")) {                    Plotly.newPlot(                        \"8931e7f0-3242-46bc-a675-37b2c5f3680e\",                        [{\"marker\":{\"color\":\"blue\",\"line\":{\"color\":\"cyan\",\"width\":1.2}},\"type\":\"bar\",\"x\":[\"Andaman & Nicobar Islands\",\"Arunachal Pradesh\",\"Assam & Meghalaya\",\"Bihar\",\"Chhattisgarh\",\"Coastal Andhra Pradesh\",\"Coastal Karnataka\",\"East Madhya Pradesh\",\"East Rajasthan\",\"East Uttar Pradesh\",\"Gangetic West Bengal\",\"Gujarat Region\",\"Haryana Delhi & Chandigarh\",\"Himachal Pradesh\",\"Jammu & Kashmir\",\"Jharkhand\",\"Kerala\",\"Konkan & Goa\",\"Lakshadweep\",\"Madhya Maharashtra\",\"Matathwada\",\"Naga Mani Mizo Tripura\",\"North Interior Karnataka\",\"Orissa\",\"Punjab\",\"Rayalseema\",\"Saurashtra & Kutch\",\"South Interior Karnataka\",\"Sub Himalayan West Bengal & Sikkim\",\"Tamil Nadu\",\"Telangana\",\"Uttarakhand\",\"Vidarbha\",\"West Madhya Pradesh\",\"West Rajasthan\",\"West Uttar Pradesh\"],\"y\":[324990.8991800317,337666.5251477027,301758.6,139998.3,160189.60000000003,122885.59999999999,397264.7377719341,140755.5,76810.09999999999,114175.6,174402.50000000003,107381.79999999997,61826.8,147042.80000000002,133209.48932232347,152999.8,340968.0,349540.20000000007,182673.60169806078,103126.2,92632.6,284630.10000000003,83910.9,170287.59999999998,69198.70000000001,89503.6,58076.5,121392.90000000001,321813.0,110036.9,111496.89999999997,171339.1,127945.0,110157.20437380495,34411.50000000001,96396.00000000001]}],                        {\"template\":{\"data\":{\"bar\":[{\"error_x\":{\"color\":\"#2a3f5f\"},\"error_y\":{\"color\":\"#2a3f5f\"},\"marker\":{\"line\":{\"color\":\"white\",\"width\":0.5},\"pattern\":{\"fillmode\":\"overlay\",\"size\":10,\"solidity\":0.2}},\"type\":\"bar\"}],\"barpolar\":[{\"marker\":{\"line\":{\"color\":\"white\",\"width\":0.5},\"pattern\":{\"fillmode\":\"overlay\",\"size\":10,\"solidity\":0.2}},\"type\":\"barpolar\"}],\"carpet\":[{\"aaxis\":{\"endlinecolor\":\"#2a3f5f\",\"gridcolor\":\"#C8D4E3\",\"linecolor\":\"#C8D4E3\",\"minorgridcolor\":\"#C8D4E3\",\"startlinecolor\":\"#2a3f5f\"},\"baxis\":{\"endlinecolor\":\"#2a3f5f\",\"gridcolor\":\"#C8D4E3\",\"linecolor\":\"#C8D4E3\",\"minorgridcolor\":\"#C8D4E3\",\"startlinecolor\":\"#2a3f5f\"},\"type\":\"carpet\"}],\"choropleth\":[{\"colorbar\":{\"outlinewidth\":0,\"ticks\":\"\"},\"type\":\"choropleth\"}],\"contour\":[{\"colorbar\":{\"outlinewidth\":0,\"ticks\":\"\"},\"colorscale\":[[0.0,\"#0d0887\"],[0.1111111111111111,\"#46039f\"],[0.2222222222222222,\"#7201a8\"],[0.3333333333333333,\"#9c179e\"],[0.4444444444444444,\"#bd3786\"],[0.5555555555555556,\"#d8576b\"],[0.6666666666666666,\"#ed7953\"],[0.7777777777777778,\"#fb9f3a\"],[0.8888888888888888,\"#fdca26\"],[1.0,\"#f0f921\"]],\"type\":\"contour\"}],\"contourcarpet\":[{\"colorbar\":{\"outlinewidth\":0,\"ticks\":\"\"},\"type\":\"contourcarpet\"}],\"heatmap\":[{\"colorbar\":{\"outlinewidth\":0,\"ticks\":\"\"},\"colorscale\":[[0.0,\"#0d0887\"],[0.1111111111111111,\"#46039f\"],[0.2222222222222222,\"#7201a8\"],[0.3333333333333333,\"#9c179e\"],[0.4444444444444444,\"#bd3786\"],[0.5555555555555556,\"#d8576b\"],[0.6666666666666666,\"#ed7953\"],[0.7777777777777778,\"#fb9f3a\"],[0.8888888888888888,\"#fdca26\"],[1.0,\"#f0f921\"]],\"type\":\"heatmap\"}],\"heatmapgl\":[{\"colorbar\":{\"outlinewidth\":0,\"ticks\":\"\"},\"colorscale\":[[0.0,\"#0d0887\"],[0.1111111111111111,\"#46039f\"],[0.2222222222222222,\"#7201a8\"],[0.3333333333333333,\"#9c179e\"],[0.4444444444444444,\"#bd3786\"],[0.5555555555555556,\"#d8576b\"],[0.6666666666666666,\"#ed7953\"],[0.7777777777777778,\"#fb9f3a\"],[0.8888888888888888,\"#fdca26\"],[1.0,\"#f0f921\"]],\"type\":\"heatmapgl\"}],\"histogram\":[{\"marker\":{\"pattern\":{\"fillmode\":\"overlay\",\"size\":10,\"solidity\":0.2}},\"type\":\"histogram\"}],\"histogram2d\":[{\"colorbar\":{\"outlinewidth\":0,\"ticks\":\"\"},\"colorscale\":[[0.0,\"#0d0887\"],[0.1111111111111111,\"#46039f\"],[0.2222222222222222,\"#7201a8\"],[0.3333333333333333,\"#9c179e\"],[0.4444444444444444,\"#bd3786\"],[0.5555555555555556,\"#d8576b\"],[0.6666666666666666,\"#ed7953\"],[0.7777777777777778,\"#fb9f3a\"],[0.8888888888888888,\"#fdca26\"],[1.0,\"#f0f921\"]],\"type\":\"histogram2d\"}],\"histogram2dcontour\":[{\"colorbar\":{\"outlinewidth\":0,\"ticks\":\"\"},\"colorscale\":[[0.0,\"#0d0887\"],[0.1111111111111111,\"#46039f\"],[0.2222222222222222,\"#7201a8\"],[0.3333333333333333,\"#9c179e\"],[0.4444444444444444,\"#bd3786\"],[0.5555555555555556,\"#d8576b\"],[0.6666666666666666,\"#ed7953\"],[0.7777777777777778,\"#fb9f3a\"],[0.8888888888888888,\"#fdca26\"],[1.0,\"#f0f921\"]],\"type\":\"histogram2dcontour\"}],\"mesh3d\":[{\"colorbar\":{\"outlinewidth\":0,\"ticks\":\"\"},\"type\":\"mesh3d\"}],\"parcoords\":[{\"line\":{\"colorbar\":{\"outlinewidth\":0,\"ticks\":\"\"}},\"type\":\"parcoords\"}],\"pie\":[{\"automargin\":true,\"type\":\"pie\"}],\"scatter\":[{\"marker\":{\"colorbar\":{\"outlinewidth\":0,\"ticks\":\"\"}},\"type\":\"scatter\"}],\"scatter3d\":[{\"line\":{\"colorbar\":{\"outlinewidth\":0,\"ticks\":\"\"}},\"marker\":{\"colorbar\":{\"outlinewidth\":0,\"ticks\":\"\"}},\"type\":\"scatter3d\"}],\"scattercarpet\":[{\"marker\":{\"colorbar\":{\"outlinewidth\":0,\"ticks\":\"\"}},\"type\":\"scattercarpet\"}],\"scattergeo\":[{\"marker\":{\"colorbar\":{\"outlinewidth\":0,\"ticks\":\"\"}},\"type\":\"scattergeo\"}],\"scattergl\":[{\"marker\":{\"colorbar\":{\"outlinewidth\":0,\"ticks\":\"\"}},\"type\":\"scattergl\"}],\"scattermapbox\":[{\"marker\":{\"colorbar\":{\"outlinewidth\":0,\"ticks\":\"\"}},\"type\":\"scattermapbox\"}],\"scatterpolar\":[{\"marker\":{\"colorbar\":{\"outlinewidth\":0,\"ticks\":\"\"}},\"type\":\"scatterpolar\"}],\"scatterpolargl\":[{\"marker\":{\"colorbar\":{\"outlinewidth\":0,\"ticks\":\"\"}},\"type\":\"scatterpolargl\"}],\"scatterternary\":[{\"marker\":{\"colorbar\":{\"outlinewidth\":0,\"ticks\":\"\"}},\"type\":\"scatterternary\"}],\"surface\":[{\"colorbar\":{\"outlinewidth\":0,\"ticks\":\"\"},\"colorscale\":[[0.0,\"#0d0887\"],[0.1111111111111111,\"#46039f\"],[0.2222222222222222,\"#7201a8\"],[0.3333333333333333,\"#9c179e\"],[0.4444444444444444,\"#bd3786\"],[0.5555555555555556,\"#d8576b\"],[0.6666666666666666,\"#ed7953\"],[0.7777777777777778,\"#fb9f3a\"],[0.8888888888888888,\"#fdca26\"],[1.0,\"#f0f921\"]],\"type\":\"surface\"}],\"table\":[{\"cells\":{\"fill\":{\"color\":\"#EBF0F8\"},\"line\":{\"color\":\"white\"}},\"header\":{\"fill\":{\"color\":\"#C8D4E3\"},\"line\":{\"color\":\"white\"}},\"type\":\"table\"}]},\"layout\":{\"annotationdefaults\":{\"arrowcolor\":\"#2a3f5f\",\"arrowhead\":0,\"arrowwidth\":1},\"autotypenumbers\":\"strict\",\"coloraxis\":{\"colorbar\":{\"outlinewidth\":0,\"ticks\":\"\"}},\"colorscale\":{\"diverging\":[[0,\"#8e0152\"],[0.1,\"#c51b7d\"],[0.2,\"#de77ae\"],[0.3,\"#f1b6da\"],[0.4,\"#fde0ef\"],[0.5,\"#f7f7f7\"],[0.6,\"#e6f5d0\"],[0.7,\"#b8e186\"],[0.8,\"#7fbc41\"],[0.9,\"#4d9221\"],[1,\"#276419\"]],\"sequential\":[[0.0,\"#0d0887\"],[0.1111111111111111,\"#46039f\"],[0.2222222222222222,\"#7201a8\"],[0.3333333333333333,\"#9c179e\"],[0.4444444444444444,\"#bd3786\"],[0.5555555555555556,\"#d8576b\"],[0.6666666666666666,\"#ed7953\"],[0.7777777777777778,\"#fb9f3a\"],[0.8888888888888888,\"#fdca26\"],[1.0,\"#f0f921\"]],\"sequentialminus\":[[0.0,\"#0d0887\"],[0.1111111111111111,\"#46039f\"],[0.2222222222222222,\"#7201a8\"],[0.3333333333333333,\"#9c179e\"],[0.4444444444444444,\"#bd3786\"],[0.5555555555555556,\"#d8576b\"],[0.6666666666666666,\"#ed7953\"],[0.7777777777777778,\"#fb9f3a\"],[0.8888888888888888,\"#fdca26\"],[1.0,\"#f0f921\"]]},\"colorway\":[\"#636efa\",\"#EF553B\",\"#00cc96\",\"#ab63fa\",\"#FFA15A\",\"#19d3f3\",\"#FF6692\",\"#B6E880\",\"#FF97FF\",\"#FECB52\"],\"font\":{\"color\":\"#2a3f5f\"},\"geo\":{\"bgcolor\":\"white\",\"lakecolor\":\"white\",\"landcolor\":\"white\",\"showlakes\":true,\"showland\":true,\"subunitcolor\":\"#C8D4E3\"},\"hoverlabel\":{\"align\":\"left\"},\"hovermode\":\"closest\",\"mapbox\":{\"style\":\"light\"},\"paper_bgcolor\":\"white\",\"plot_bgcolor\":\"white\",\"polar\":{\"angularaxis\":{\"gridcolor\":\"#EBF0F8\",\"linecolor\":\"#EBF0F8\",\"ticks\":\"\"},\"bgcolor\":\"white\",\"radialaxis\":{\"gridcolor\":\"#EBF0F8\",\"linecolor\":\"#EBF0F8\",\"ticks\":\"\"}},\"scene\":{\"xaxis\":{\"backgroundcolor\":\"white\",\"gridcolor\":\"#DFE8F3\",\"gridwidth\":2,\"linecolor\":\"#EBF0F8\",\"showbackground\":true,\"ticks\":\"\",\"zerolinecolor\":\"#EBF0F8\"},\"yaxis\":{\"backgroundcolor\":\"white\",\"gridcolor\":\"#DFE8F3\",\"gridwidth\":2,\"linecolor\":\"#EBF0F8\",\"showbackground\":true,\"ticks\":\"\",\"zerolinecolor\":\"#EBF0F8\"},\"zaxis\":{\"backgroundcolor\":\"white\",\"gridcolor\":\"#DFE8F3\",\"gridwidth\":2,\"linecolor\":\"#EBF0F8\",\"showbackground\":true,\"ticks\":\"\",\"zerolinecolor\":\"#EBF0F8\"}},\"shapedefaults\":{\"line\":{\"color\":\"#2a3f5f\"}},\"ternary\":{\"aaxis\":{\"gridcolor\":\"#DFE8F3\",\"linecolor\":\"#A2B1C6\",\"ticks\":\"\"},\"baxis\":{\"gridcolor\":\"#DFE8F3\",\"linecolor\":\"#A2B1C6\",\"ticks\":\"\"},\"bgcolor\":\"white\",\"caxis\":{\"gridcolor\":\"#DFE8F3\",\"linecolor\":\"#A2B1C6\",\"ticks\":\"\"}},\"title\":{\"x\":0.05},\"xaxis\":{\"automargin\":true,\"gridcolor\":\"#EBF0F8\",\"linecolor\":\"#EBF0F8\",\"ticks\":\"\",\"title\":{\"standoff\":15},\"zerolinecolor\":\"#EBF0F8\",\"zerolinewidth\":2},\"yaxis\":{\"automargin\":true,\"gridcolor\":\"#EBF0F8\",\"linecolor\":\"#EBF0F8\",\"ticks\":\"\",\"title\":{\"standoff\":15},\"zerolinecolor\":\"#EBF0F8\",\"zerolinewidth\":2}}},\"title\":{\"text\":\"RAINFALLS IN EACH AREA IN INDIA\"},\"xaxis\":{\"title\":{\"text\":\"Subdivison\"}},\"yaxis\":{\"title\":{\"text\":\"Rainfall\"}}},                        {\"responsive\": true}                    ).then(function(){\n",
       "                            \n",
       "var gd = document.getElementById('8931e7f0-3242-46bc-a675-37b2c5f3680e');\n",
       "var x = new MutationObserver(function (mutations, observer) {{\n",
       "        var display = window.getComputedStyle(gd).display;\n",
       "        if (!display || display === 'none') {{\n",
       "            console.log([gd, 'removed!']);\n",
       "            Plotly.purge(gd);\n",
       "            observer.disconnect();\n",
       "        }}\n",
       "}});\n",
       "\n",
       "// Listen for the removal of the full notebook cells\n",
       "var notebookContainer = gd.closest('#notebook-container');\n",
       "if (notebookContainer) {{\n",
       "    x.observe(notebookContainer, {childList: true});\n",
       "}}\n",
       "\n",
       "// Listen for the clearing of the current output cell\n",
       "var outputEl = gd.closest('.output');\n",
       "if (outputEl) {{\n",
       "    x.observe(outputEl, {childList: true});\n",
       "}}\n",
       "\n",
       "                        })                };                });            </script>        </div>"
      ]
     },
     "metadata": {},
     "output_type": "display_data"
    }
   ],
   "source": [
    "areas = []\n",
    "rainfalls_ = []\n",
    "for area, df in data.groupby('SUBDIVISION'):\n",
    "    rainfall = df['ANNUAL'].sum()\n",
    "    areas.append(area)\n",
    "    rainfalls_.append(rainfall)\n",
    "    \n",
    "area_trace = go.Bar(x = areas, y=rainfalls_,\n",
    "                   marker = dict(color = 'blue',\n",
    "                                 line = dict(color = 'cyan',width = 1.2)))\n",
    "area_layout = go.Layout(template = 'plotly_white',title = 'RAINFALLS IN EACH AREA IN INDIA',\n",
    "                       xaxis = dict(title = 'Subdivison'), yaxis = dict(title = 'Rainfall'))\n",
    "area_fig = go.Figure(data = [area_trace], layout = area_layout)\n",
    "area_fig.show()"
   ]
  },
  {
   "cell_type": "code",
   "execution_count": 5,
   "id": "5d8c88ee",
   "metadata": {},
   "outputs": [
    {
     "data": {
      "text/plain": [
       "Index(['Name', 'SUBDIVISION', 'YEAR', 'JAN', 'FEB', 'MAR', 'APR', 'MAY', 'JUN',\n",
       "       'JUL', 'AUG', 'SEP', 'OCT', 'NOV', 'DEC', 'ANNUAL', 'Jan-Feb',\n",
       "       'Mar-May', 'June-September', 'Oct-Dec', 'Latitude', 'Longitude'],\n",
       "      dtype='object')"
      ]
     },
     "execution_count": 5,
     "metadata": {},
     "output_type": "execute_result"
    }
   ],
   "source": [
    "data.columns"
   ]
  },
  {
   "cell_type": "markdown",
   "id": "297699e5",
   "metadata": {},
   "source": [
    "*Rainfall over months from 2014 to 2017 in India*"
   ]
  },
  {
   "cell_type": "code",
   "execution_count": 6,
   "id": "898ca88e",
   "metadata": {},
   "outputs": [
    {
     "data": {
      "text/html": [
       "<div>\n",
       "<style scoped>\n",
       "    .dataframe tbody tr th:only-of-type {\n",
       "        vertical-align: middle;\n",
       "    }\n",
       "\n",
       "    .dataframe tbody tr th {\n",
       "        vertical-align: top;\n",
       "    }\n",
       "\n",
       "    .dataframe thead th {\n",
       "        text-align: right;\n",
       "    }\n",
       "</style>\n",
       "<table border=\"1\" class=\"dataframe\">\n",
       "  <thead>\n",
       "    <tr style=\"text-align: right;\">\n",
       "      <th></th>\n",
       "      <th>Name</th>\n",
       "      <th>SUBDIVISION</th>\n",
       "      <th>YEAR</th>\n",
       "      <th>JAN</th>\n",
       "      <th>FEB</th>\n",
       "      <th>MAR</th>\n",
       "      <th>APR</th>\n",
       "      <th>MAY</th>\n",
       "      <th>JUN</th>\n",
       "      <th>JUL</th>\n",
       "      <th>...</th>\n",
       "      <th>OCT</th>\n",
       "      <th>NOV</th>\n",
       "      <th>DEC</th>\n",
       "      <th>ANNUAL</th>\n",
       "      <th>Jan-Feb</th>\n",
       "      <th>Mar-May</th>\n",
       "      <th>June-September</th>\n",
       "      <th>Oct-Dec</th>\n",
       "      <th>Latitude</th>\n",
       "      <th>Longitude</th>\n",
       "    </tr>\n",
       "  </thead>\n",
       "  <tbody>\n",
       "    <tr>\n",
       "      <th>108</th>\n",
       "      <td>ROW109</td>\n",
       "      <td>Andaman &amp; Nicobar Islands</td>\n",
       "      <td>2014</td>\n",
       "      <td>41.9</td>\n",
       "      <td>8.6</td>\n",
       "      <td>0.0</td>\n",
       "      <td>11.1</td>\n",
       "      <td>238.0</td>\n",
       "      <td>416.6</td>\n",
       "      <td>467.6</td>\n",
       "      <td>...</td>\n",
       "      <td>402.6</td>\n",
       "      <td>201.2</td>\n",
       "      <td>100.4</td>\n",
       "      <td>2622.5</td>\n",
       "      <td>50.5</td>\n",
       "      <td>249.1</td>\n",
       "      <td>1618.7</td>\n",
       "      <td>704.2</td>\n",
       "      <td>12.611240</td>\n",
       "      <td>92.831650</td>\n",
       "    </tr>\n",
       "    <tr>\n",
       "      <th>207</th>\n",
       "      <td>ROW208</td>\n",
       "      <td>Arunachal Pradesh</td>\n",
       "      <td>2014</td>\n",
       "      <td>19.0</td>\n",
       "      <td>101.9</td>\n",
       "      <td>80.3</td>\n",
       "      <td>86.7</td>\n",
       "      <td>299.0</td>\n",
       "      <td>415.8</td>\n",
       "      <td>392.4</td>\n",
       "      <td>...</td>\n",
       "      <td>35.1</td>\n",
       "      <td>20.1</td>\n",
       "      <td>10.2</td>\n",
       "      <td>2403.1</td>\n",
       "      <td>120.9</td>\n",
       "      <td>466.0</td>\n",
       "      <td>1750.8</td>\n",
       "      <td>65.4</td>\n",
       "      <td>28.093770</td>\n",
       "      <td>94.592130</td>\n",
       "    </tr>\n",
       "    <tr>\n",
       "      <th>324</th>\n",
       "      <td>ROW325</td>\n",
       "      <td>Assam &amp; Meghalaya</td>\n",
       "      <td>2014</td>\n",
       "      <td>2.0</td>\n",
       "      <td>28.3</td>\n",
       "      <td>29.3</td>\n",
       "      <td>51.5</td>\n",
       "      <td>351.1</td>\n",
       "      <td>426.4</td>\n",
       "      <td>374.4</td>\n",
       "      <td>...</td>\n",
       "      <td>35.0</td>\n",
       "      <td>3.0</td>\n",
       "      <td>0.4</td>\n",
       "      <td>2206.2</td>\n",
       "      <td>30.3</td>\n",
       "      <td>431.9</td>\n",
       "      <td>1705.6</td>\n",
       "      <td>38.4</td>\n",
       "      <td>25.914603</td>\n",
       "      <td>91.844758</td>\n",
       "    </tr>\n",
       "    <tr>\n",
       "      <th>441</th>\n",
       "      <td>ROW442</td>\n",
       "      <td>Naga Mani Mizo Tripura</td>\n",
       "      <td>2014</td>\n",
       "      <td>1.2</td>\n",
       "      <td>21.0</td>\n",
       "      <td>25.4</td>\n",
       "      <td>49.6</td>\n",
       "      <td>192.5</td>\n",
       "      <td>268.3</td>\n",
       "      <td>295.7</td>\n",
       "      <td>...</td>\n",
       "      <td>69.6</td>\n",
       "      <td>3.3</td>\n",
       "      <td>0.1</td>\n",
       "      <td>1599.9</td>\n",
       "      <td>22.2</td>\n",
       "      <td>267.5</td>\n",
       "      <td>1237.2</td>\n",
       "      <td>73.0</td>\n",
       "      <td>24.776975</td>\n",
       "      <td>93.092095</td>\n",
       "    </tr>\n",
       "    <tr>\n",
       "      <th>558</th>\n",
       "      <td>ROW559</td>\n",
       "      <td>Sub Himalayan West Bengal &amp; Sikkim</td>\n",
       "      <td>2014</td>\n",
       "      <td>0.2</td>\n",
       "      <td>26.6</td>\n",
       "      <td>37.7</td>\n",
       "      <td>47.9</td>\n",
       "      <td>308.6</td>\n",
       "      <td>543.2</td>\n",
       "      <td>384.6</td>\n",
       "      <td>...</td>\n",
       "      <td>31.2</td>\n",
       "      <td>5.3</td>\n",
       "      <td>2.4</td>\n",
       "      <td>2322.5</td>\n",
       "      <td>26.8</td>\n",
       "      <td>394.2</td>\n",
       "      <td>1862.6</td>\n",
       "      <td>38.9</td>\n",
       "      <td>26.383897</td>\n",
       "      <td>88.161171</td>\n",
       "    </tr>\n",
       "    <tr>\n",
       "      <th>675</th>\n",
       "      <td>ROW676</td>\n",
       "      <td>Gangetic West Bengal</td>\n",
       "      <td>2014</td>\n",
       "      <td>0.9</td>\n",
       "      <td>42.2</td>\n",
       "      <td>19.9</td>\n",
       "      <td>1.9</td>\n",
       "      <td>124.4</td>\n",
       "      <td>193.6</td>\n",
       "      <td>298.7</td>\n",
       "      <td>...</td>\n",
       "      <td>56.9</td>\n",
       "      <td>0.1</td>\n",
       "      <td>0.6</td>\n",
       "      <td>1261.3</td>\n",
       "      <td>43.1</td>\n",
       "      <td>146.2</td>\n",
       "      <td>1014.4</td>\n",
       "      <td>57.6</td>\n",
       "      <td>24.586280</td>\n",
       "      <td>87.967976</td>\n",
       "    </tr>\n",
       "    <tr>\n",
       "      <th>792</th>\n",
       "      <td>ROW793</td>\n",
       "      <td>Orissa</td>\n",
       "      <td>2014</td>\n",
       "      <td>0.0</td>\n",
       "      <td>17.6</td>\n",
       "      <td>25.1</td>\n",
       "      <td>11.7</td>\n",
       "      <td>111.9</td>\n",
       "      <td>92.2</td>\n",
       "      <td>496.2</td>\n",
       "      <td>...</td>\n",
       "      <td>111.8</td>\n",
       "      <td>2.2</td>\n",
       "      <td>0.9</td>\n",
       "      <td>1537.0</td>\n",
       "      <td>17.6</td>\n",
       "      <td>148.7</td>\n",
       "      <td>1255.8</td>\n",
       "      <td>114.9</td>\n",
       "      <td>20.543120</td>\n",
       "      <td>84.689730</td>\n",
       "    </tr>\n",
       "    <tr>\n",
       "      <th>909</th>\n",
       "      <td>ROW910</td>\n",
       "      <td>Jharkhand</td>\n",
       "      <td>2014</td>\n",
       "      <td>9.9</td>\n",
       "      <td>47.5</td>\n",
       "      <td>22.9</td>\n",
       "      <td>1.9</td>\n",
       "      <td>98.2</td>\n",
       "      <td>139.7</td>\n",
       "      <td>321.3</td>\n",
       "      <td>...</td>\n",
       "      <td>44.9</td>\n",
       "      <td>0.0</td>\n",
       "      <td>1.2</td>\n",
       "      <td>1156.6</td>\n",
       "      <td>57.4</td>\n",
       "      <td>123.0</td>\n",
       "      <td>930.1</td>\n",
       "      <td>46.1</td>\n",
       "      <td>23.455980</td>\n",
       "      <td>85.255730</td>\n",
       "    </tr>\n",
       "    <tr>\n",
       "      <th>1026</th>\n",
       "      <td>ROW1027</td>\n",
       "      <td>Bihar</td>\n",
       "      <td>2014</td>\n",
       "      <td>17.0</td>\n",
       "      <td>33.5</td>\n",
       "      <td>8.4</td>\n",
       "      <td>0.7</td>\n",
       "      <td>103.9</td>\n",
       "      <td>115.2</td>\n",
       "      <td>265.4</td>\n",
       "      <td>...</td>\n",
       "      <td>47.8</td>\n",
       "      <td>0.0</td>\n",
       "      <td>1.2</td>\n",
       "      <td>1061.0</td>\n",
       "      <td>50.5</td>\n",
       "      <td>113.0</td>\n",
       "      <td>848.5</td>\n",
       "      <td>49.0</td>\n",
       "      <td>25.644080</td>\n",
       "      <td>85.906510</td>\n",
       "    </tr>\n",
       "    <tr>\n",
       "      <th>1143</th>\n",
       "      <td>ROW1144</td>\n",
       "      <td>East Uttar Pradesh</td>\n",
       "      <td>2014</td>\n",
       "      <td>47.4</td>\n",
       "      <td>25.8</td>\n",
       "      <td>15.4</td>\n",
       "      <td>1.7</td>\n",
       "      <td>10.7</td>\n",
       "      <td>47.8</td>\n",
       "      <td>224.5</td>\n",
       "      <td>...</td>\n",
       "      <td>74.7</td>\n",
       "      <td>0.0</td>\n",
       "      <td>8.4</td>\n",
       "      <td>701.2</td>\n",
       "      <td>73.2</td>\n",
       "      <td>27.8</td>\n",
       "      <td>517.1</td>\n",
       "      <td>83.1</td>\n",
       "      <td>26.618724</td>\n",
       "      <td>82.868991</td>\n",
       "    </tr>\n",
       "    <tr>\n",
       "      <th>1260</th>\n",
       "      <td>ROW1261</td>\n",
       "      <td>West Uttar Pradesh</td>\n",
       "      <td>2014</td>\n",
       "      <td>48.3</td>\n",
       "      <td>29.4</td>\n",
       "      <td>22.6</td>\n",
       "      <td>5.3</td>\n",
       "      <td>11.0</td>\n",
       "      <td>22.0</td>\n",
       "      <td>151.6</td>\n",
       "      <td>...</td>\n",
       "      <td>14.6</td>\n",
       "      <td>0.0</td>\n",
       "      <td>16.3</td>\n",
       "      <td>486.8</td>\n",
       "      <td>77.7</td>\n",
       "      <td>38.9</td>\n",
       "      <td>339.3</td>\n",
       "      <td>30.9</td>\n",
       "      <td>27.713430</td>\n",
       "      <td>78.298678</td>\n",
       "    </tr>\n",
       "    <tr>\n",
       "      <th>1377</th>\n",
       "      <td>ROW1378</td>\n",
       "      <td>Uttarakhand</td>\n",
       "      <td>2014</td>\n",
       "      <td>45.9</td>\n",
       "      <td>99.9</td>\n",
       "      <td>68.4</td>\n",
       "      <td>37.6</td>\n",
       "      <td>52.9</td>\n",
       "      <td>62.9</td>\n",
       "      <td>462.7</td>\n",
       "      <td>...</td>\n",
       "      <td>40.8</td>\n",
       "      <td>0.0</td>\n",
       "      <td>44.3</td>\n",
       "      <td>1287.5</td>\n",
       "      <td>145.8</td>\n",
       "      <td>158.9</td>\n",
       "      <td>897.7</td>\n",
       "      <td>85.1</td>\n",
       "      <td>30.041740</td>\n",
       "      <td>79.089690</td>\n",
       "    </tr>\n",
       "    <tr>\n",
       "      <th>1494</th>\n",
       "      <td>ROW1495</td>\n",
       "      <td>Haryana Delhi &amp; Chandigarh</td>\n",
       "      <td>2014</td>\n",
       "      <td>13.0</td>\n",
       "      <td>17.3</td>\n",
       "      <td>26.8</td>\n",
       "      <td>7.5</td>\n",
       "      <td>20.3</td>\n",
       "      <td>25.9</td>\n",
       "      <td>72.3</td>\n",
       "      <td>...</td>\n",
       "      <td>10.5</td>\n",
       "      <td>0.2</td>\n",
       "      <td>9.6</td>\n",
       "      <td>305.5</td>\n",
       "      <td>30.3</td>\n",
       "      <td>54.6</td>\n",
       "      <td>200.3</td>\n",
       "      <td>20.3</td>\n",
       "      <td>29.455685</td>\n",
       "      <td>76.792433</td>\n",
       "    </tr>\n",
       "    <tr>\n",
       "      <th>1611</th>\n",
       "      <td>ROW1612</td>\n",
       "      <td>Punjab</td>\n",
       "      <td>2014</td>\n",
       "      <td>21.8</td>\n",
       "      <td>20.1</td>\n",
       "      <td>30.3</td>\n",
       "      <td>24.5</td>\n",
       "      <td>20.8</td>\n",
       "      <td>20.6</td>\n",
       "      <td>76.3</td>\n",
       "      <td>...</td>\n",
       "      <td>6.0</td>\n",
       "      <td>0.7</td>\n",
       "      <td>14.1</td>\n",
       "      <td>382.9</td>\n",
       "      <td>41.9</td>\n",
       "      <td>75.6</td>\n",
       "      <td>244.6</td>\n",
       "      <td>20.8</td>\n",
       "      <td>30.929320</td>\n",
       "      <td>75.500480</td>\n",
       "    </tr>\n",
       "    <tr>\n",
       "      <th>1728</th>\n",
       "      <td>ROW1729</td>\n",
       "      <td>Himachal Pradesh</td>\n",
       "      <td>2014</td>\n",
       "      <td>69.6</td>\n",
       "      <td>124.9</td>\n",
       "      <td>125.2</td>\n",
       "      <td>60.6</td>\n",
       "      <td>68.9</td>\n",
       "      <td>51.7</td>\n",
       "      <td>203.6</td>\n",
       "      <td>...</td>\n",
       "      <td>19.3</td>\n",
       "      <td>4.5</td>\n",
       "      <td>49.3</td>\n",
       "      <td>1008.9</td>\n",
       "      <td>194.5</td>\n",
       "      <td>254.7</td>\n",
       "      <td>486.6</td>\n",
       "      <td>73.1</td>\n",
       "      <td>31.816760</td>\n",
       "      <td>77.349320</td>\n",
       "    </tr>\n",
       "    <tr>\n",
       "      <th>1845</th>\n",
       "      <td>ROW1846</td>\n",
       "      <td>Jammu &amp; Kashmir</td>\n",
       "      <td>2014</td>\n",
       "      <td>75.8</td>\n",
       "      <td>64.0</td>\n",
       "      <td>153.1</td>\n",
       "      <td>76.1</td>\n",
       "      <td>52.7</td>\n",
       "      <td>25.3</td>\n",
       "      <td>100.5</td>\n",
       "      <td>...</td>\n",
       "      <td>32.2</td>\n",
       "      <td>14.1</td>\n",
       "      <td>2.3</td>\n",
       "      <td>1093.5</td>\n",
       "      <td>139.8</td>\n",
       "      <td>281.9</td>\n",
       "      <td>623.2</td>\n",
       "      <td>48.6</td>\n",
       "      <td>33.557450</td>\n",
       "      <td>75.061520</td>\n",
       "    </tr>\n",
       "    <tr>\n",
       "      <th>1962</th>\n",
       "      <td>ROW1963</td>\n",
       "      <td>West Rajasthan</td>\n",
       "      <td>2014</td>\n",
       "      <td>0.8</td>\n",
       "      <td>2.2</td>\n",
       "      <td>4.7</td>\n",
       "      <td>8.4</td>\n",
       "      <td>23.0</td>\n",
       "      <td>13.8</td>\n",
       "      <td>94.3</td>\n",
       "      <td>...</td>\n",
       "      <td>0.5</td>\n",
       "      <td>0.2</td>\n",
       "      <td>0.0</td>\n",
       "      <td>302.4</td>\n",
       "      <td>3.0</td>\n",
       "      <td>36.1</td>\n",
       "      <td>262.6</td>\n",
       "      <td>0.7</td>\n",
       "      <td>26.815276</td>\n",
       "      <td>71.003402</td>\n",
       "    </tr>\n",
       "    <tr>\n",
       "      <th>2079</th>\n",
       "      <td>ROW2080</td>\n",
       "      <td>East Rajasthan</td>\n",
       "      <td>2014</td>\n",
       "      <td>28.4</td>\n",
       "      <td>10.0</td>\n",
       "      <td>6.4</td>\n",
       "      <td>7.3</td>\n",
       "      <td>8.4</td>\n",
       "      <td>23.5</td>\n",
       "      <td>197.1</td>\n",
       "      <td>...</td>\n",
       "      <td>3.2</td>\n",
       "      <td>0.0</td>\n",
       "      <td>1.1</td>\n",
       "      <td>683.3</td>\n",
       "      <td>38.4</td>\n",
       "      <td>22.1</td>\n",
       "      <td>618.5</td>\n",
       "      <td>4.3</td>\n",
       "      <td>26.599363</td>\n",
       "      <td>76.782211</td>\n",
       "    </tr>\n",
       "    <tr>\n",
       "      <th>2196</th>\n",
       "      <td>ROW2197</td>\n",
       "      <td>West Madhya Pradesh</td>\n",
       "      <td>2014</td>\n",
       "      <td>25.6</td>\n",
       "      <td>34.4</td>\n",
       "      <td>4.6</td>\n",
       "      <td>1.4</td>\n",
       "      <td>1.4</td>\n",
       "      <td>30.6</td>\n",
       "      <td>337.4</td>\n",
       "      <td>...</td>\n",
       "      <td>7.0</td>\n",
       "      <td>3.0</td>\n",
       "      <td>15.8</td>\n",
       "      <td>864.8</td>\n",
       "      <td>60.0</td>\n",
       "      <td>7.4</td>\n",
       "      <td>771.6</td>\n",
       "      <td>25.8</td>\n",
       "      <td>22.919494</td>\n",
       "      <td>75.035783</td>\n",
       "    </tr>\n",
       "    <tr>\n",
       "      <th>2313</th>\n",
       "      <td>ROW2314</td>\n",
       "      <td>East Madhya Pradesh</td>\n",
       "      <td>2014</td>\n",
       "      <td>32.1</td>\n",
       "      <td>49.7</td>\n",
       "      <td>17.8</td>\n",
       "      <td>5.1</td>\n",
       "      <td>2.5</td>\n",
       "      <td>91.8</td>\n",
       "      <td>283.4</td>\n",
       "      <td>...</td>\n",
       "      <td>56.4</td>\n",
       "      <td>1.9</td>\n",
       "      <td>12.9</td>\n",
       "      <td>925.0</td>\n",
       "      <td>81.8</td>\n",
       "      <td>25.4</td>\n",
       "      <td>746.6</td>\n",
       "      <td>71.2</td>\n",
       "      <td>23.937614</td>\n",
       "      <td>81.111223</td>\n",
       "    </tr>\n",
       "    <tr>\n",
       "      <th>2430</th>\n",
       "      <td>ROW2431</td>\n",
       "      <td>Gujarat Region</td>\n",
       "      <td>2014</td>\n",
       "      <td>5.7</td>\n",
       "      <td>0.1</td>\n",
       "      <td>0.2</td>\n",
       "      <td>1.0</td>\n",
       "      <td>1.3</td>\n",
       "      <td>11.6</td>\n",
       "      <td>307.5</td>\n",
       "      <td>...</td>\n",
       "      <td>3.3</td>\n",
       "      <td>1.3</td>\n",
       "      <td>0.0</td>\n",
       "      <td>705.7</td>\n",
       "      <td>5.8</td>\n",
       "      <td>2.5</td>\n",
       "      <td>692.8</td>\n",
       "      <td>4.6</td>\n",
       "      <td>23.059981</td>\n",
       "      <td>72.930975</td>\n",
       "    </tr>\n",
       "    <tr>\n",
       "      <th>2547</th>\n",
       "      <td>ROW2548</td>\n",
       "      <td>Saurashtra &amp; Kutch</td>\n",
       "      <td>2014</td>\n",
       "      <td>0.3</td>\n",
       "      <td>0.0</td>\n",
       "      <td>0.1</td>\n",
       "      <td>0.5</td>\n",
       "      <td>2.1</td>\n",
       "      <td>17.3</td>\n",
       "      <td>137.7</td>\n",
       "      <td>...</td>\n",
       "      <td>5.2</td>\n",
       "      <td>2.7</td>\n",
       "      <td>0.0</td>\n",
       "      <td>383.9</td>\n",
       "      <td>0.3</td>\n",
       "      <td>2.7</td>\n",
       "      <td>373.0</td>\n",
       "      <td>7.9</td>\n",
       "      <td>23.181228</td>\n",
       "      <td>70.568914</td>\n",
       "    </tr>\n",
       "    <tr>\n",
       "      <th>2664</th>\n",
       "      <td>ROW2665</td>\n",
       "      <td>Konkan &amp; Goa</td>\n",
       "      <td>2014</td>\n",
       "      <td>1.3</td>\n",
       "      <td>5.3</td>\n",
       "      <td>1.8</td>\n",
       "      <td>0.7</td>\n",
       "      <td>21.3</td>\n",
       "      <td>238.2</td>\n",
       "      <td>1293.2</td>\n",
       "      <td>...</td>\n",
       "      <td>98.7</td>\n",
       "      <td>8.0</td>\n",
       "      <td>11.7</td>\n",
       "      <td>2757.7</td>\n",
       "      <td>6.6</td>\n",
       "      <td>23.8</td>\n",
       "      <td>2608.9</td>\n",
       "      <td>118.4</td>\n",
       "      <td>15.300450</td>\n",
       "      <td>74.085510</td>\n",
       "    </tr>\n",
       "    <tr>\n",
       "      <th>2781</th>\n",
       "      <td>ROW2782</td>\n",
       "      <td>Madhya Maharashtra</td>\n",
       "      <td>2014</td>\n",
       "      <td>3.1</td>\n",
       "      <td>6.2</td>\n",
       "      <td>24.4</td>\n",
       "      <td>7.5</td>\n",
       "      <td>29.8</td>\n",
       "      <td>44.0</td>\n",
       "      <td>277.9</td>\n",
       "      <td>...</td>\n",
       "      <td>38.5</td>\n",
       "      <td>32.8</td>\n",
       "      <td>13.1</td>\n",
       "      <td>838.0</td>\n",
       "      <td>9.3</td>\n",
       "      <td>61.7</td>\n",
       "      <td>682.6</td>\n",
       "      <td>84.4</td>\n",
       "      <td>19.144860</td>\n",
       "      <td>74.772047</td>\n",
       "    </tr>\n",
       "    <tr>\n",
       "      <th>2898</th>\n",
       "      <td>ROW2899</td>\n",
       "      <td>Matathwada</td>\n",
       "      <td>2014</td>\n",
       "      <td>1.4</td>\n",
       "      <td>13.4</td>\n",
       "      <td>79.0</td>\n",
       "      <td>11.9</td>\n",
       "      <td>7.0</td>\n",
       "      <td>30.4</td>\n",
       "      <td>105.0</td>\n",
       "      <td>...</td>\n",
       "      <td>14.2</td>\n",
       "      <td>19.9</td>\n",
       "      <td>3.3</td>\n",
       "      <td>548.9</td>\n",
       "      <td>14.8</td>\n",
       "      <td>97.9</td>\n",
       "      <td>398.8</td>\n",
       "      <td>37.4</td>\n",
       "      <td>19.103340</td>\n",
       "      <td>77.243971</td>\n",
       "    </tr>\n",
       "    <tr>\n",
       "      <th>3015</th>\n",
       "      <td>ROW3016</td>\n",
       "      <td>Vidarbha</td>\n",
       "      <td>2014</td>\n",
       "      <td>1.2</td>\n",
       "      <td>18.3</td>\n",
       "      <td>49.6</td>\n",
       "      <td>2.6</td>\n",
       "      <td>4.0</td>\n",
       "      <td>63.3</td>\n",
       "      <td>337.6</td>\n",
       "      <td>...</td>\n",
       "      <td>17.3</td>\n",
       "      <td>6.2</td>\n",
       "      <td>2.3</td>\n",
       "      <td>919.0</td>\n",
       "      <td>19.5</td>\n",
       "      <td>56.2</td>\n",
       "      <td>817.5</td>\n",
       "      <td>25.8</td>\n",
       "      <td>20.858507</td>\n",
       "      <td>79.276442</td>\n",
       "    </tr>\n",
       "    <tr>\n",
       "      <th>3132</th>\n",
       "      <td>ROW3133</td>\n",
       "      <td>Chhattisgarh</td>\n",
       "      <td>2014</td>\n",
       "      <td>2.3</td>\n",
       "      <td>29.0</td>\n",
       "      <td>21.4</td>\n",
       "      <td>17.3</td>\n",
       "      <td>25.0</td>\n",
       "      <td>104.9</td>\n",
       "      <td>416.7</td>\n",
       "      <td>...</td>\n",
       "      <td>77.9</td>\n",
       "      <td>2.6</td>\n",
       "      <td>1.1</td>\n",
       "      <td>1278.6</td>\n",
       "      <td>31.3</td>\n",
       "      <td>63.7</td>\n",
       "      <td>1102.0</td>\n",
       "      <td>81.6</td>\n",
       "      <td>21.663740</td>\n",
       "      <td>81.840640</td>\n",
       "    </tr>\n",
       "    <tr>\n",
       "      <th>3249</th>\n",
       "      <td>ROW3250</td>\n",
       "      <td>Coastal Andhra Pradesh</td>\n",
       "      <td>2014</td>\n",
       "      <td>0.4</td>\n",
       "      <td>1.2</td>\n",
       "      <td>9.1</td>\n",
       "      <td>6.0</td>\n",
       "      <td>112.9</td>\n",
       "      <td>45.7</td>\n",
       "      <td>151.8</td>\n",
       "      <td>...</td>\n",
       "      <td>195.6</td>\n",
       "      <td>23.7</td>\n",
       "      <td>6.4</td>\n",
       "      <td>875.1</td>\n",
       "      <td>1.6</td>\n",
       "      <td>128.0</td>\n",
       "      <td>519.8</td>\n",
       "      <td>225.7</td>\n",
       "      <td>17.538193</td>\n",
       "      <td>82.520110</td>\n",
       "    </tr>\n",
       "    <tr>\n",
       "      <th>3366</th>\n",
       "      <td>ROW3367</td>\n",
       "      <td>Telangana</td>\n",
       "      <td>2014</td>\n",
       "      <td>0.2</td>\n",
       "      <td>2.9</td>\n",
       "      <td>58.3</td>\n",
       "      <td>10.3</td>\n",
       "      <td>73.3</td>\n",
       "      <td>62.3</td>\n",
       "      <td>146.0</td>\n",
       "      <td>...</td>\n",
       "      <td>29.6</td>\n",
       "      <td>10.8</td>\n",
       "      <td>0.7</td>\n",
       "      <td>746.4</td>\n",
       "      <td>3.1</td>\n",
       "      <td>141.9</td>\n",
       "      <td>560.3</td>\n",
       "      <td>41.1</td>\n",
       "      <td>17.849590</td>\n",
       "      <td>79.115170</td>\n",
       "    </tr>\n",
       "    <tr>\n",
       "      <th>3483</th>\n",
       "      <td>ROW3484</td>\n",
       "      <td>Rayalseema</td>\n",
       "      <td>2014</td>\n",
       "      <td>0.2</td>\n",
       "      <td>0.7</td>\n",
       "      <td>12.5</td>\n",
       "      <td>5.1</td>\n",
       "      <td>46.7</td>\n",
       "      <td>66.3</td>\n",
       "      <td>68.7</td>\n",
       "      <td>...</td>\n",
       "      <td>104.6</td>\n",
       "      <td>37.8</td>\n",
       "      <td>12.8</td>\n",
       "      <td>551.9</td>\n",
       "      <td>0.9</td>\n",
       "      <td>64.3</td>\n",
       "      <td>331.5</td>\n",
       "      <td>155.2</td>\n",
       "      <td>14.571831</td>\n",
       "      <td>78.026702</td>\n",
       "    </tr>\n",
       "    <tr>\n",
       "      <th>3600</th>\n",
       "      <td>ROW3601</td>\n",
       "      <td>Tamil Nadu</td>\n",
       "      <td>2014</td>\n",
       "      <td>7.4</td>\n",
       "      <td>6.1</td>\n",
       "      <td>8.1</td>\n",
       "      <td>8.3</td>\n",
       "      <td>139.1</td>\n",
       "      <td>47.8</td>\n",
       "      <td>50.6</td>\n",
       "      <td>...</td>\n",
       "      <td>252.2</td>\n",
       "      <td>110.8</td>\n",
       "      <td>66.0</td>\n",
       "      <td>913.0</td>\n",
       "      <td>13.5</td>\n",
       "      <td>155.5</td>\n",
       "      <td>315.0</td>\n",
       "      <td>429.0</td>\n",
       "      <td>10.909430</td>\n",
       "      <td>78.366530</td>\n",
       "    </tr>\n",
       "    <tr>\n",
       "      <th>3717</th>\n",
       "      <td>ROW3718</td>\n",
       "      <td>Coastal Karnataka</td>\n",
       "      <td>2014</td>\n",
       "      <td>0.0</td>\n",
       "      <td>0.3</td>\n",
       "      <td>1.9</td>\n",
       "      <td>40.5</td>\n",
       "      <td>181.9</td>\n",
       "      <td>507.0</td>\n",
       "      <td>1155.4</td>\n",
       "      <td>...</td>\n",
       "      <td>226.4</td>\n",
       "      <td>40.0</td>\n",
       "      <td>30.8</td>\n",
       "      <td>3684.5</td>\n",
       "      <td>0.3</td>\n",
       "      <td>224.3</td>\n",
       "      <td>3162.7</td>\n",
       "      <td>297.2</td>\n",
       "      <td>13.843105</td>\n",
       "      <td>74.694856</td>\n",
       "    </tr>\n",
       "    <tr>\n",
       "      <th>3834</th>\n",
       "      <td>ROW3835</td>\n",
       "      <td>North Interior Karnataka</td>\n",
       "      <td>2014</td>\n",
       "      <td>0.0</td>\n",
       "      <td>6.1</td>\n",
       "      <td>29.2</td>\n",
       "      <td>26.4</td>\n",
       "      <td>93.0</td>\n",
       "      <td>50.4</td>\n",
       "      <td>136.8</td>\n",
       "      <td>...</td>\n",
       "      <td>80.3</td>\n",
       "      <td>25.0</td>\n",
       "      <td>14.1</td>\n",
       "      <td>756.7</td>\n",
       "      <td>6.1</td>\n",
       "      <td>148.6</td>\n",
       "      <td>482.6</td>\n",
       "      <td>119.4</td>\n",
       "      <td>16.200616</td>\n",
       "      <td>75.422200</td>\n",
       "    </tr>\n",
       "    <tr>\n",
       "      <th>3951</th>\n",
       "      <td>ROW3952</td>\n",
       "      <td>South Interior Karnataka</td>\n",
       "      <td>2014</td>\n",
       "      <td>0.4</td>\n",
       "      <td>2.4</td>\n",
       "      <td>17.7</td>\n",
       "      <td>46.7</td>\n",
       "      <td>130.5</td>\n",
       "      <td>106.8</td>\n",
       "      <td>271.6</td>\n",
       "      <td>...</td>\n",
       "      <td>152.9</td>\n",
       "      <td>20.2</td>\n",
       "      <td>18.7</td>\n",
       "      <td>1184.1</td>\n",
       "      <td>2.8</td>\n",
       "      <td>194.9</td>\n",
       "      <td>794.6</td>\n",
       "      <td>191.8</td>\n",
       "      <td>13.033110</td>\n",
       "      <td>77.311849</td>\n",
       "    </tr>\n",
       "    <tr>\n",
       "      <th>4068</th>\n",
       "      <td>ROW4069</td>\n",
       "      <td>Kerala</td>\n",
       "      <td>2014</td>\n",
       "      <td>4.6</td>\n",
       "      <td>10.3</td>\n",
       "      <td>17.9</td>\n",
       "      <td>95.7</td>\n",
       "      <td>251.0</td>\n",
       "      <td>454.4</td>\n",
       "      <td>677.8</td>\n",
       "      <td>...</td>\n",
       "      <td>355.5</td>\n",
       "      <td>99.5</td>\n",
       "      <td>47.2</td>\n",
       "      <td>3046.6</td>\n",
       "      <td>14.9</td>\n",
       "      <td>364.6</td>\n",
       "      <td>2164.9</td>\n",
       "      <td>502.2</td>\n",
       "      <td>10.352870</td>\n",
       "      <td>76.512040</td>\n",
       "    </tr>\n",
       "    <tr>\n",
       "      <th>4184</th>\n",
       "      <td>ROW4185</td>\n",
       "      <td>Lakshadweep</td>\n",
       "      <td>2014</td>\n",
       "      <td>53.2</td>\n",
       "      <td>16.1</td>\n",
       "      <td>4.4</td>\n",
       "      <td>14.9</td>\n",
       "      <td>57.4</td>\n",
       "      <td>244.1</td>\n",
       "      <td>116.1</td>\n",
       "      <td>...</td>\n",
       "      <td>169.2</td>\n",
       "      <td>59.0</td>\n",
       "      <td>62.3</td>\n",
       "      <td>1395.0</td>\n",
       "      <td>69.3</td>\n",
       "      <td>76.7</td>\n",
       "      <td>958.5</td>\n",
       "      <td>290.5</td>\n",
       "      <td>10.160618</td>\n",
       "      <td>73.518509</td>\n",
       "    </tr>\n",
       "  </tbody>\n",
       "</table>\n",
       "<p>36 rows × 22 columns</p>\n",
       "</div>"
      ],
      "text/plain": [
       "         Name                         SUBDIVISION  YEAR   JAN    FEB    MAR  \\\n",
       "108    ROW109           Andaman & Nicobar Islands  2014  41.9    8.6    0.0   \n",
       "207    ROW208                   Arunachal Pradesh  2014  19.0  101.9   80.3   \n",
       "324    ROW325                   Assam & Meghalaya  2014   2.0   28.3   29.3   \n",
       "441    ROW442              Naga Mani Mizo Tripura  2014   1.2   21.0   25.4   \n",
       "558    ROW559  Sub Himalayan West Bengal & Sikkim  2014   0.2   26.6   37.7   \n",
       "675    ROW676                Gangetic West Bengal  2014   0.9   42.2   19.9   \n",
       "792    ROW793                              Orissa  2014   0.0   17.6   25.1   \n",
       "909    ROW910                           Jharkhand  2014   9.9   47.5   22.9   \n",
       "1026  ROW1027                               Bihar  2014  17.0   33.5    8.4   \n",
       "1143  ROW1144                  East Uttar Pradesh  2014  47.4   25.8   15.4   \n",
       "1260  ROW1261                  West Uttar Pradesh  2014  48.3   29.4   22.6   \n",
       "1377  ROW1378                         Uttarakhand  2014  45.9   99.9   68.4   \n",
       "1494  ROW1495          Haryana Delhi & Chandigarh  2014  13.0   17.3   26.8   \n",
       "1611  ROW1612                              Punjab  2014  21.8   20.1   30.3   \n",
       "1728  ROW1729                    Himachal Pradesh  2014  69.6  124.9  125.2   \n",
       "1845  ROW1846                     Jammu & Kashmir  2014  75.8   64.0  153.1   \n",
       "1962  ROW1963                      West Rajasthan  2014   0.8    2.2    4.7   \n",
       "2079  ROW2080                      East Rajasthan  2014  28.4   10.0    6.4   \n",
       "2196  ROW2197                 West Madhya Pradesh  2014  25.6   34.4    4.6   \n",
       "2313  ROW2314                 East Madhya Pradesh  2014  32.1   49.7   17.8   \n",
       "2430  ROW2431                      Gujarat Region  2014   5.7    0.1    0.2   \n",
       "2547  ROW2548                  Saurashtra & Kutch  2014   0.3    0.0    0.1   \n",
       "2664  ROW2665                        Konkan & Goa  2014   1.3    5.3    1.8   \n",
       "2781  ROW2782                  Madhya Maharashtra  2014   3.1    6.2   24.4   \n",
       "2898  ROW2899                          Matathwada  2014   1.4   13.4   79.0   \n",
       "3015  ROW3016                            Vidarbha  2014   1.2   18.3   49.6   \n",
       "3132  ROW3133                        Chhattisgarh  2014   2.3   29.0   21.4   \n",
       "3249  ROW3250              Coastal Andhra Pradesh  2014   0.4    1.2    9.1   \n",
       "3366  ROW3367                           Telangana  2014   0.2    2.9   58.3   \n",
       "3483  ROW3484                          Rayalseema  2014   0.2    0.7   12.5   \n",
       "3600  ROW3601                          Tamil Nadu  2014   7.4    6.1    8.1   \n",
       "3717  ROW3718                   Coastal Karnataka  2014   0.0    0.3    1.9   \n",
       "3834  ROW3835            North Interior Karnataka  2014   0.0    6.1   29.2   \n",
       "3951  ROW3952            South Interior Karnataka  2014   0.4    2.4   17.7   \n",
       "4068  ROW4069                              Kerala  2014   4.6   10.3   17.9   \n",
       "4184  ROW4185                         Lakshadweep  2014  53.2   16.1    4.4   \n",
       "\n",
       "       APR    MAY    JUN     JUL  ...    OCT    NOV    DEC  ANNUAL  Jan-Feb  \\\n",
       "108   11.1  238.0  416.6   467.6  ...  402.6  201.2  100.4  2622.5     50.5   \n",
       "207   86.7  299.0  415.8   392.4  ...   35.1   20.1   10.2  2403.1    120.9   \n",
       "324   51.5  351.1  426.4   374.4  ...   35.0    3.0    0.4  2206.2     30.3   \n",
       "441   49.6  192.5  268.3   295.7  ...   69.6    3.3    0.1  1599.9     22.2   \n",
       "558   47.9  308.6  543.2   384.6  ...   31.2    5.3    2.4  2322.5     26.8   \n",
       "675    1.9  124.4  193.6   298.7  ...   56.9    0.1    0.6  1261.3     43.1   \n",
       "792   11.7  111.9   92.2   496.2  ...  111.8    2.2    0.9  1537.0     17.6   \n",
       "909    1.9   98.2  139.7   321.3  ...   44.9    0.0    1.2  1156.6     57.4   \n",
       "1026   0.7  103.9  115.2   265.4  ...   47.8    0.0    1.2  1061.0     50.5   \n",
       "1143   1.7   10.7   47.8   224.5  ...   74.7    0.0    8.4   701.2     73.2   \n",
       "1260   5.3   11.0   22.0   151.6  ...   14.6    0.0   16.3   486.8     77.7   \n",
       "1377  37.6   52.9   62.9   462.7  ...   40.8    0.0   44.3  1287.5    145.8   \n",
       "1494   7.5   20.3   25.9    72.3  ...   10.5    0.2    9.6   305.5     30.3   \n",
       "1611  24.5   20.8   20.6    76.3  ...    6.0    0.7   14.1   382.9     41.9   \n",
       "1728  60.6   68.9   51.7   203.6  ...   19.3    4.5   49.3  1008.9    194.5   \n",
       "1845  76.1   52.7   25.3   100.5  ...   32.2   14.1    2.3  1093.5    139.8   \n",
       "1962   8.4   23.0   13.8    94.3  ...    0.5    0.2    0.0   302.4      3.0   \n",
       "2079   7.3    8.4   23.5   197.1  ...    3.2    0.0    1.1   683.3     38.4   \n",
       "2196   1.4    1.4   30.6   337.4  ...    7.0    3.0   15.8   864.8     60.0   \n",
       "2313   5.1    2.5   91.8   283.4  ...   56.4    1.9   12.9   925.0     81.8   \n",
       "2430   1.0    1.3   11.6   307.5  ...    3.3    1.3    0.0   705.7      5.8   \n",
       "2547   0.5    2.1   17.3   137.7  ...    5.2    2.7    0.0   383.9      0.3   \n",
       "2664   0.7   21.3  238.2  1293.2  ...   98.7    8.0   11.7  2757.7      6.6   \n",
       "2781   7.5   29.8   44.0   277.9  ...   38.5   32.8   13.1   838.0      9.3   \n",
       "2898  11.9    7.0   30.4   105.0  ...   14.2   19.9    3.3   548.9     14.8   \n",
       "3015   2.6    4.0   63.3   337.6  ...   17.3    6.2    2.3   919.0     19.5   \n",
       "3132  17.3   25.0  104.9   416.7  ...   77.9    2.6    1.1  1278.6     31.3   \n",
       "3249   6.0  112.9   45.7   151.8  ...  195.6   23.7    6.4   875.1      1.6   \n",
       "3366  10.3   73.3   62.3   146.0  ...   29.6   10.8    0.7   746.4      3.1   \n",
       "3483   5.1   46.7   66.3    68.7  ...  104.6   37.8   12.8   551.9      0.9   \n",
       "3600   8.3  139.1   47.8    50.6  ...  252.2  110.8   66.0   913.0     13.5   \n",
       "3717  40.5  181.9  507.0  1155.4  ...  226.4   40.0   30.8  3684.5      0.3   \n",
       "3834  26.4   93.0   50.4   136.8  ...   80.3   25.0   14.1   756.7      6.1   \n",
       "3951  46.7  130.5  106.8   271.6  ...  152.9   20.2   18.7  1184.1      2.8   \n",
       "4068  95.7  251.0  454.4   677.8  ...  355.5   99.5   47.2  3046.6     14.9   \n",
       "4184  14.9   57.4  244.1   116.1  ...  169.2   59.0   62.3  1395.0     69.3   \n",
       "\n",
       "      Mar-May  June-September  Oct-Dec   Latitude  Longitude  \n",
       "108     249.1          1618.7    704.2  12.611240  92.831650  \n",
       "207     466.0          1750.8     65.4  28.093770  94.592130  \n",
       "324     431.9          1705.6     38.4  25.914603  91.844758  \n",
       "441     267.5          1237.2     73.0  24.776975  93.092095  \n",
       "558     394.2          1862.6     38.9  26.383897  88.161171  \n",
       "675     146.2          1014.4     57.6  24.586280  87.967976  \n",
       "792     148.7          1255.8    114.9  20.543120  84.689730  \n",
       "909     123.0           930.1     46.1  23.455980  85.255730  \n",
       "1026    113.0           848.5     49.0  25.644080  85.906510  \n",
       "1143     27.8           517.1     83.1  26.618724  82.868991  \n",
       "1260     38.9           339.3     30.9  27.713430  78.298678  \n",
       "1377    158.9           897.7     85.1  30.041740  79.089690  \n",
       "1494     54.6           200.3     20.3  29.455685  76.792433  \n",
       "1611     75.6           244.6     20.8  30.929320  75.500480  \n",
       "1728    254.7           486.6     73.1  31.816760  77.349320  \n",
       "1845    281.9           623.2     48.6  33.557450  75.061520  \n",
       "1962     36.1           262.6      0.7  26.815276  71.003402  \n",
       "2079     22.1           618.5      4.3  26.599363  76.782211  \n",
       "2196      7.4           771.6     25.8  22.919494  75.035783  \n",
       "2313     25.4           746.6     71.2  23.937614  81.111223  \n",
       "2430      2.5           692.8      4.6  23.059981  72.930975  \n",
       "2547      2.7           373.0      7.9  23.181228  70.568914  \n",
       "2664     23.8          2608.9    118.4  15.300450  74.085510  \n",
       "2781     61.7           682.6     84.4  19.144860  74.772047  \n",
       "2898     97.9           398.8     37.4  19.103340  77.243971  \n",
       "3015     56.2           817.5     25.8  20.858507  79.276442  \n",
       "3132     63.7          1102.0     81.6  21.663740  81.840640  \n",
       "3249    128.0           519.8    225.7  17.538193  82.520110  \n",
       "3366    141.9           560.3     41.1  17.849590  79.115170  \n",
       "3483     64.3           331.5    155.2  14.571831  78.026702  \n",
       "3600    155.5           315.0    429.0  10.909430  78.366530  \n",
       "3717    224.3          3162.7    297.2  13.843105  74.694856  \n",
       "3834    148.6           482.6    119.4  16.200616  75.422200  \n",
       "3951    194.9           794.6    191.8  13.033110  77.311849  \n",
       "4068    364.6          2164.9    502.2  10.352870  76.512040  \n",
       "4184     76.7           958.5    290.5  10.160618  73.518509  \n",
       "\n",
       "[36 rows x 22 columns]"
      ]
     },
     "execution_count": 6,
     "metadata": {},
     "output_type": "execute_result"
    }
   ],
   "source": [
    "data[data['YEAR'] == 2014]"
   ]
  },
  {
   "cell_type": "code",
   "execution_count": 11,
   "id": "8695f9b8",
   "metadata": {},
   "outputs": [],
   "source": [
    "hist_df1 = data[data['YEAR'] == 2014] # creating variable of for only those rows having year 2014\n",
    "hist_months = ['Jan-Feb', 'Mar-May','June-September','Oct-Dec']\n",
    "values1 = []\n",
    "for month in hist_months:\n",
    "    value1 = hist_df1[month].sum()\n",
    "    values1.append(value1)\n",
    "    \n",
    "hist_df2 = data[data['YEAR']== 2015]\n",
    "values2 = []\n",
    "for month in hist_months:\n",
    "    value2 = hist_df2[month].sum()\n",
    "    values2.append(values2)\n",
    "    \n",
    "hist_df3 = data[data['YEAR']== 2016]\n",
    "values3 = []\n",
    "for month in hist_months:\n",
    "    value3 = hist_df3[month].sum()\n",
    "    values3.append(values3)\n",
    "    \n",
    "hist_df4 = data[data['YEAR']== 2017]\n",
    "values4 = []\n",
    "for month in hist_months:\n",
    "    value4 = hist_df3[month].sum()\n",
    "    values4.append(value4)"
   ]
  },
  {
   "cell_type": "code",
   "execution_count": 26,
   "id": "39333324",
   "metadata": {},
   "outputs": [
    {
     "data": {
      "text/plain": [
       "[[...], [...], [...], [...]]"
      ]
     },
     "execution_count": 26,
     "metadata": {},
     "output_type": "execute_result"
    }
   ],
   "source": [
    "values2[1]"
   ]
  },
  {
   "cell_type": "code",
   "execution_count": 27,
   "id": "8a4ca9ff",
   "metadata": {},
   "outputs": [
    {
     "ename": "MemoryError",
     "evalue": "",
     "output_type": "error",
     "traceback": [
      "\u001b[1;31m---------------------------------------------------------------------------\u001b[0m",
      "\u001b[1;31mMemoryError\u001b[0m                               Traceback (most recent call last)",
      "\u001b[1;32m<ipython-input-27-0a406c06960c>\u001b[0m in \u001b[0;36m<module>\u001b[1;34m\u001b[0m\n\u001b[0;32m      5\u001b[0m \u001b[0mfig\u001b[0m\u001b[1;33m,\u001b[0m \u001b[0max\u001b[0m \u001b[1;33m=\u001b[0m \u001b[0mplt\u001b[0m\u001b[1;33m.\u001b[0m\u001b[0msubplots\u001b[0m\u001b[1;33m(\u001b[0m\u001b[1;33m)\u001b[0m\u001b[1;33m\u001b[0m\u001b[1;33m\u001b[0m\u001b[0m\n\u001b[0;32m      6\u001b[0m \u001b[0mrects1\u001b[0m \u001b[1;33m=\u001b[0m \u001b[0max\u001b[0m\u001b[1;33m.\u001b[0m\u001b[0mbar\u001b[0m\u001b[1;33m(\u001b[0m\u001b[0mx\u001b[0m \u001b[1;33m+\u001b[0m \u001b[0mwidth\u001b[0m\u001b[1;33m,\u001b[0m \u001b[0mvalues1\u001b[0m\u001b[1;33m,\u001b[0m \u001b[0mwidth\u001b[0m\u001b[1;33m,\u001b[0m \u001b[0mlabel\u001b[0m\u001b[1;33m=\u001b[0m\u001b[1;34m'2014'\u001b[0m\u001b[1;33m)\u001b[0m\u001b[1;33m\u001b[0m\u001b[1;33m\u001b[0m\u001b[0m\n\u001b[1;32m----> 7\u001b[1;33m \u001b[0mrects2\u001b[0m \u001b[1;33m=\u001b[0m \u001b[0max\u001b[0m\u001b[1;33m.\u001b[0m\u001b[0mbar\u001b[0m\u001b[1;33m(\u001b[0m\u001b[0mx\u001b[0m \u001b[1;33m-\u001b[0m \u001b[0mwidth\u001b[0m\u001b[1;33m,\u001b[0m \u001b[0mvalues2\u001b[0m\u001b[1;33m,\u001b[0m \u001b[0mwidth\u001b[0m\u001b[1;33m,\u001b[0m \u001b[0mlabel\u001b[0m\u001b[1;33m=\u001b[0m\u001b[1;34m'2015'\u001b[0m\u001b[1;33m)\u001b[0m\u001b[1;33m\u001b[0m\u001b[1;33m\u001b[0m\u001b[0m\n\u001b[0m\u001b[0;32m      8\u001b[0m \u001b[0mrects3\u001b[0m \u001b[1;33m=\u001b[0m \u001b[0max\u001b[0m\u001b[1;33m.\u001b[0m\u001b[0mbar\u001b[0m\u001b[1;33m(\u001b[0m\u001b[0mx\u001b[0m \u001b[1;33m+\u001b[0m \u001b[0mwidth\u001b[0m\u001b[1;33m*\u001b[0m\u001b[1;36m2\u001b[0m\u001b[1;33m,\u001b[0m \u001b[0mvalues3\u001b[0m\u001b[1;33m,\u001b[0m \u001b[0mwidth\u001b[0m\u001b[1;33m,\u001b[0m \u001b[0mlabel\u001b[0m\u001b[1;33m=\u001b[0m\u001b[1;34m'2016'\u001b[0m\u001b[1;33m)\u001b[0m\u001b[1;33m\u001b[0m\u001b[1;33m\u001b[0m\u001b[0m\n\u001b[0;32m      9\u001b[0m \u001b[0mrects4\u001b[0m \u001b[1;33m=\u001b[0m \u001b[0max\u001b[0m\u001b[1;33m.\u001b[0m\u001b[0mbar\u001b[0m\u001b[1;33m(\u001b[0m\u001b[0mx\u001b[0m\u001b[1;33m,\u001b[0m \u001b[0mvalues4\u001b[0m\u001b[1;33m,\u001b[0m \u001b[0mwidth\u001b[0m\u001b[1;33m,\u001b[0m \u001b[0mlabel\u001b[0m\u001b[1;33m=\u001b[0m\u001b[1;34m'2017'\u001b[0m\u001b[1;33m)\u001b[0m\u001b[1;33m\u001b[0m\u001b[1;33m\u001b[0m\u001b[0m\n",
      "\u001b[1;32m~\\anaconda3\\lib\\site-packages\\matplotlib\\__init__.py\u001b[0m in \u001b[0;36minner\u001b[1;34m(ax, data, *args, **kwargs)\u001b[0m\n\u001b[0;32m   1359\u001b[0m     \u001b[1;32mdef\u001b[0m \u001b[0minner\u001b[0m\u001b[1;33m(\u001b[0m\u001b[0max\u001b[0m\u001b[1;33m,\u001b[0m \u001b[1;33m*\u001b[0m\u001b[0margs\u001b[0m\u001b[1;33m,\u001b[0m \u001b[0mdata\u001b[0m\u001b[1;33m=\u001b[0m\u001b[1;32mNone\u001b[0m\u001b[1;33m,\u001b[0m \u001b[1;33m**\u001b[0m\u001b[0mkwargs\u001b[0m\u001b[1;33m)\u001b[0m\u001b[1;33m:\u001b[0m\u001b[1;33m\u001b[0m\u001b[1;33m\u001b[0m\u001b[0m\n\u001b[0;32m   1360\u001b[0m         \u001b[1;32mif\u001b[0m \u001b[0mdata\u001b[0m \u001b[1;32mis\u001b[0m \u001b[1;32mNone\u001b[0m\u001b[1;33m:\u001b[0m\u001b[1;33m\u001b[0m\u001b[1;33m\u001b[0m\u001b[0m\n\u001b[1;32m-> 1361\u001b[1;33m             \u001b[1;32mreturn\u001b[0m \u001b[0mfunc\u001b[0m\u001b[1;33m(\u001b[0m\u001b[0max\u001b[0m\u001b[1;33m,\u001b[0m \u001b[1;33m*\u001b[0m\u001b[0mmap\u001b[0m\u001b[1;33m(\u001b[0m\u001b[0msanitize_sequence\u001b[0m\u001b[1;33m,\u001b[0m \u001b[0margs\u001b[0m\u001b[1;33m)\u001b[0m\u001b[1;33m,\u001b[0m \u001b[1;33m**\u001b[0m\u001b[0mkwargs\u001b[0m\u001b[1;33m)\u001b[0m\u001b[1;33m\u001b[0m\u001b[1;33m\u001b[0m\u001b[0m\n\u001b[0m\u001b[0;32m   1362\u001b[0m \u001b[1;33m\u001b[0m\u001b[0m\n\u001b[0;32m   1363\u001b[0m         \u001b[0mbound\u001b[0m \u001b[1;33m=\u001b[0m \u001b[0mnew_sig\u001b[0m\u001b[1;33m.\u001b[0m\u001b[0mbind\u001b[0m\u001b[1;33m(\u001b[0m\u001b[0max\u001b[0m\u001b[1;33m,\u001b[0m \u001b[1;33m*\u001b[0m\u001b[0margs\u001b[0m\u001b[1;33m,\u001b[0m \u001b[1;33m**\u001b[0m\u001b[0mkwargs\u001b[0m\u001b[1;33m)\u001b[0m\u001b[1;33m\u001b[0m\u001b[1;33m\u001b[0m\u001b[0m\n",
      "\u001b[1;32m~\\anaconda3\\lib\\site-packages\\matplotlib\\axes\\_axes.py\u001b[0m in \u001b[0;36mbar\u001b[1;34m(self, x, height, width, bottom, align, **kwargs)\u001b[0m\n\u001b[0;32m   2302\u001b[0m                 \u001b[0myerr\u001b[0m \u001b[1;33m=\u001b[0m \u001b[0mself\u001b[0m\u001b[1;33m.\u001b[0m\u001b[0m_convert_dx\u001b[0m\u001b[1;33m(\u001b[0m\u001b[0myerr\u001b[0m\u001b[1;33m,\u001b[0m \u001b[0my0\u001b[0m\u001b[1;33m,\u001b[0m \u001b[0my\u001b[0m\u001b[1;33m,\u001b[0m \u001b[0mself\u001b[0m\u001b[1;33m.\u001b[0m\u001b[0mconvert_yunits\u001b[0m\u001b[1;33m)\u001b[0m\u001b[1;33m\u001b[0m\u001b[1;33m\u001b[0m\u001b[0m\n\u001b[0;32m   2303\u001b[0m \u001b[1;33m\u001b[0m\u001b[0m\n\u001b[1;32m-> 2304\u001b[1;33m         x, height, width, y, linewidth, hatch = np.broadcast_arrays(\n\u001b[0m\u001b[0;32m   2305\u001b[0m             \u001b[1;31m# Make args iterable too.\u001b[0m\u001b[1;33m\u001b[0m\u001b[1;33m\u001b[0m\u001b[1;33m\u001b[0m\u001b[0m\n\u001b[0;32m   2306\u001b[0m             np.atleast_1d(x), height, width, y, linewidth, hatch)\n",
      "\u001b[1;32m<__array_function__ internals>\u001b[0m in \u001b[0;36mbroadcast_arrays\u001b[1;34m(*args, **kwargs)\u001b[0m\n",
      "\u001b[1;32m~\\anaconda3\\lib\\site-packages\\numpy\\lib\\stride_tricks.py\u001b[0m in \u001b[0;36mbroadcast_arrays\u001b[1;34m(subok, *args)\u001b[0m\n\u001b[0;32m    534\u001b[0m     \u001b[1;31m#                  order='C').itviews\u001b[0m\u001b[1;33m\u001b[0m\u001b[1;33m\u001b[0m\u001b[1;33m\u001b[0m\u001b[0m\n\u001b[0;32m    535\u001b[0m \u001b[1;33m\u001b[0m\u001b[0m\n\u001b[1;32m--> 536\u001b[1;33m     \u001b[0margs\u001b[0m \u001b[1;33m=\u001b[0m \u001b[1;33m[\u001b[0m\u001b[0mnp\u001b[0m\u001b[1;33m.\u001b[0m\u001b[0marray\u001b[0m\u001b[1;33m(\u001b[0m\u001b[0m_m\u001b[0m\u001b[1;33m,\u001b[0m \u001b[0mcopy\u001b[0m\u001b[1;33m=\u001b[0m\u001b[1;32mFalse\u001b[0m\u001b[1;33m,\u001b[0m \u001b[0msubok\u001b[0m\u001b[1;33m=\u001b[0m\u001b[0msubok\u001b[0m\u001b[1;33m)\u001b[0m \u001b[1;32mfor\u001b[0m \u001b[0m_m\u001b[0m \u001b[1;32min\u001b[0m \u001b[0margs\u001b[0m\u001b[1;33m]\u001b[0m\u001b[1;33m\u001b[0m\u001b[1;33m\u001b[0m\u001b[0m\n\u001b[0m\u001b[0;32m    537\u001b[0m \u001b[1;33m\u001b[0m\u001b[0m\n\u001b[0;32m    538\u001b[0m     \u001b[0mshape\u001b[0m \u001b[1;33m=\u001b[0m \u001b[0m_broadcast_shape\u001b[0m\u001b[1;33m(\u001b[0m\u001b[1;33m*\u001b[0m\u001b[0margs\u001b[0m\u001b[1;33m)\u001b[0m\u001b[1;33m\u001b[0m\u001b[1;33m\u001b[0m\u001b[0m\n",
      "\u001b[1;32m~\\anaconda3\\lib\\site-packages\\numpy\\lib\\stride_tricks.py\u001b[0m in \u001b[0;36m<listcomp>\u001b[1;34m(.0)\u001b[0m\n\u001b[0;32m    534\u001b[0m     \u001b[1;31m#                  order='C').itviews\u001b[0m\u001b[1;33m\u001b[0m\u001b[1;33m\u001b[0m\u001b[1;33m\u001b[0m\u001b[0m\n\u001b[0;32m    535\u001b[0m \u001b[1;33m\u001b[0m\u001b[0m\n\u001b[1;32m--> 536\u001b[1;33m     \u001b[0margs\u001b[0m \u001b[1;33m=\u001b[0m \u001b[1;33m[\u001b[0m\u001b[0mnp\u001b[0m\u001b[1;33m.\u001b[0m\u001b[0marray\u001b[0m\u001b[1;33m(\u001b[0m\u001b[0m_m\u001b[0m\u001b[1;33m,\u001b[0m \u001b[0mcopy\u001b[0m\u001b[1;33m=\u001b[0m\u001b[1;32mFalse\u001b[0m\u001b[1;33m,\u001b[0m \u001b[0msubok\u001b[0m\u001b[1;33m=\u001b[0m\u001b[0msubok\u001b[0m\u001b[1;33m)\u001b[0m \u001b[1;32mfor\u001b[0m \u001b[0m_m\u001b[0m \u001b[1;32min\u001b[0m \u001b[0margs\u001b[0m\u001b[1;33m]\u001b[0m\u001b[1;33m\u001b[0m\u001b[1;33m\u001b[0m\u001b[0m\n\u001b[0m\u001b[0;32m    537\u001b[0m \u001b[1;33m\u001b[0m\u001b[0m\n\u001b[0;32m    538\u001b[0m     \u001b[0mshape\u001b[0m \u001b[1;33m=\u001b[0m \u001b[0m_broadcast_shape\u001b[0m\u001b[1;33m(\u001b[0m\u001b[1;33m*\u001b[0m\u001b[0margs\u001b[0m\u001b[1;33m)\u001b[0m\u001b[1;33m\u001b[0m\u001b[1;33m\u001b[0m\u001b[0m\n",
      "\u001b[1;31mMemoryError\u001b[0m: "
     ]
    },
    {
     "data": {
      "image/png": "[encoded data removed]",
      "text/plain": [
       "<Figure size 432x288 with 1 Axes>"
      ]
     },
     "metadata": {
      "needs_background": "light"
     },
     "output_type": "display_data"
    }
   ],
   "source": [
    "labels = hist_months\n",
    "x = np.arange(len(labels))  # the label locations\n",
    "width = 0.18  # the width of the bars\n",
    "\n",
    "fig, ax = plt.subplots()\n",
    "rects1 = ax.bar(x + width, values1, width, label='2014')\n",
    "rects2 = ax.bar(x - width, values2, width, label='2015')\n",
    "rects3 = ax.bar(x + width*2, values3, width, label='2016')\n",
    "rects4 = ax.bar(x, values4, width, label='2017')\n",
    "\n",
    "# Add some text for labels, title and custom x-axis tick labels, etc.\n",
    "ax.set_ylabel('Rainfall', fontsize = 20)\n",
    "ax.set_title('RAINFALL OVER MONTHS FROM 2014 TO 2017 IN INDIA', fontsize = 25)\n",
    "ax.set_xticks(x)\n",
    "ax.set_xticklabels(labels, fontsize = 20)\n",
    "ax.legend()\n",
    "\n",
    "fig.set_figheight(8)\n",
    "fig.set_figwidth(15)\n",
    "\n",
    "ax.bar_label(rects1, padding=2)\n",
    "ax.bar_label(rects2, padding=2)\n",
    "ax.bar_label(rects3, padding=2)\n",
    "ax.bar_label(rects4, padding=2)\n",
    "\n",
    "# fig.tight_layout()\n",
    "\n",
    "plt.show()"
   ]
  },
  {
   "cell_type": "code",
   "execution_count": null,
   "id": "b5cfab32",
   "metadata": {},
   "outputs": [],
   "source": []
  }
 ],
 "metadata": {
  "kernelspec": {
   "display_name": "Python 3",
   "language": "python",
   "name": "python3"
  },
  "language_info": {
   "codemirror_mode": {
    "name": "ipython",
    "version": 3
   },
   "file_extension": ".py",
   "mimetype": "text/x-python",
   "name": "python",
   "nbconvert_exporter": "python",
   "pygments_lexer": "ipython3",
   "version": "3.8.8"
  }
 },
 "nbformat": 4,
 "nbformat_minor": 5
}
