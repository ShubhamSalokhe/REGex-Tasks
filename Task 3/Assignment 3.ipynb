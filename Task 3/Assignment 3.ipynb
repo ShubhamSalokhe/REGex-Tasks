{
 "cells": [
  {
   "cell_type": "markdown",
   "id": "f06cebcb",
   "metadata": {},
   "source": [
    "## Task 3\n",
    "**REFERRAL CODE:** SIRSS2105\n",
    "**<br>SHUBHAM SALOKHE**"
   ]
  },
  {
   "cell_type": "markdown",
   "id": "bd7affcd",
   "metadata": {},
   "source": [
    "**1. Write a function to return nth term of Fibonacci sequence.**"
   ]
  },
  {
   "cell_type": "code",
   "execution_count": 1,
   "id": "7195c5da",
   "metadata": {},
   "outputs": [],
   "source": [
    "def num(n):\n",
    "    a = 0\n",
    "    b = 1\n",
    "    \n",
    "    if n ==1:\n",
    "        print(a)\n",
    "    elif n<=0:\n",
    "        print(\"negative number\",n)\n",
    "    else:\n",
    "        print(a)\n",
    "        print(b)\n",
    "        for i in range(2,n):\n",
    "            c= a+b\n",
    "            a = b\n",
    "            b = c\n",
    "            print(c)\n",
    "    \n",
    "        \n"
   ]
  },
  {
   "cell_type": "code",
   "execution_count": 6,
   "id": "f09907fc",
   "metadata": {},
   "outputs": [
    {
     "name": "stdout",
     "output_type": "stream",
     "text": [
      "0\n",
      "1\n",
      "1\n",
      "2\n",
      "3\n",
      "5\n"
     ]
    }
   ],
   "source": [
    "num(6)"
   ]
  },
  {
   "cell_type": "markdown",
   "id": "8ca5239b",
   "metadata": {},
   "source": [
    "**2. Write a function to find out GCD of two numbers using EUCLID'S algorithm.**"
   ]
  },
  {
   "cell_type": "code",
   "execution_count": 3,
   "id": "93047789",
   "metadata": {},
   "outputs": [
    {
     "data": {
      "text/plain": [
       "2"
      ]
     },
     "execution_count": 3,
     "metadata": {},
     "output_type": "execute_result"
    }
   ],
   "source": [
    "# 1st method\n",
    "import math\n",
    "math.gcd(20,34)"
   ]
  },
  {
   "cell_type": "code",
   "execution_count": 4,
   "id": "92685a96",
   "metadata": {},
   "outputs": [
    {
     "name": "stdout",
     "output_type": "stream",
     "text": [
      "First Number: 68\n",
      "Second Number: 46\n",
      "2\n"
     ]
    }
   ],
   "source": [
    "# 2nd method\n",
    "def ComputeGCD(a,b):\n",
    "    if b == 0:\n",
    "        return a\n",
    "    else:\n",
    "        return ComputeGCD(b,a%b)\n",
    "    \n",
    "num1 = int(input(\"First Number: \"))\n",
    "num2 = int(input(\"Second Number: \"))\n",
    "print(ComputeGCD(num1,num2))"
   ]
  },
  {
   "cell_type": "markdown",
   "id": "b92a5a2c",
   "metadata": {},
   "source": [
    "**3. Write a function to find LCM of two number in most optimizers way.**"
   ]
  },
  {
   "cell_type": "code",
   "execution_count": 5,
   "id": "069fda1e",
   "metadata": {},
   "outputs": [
    {
     "name": "stdout",
     "output_type": "stream",
     "text": [
      "Enter the first number:72\n",
      "Enter the second number:36\n",
      "LCM of 72 and 36 is 72\n"
     ]
    }
   ],
   "source": [
    "def Compute_LCM(n1,n2):\n",
    "    if n1>n2:\n",
    "        higher = n1\n",
    "    else:\n",
    "        higher = n2\n",
    "    value = higher \n",
    "    while True:\n",
    "        if higher%n1 == 0 and higher%n2 == 0:\n",
    "            print(\"LCM of\",n1,\"and\",n2,\"is\",higher )\n",
    "            break\n",
    "        else:\n",
    "            higher = higher + value\n",
    "n1 = int(input(\"Enter the first number:\"))\n",
    "n2 = int(input(\"Enter the second number:\"))\n",
    "Compute_LCM(n1,n2)"
   ]
  }
 ],
 "metadata": {
  "kernelspec": {
   "display_name": "Python 3",
   "language": "python",
   "name": "python3"
  },
  "language_info": {
   "codemirror_mode": {
    "name": "ipython",
    "version": 3
   },
   "file_extension": ".py",
   "mimetype": "text/x-python",
   "name": "python",
   "nbconvert_exporter": "python",
   "pygments_lexer": "ipython3",
   "version": "3.8.8"
  }
 },
 "nbformat": 4,
 "nbformat_minor": 5
}
